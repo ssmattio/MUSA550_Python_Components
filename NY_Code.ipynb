{
 "cells": [
  {
   "cell_type": "code",
   "execution_count": null,
   "metadata": {},
   "outputs": [],
   "source": [
    "import numpy as np\n",
    "from matplotlib import pyplot as plt\n",
    "import pandas as pd\n",
    "\n",
    "%matplotlib inline\n",
    "\n",
    "from matplotlib import pyplot as plt\n",
    "import numpy as np\n",
    "import pandas as pd\n",
    "import geopandas as gpd\n",
    "import hvplot.pandas\n",
    "\n",
    "from matplotlib import pyplot as plt\n",
    "import numpy as np\n",
    "import pandas as pd\n",
    "import geopandas as gpd\n",
    "import hvplot.pandas\n",
    "import esri2gpd\n",
    "import carto2gpd\n",
    "import seaborn as sns\n",
    "import geopandas as gpd\n",
    "import cenpy\n",
    "\n",
    "from sklearn.linear_model import LinearRegression\n",
    "from sklearn.ensemble import RandomForestRegressor\n",
    "from sklearn.model_selection import train_test_split, cross_val_score, GridSearchCV\n",
    "from sklearn.pipeline import make_pipeline\n",
    "from sklearn.preprocessing import StandardScaler, PolynomialFeatures\n",
    "from sklearn.compose import ColumnTransformer\n",
    "from sklearn.preprocessing import OneHotEncoder\n",
    "\n",
    "np.random.seed(42)"
   ]
  },
  {
   "cell_type": "code",
   "execution_count": null,
   "metadata": {},
   "outputs": [],
   "source": [
    "acs = cenpy.remote.APIConnection(\"ACSDT5Y2018\")"
   ]
  },
  {
   "cell_type": "code",
   "execution_count": null,
   "metadata": {},
   "outputs": [],
   "source": [
    "NPS = gpd.read_file(\"C:/Users/ssmat/Documents/NPS_-_National_Register_of_Historic_Places_Locations-shp/NPS_-_National_Register_of_Historic_Places_Locations.shp\")\n",
    "NPS.head()"
   ]
  },
  {
   "cell_type": "code",
   "execution_count": null,
   "metadata": {},
   "outputs": [],
   "source": [
    "NPS = NPS[NPS['Status']!='Removed']\n",
    "NPS = NPS[NPS['geometry'].isna() != True]"
   ]
  },
  {
   "cell_type": "code",
   "execution_count": null,
   "metadata": {},
   "outputs": [],
   "source": [
    "ny_state_code = \"36\"\n",
    "\n",
    "ny_variables = [\"NAME\", \"B01003_001E\",\"B02008_001E\",\"B23025_005E\",\"B23025_001E\",\"B29002_001E\",\"B29002_006E\",\"B29002_007E\",\n",
    "             \"B29002_008E\",\"B29003_001E\",\"B29003_002E\",\"B19001A_001E\",\"B19001A_016E\",\"B19001A_017E\",\"B08126_001E\",\"B08126_003E\"]"
   ]
  },
  {
   "cell_type": "code",
   "execution_count": null,
   "metadata": {},
   "outputs": [],
   "source": [
    "ny_data = acs.query(\n",
    "    cols=ny_variables,\n",
    "    geo_unit=\"county:*\",\n",
    "    geo_filter={\"state\": ny_state_code},\n",
    ")"
   ]
  },
  {
   "cell_type": "code",
   "execution_count": null,
   "metadata": {},
   "outputs": [],
   "source": [
    "for variable in variables:\n",
    "    \n",
    "    # Convert all variables EXCEPT for NAME\n",
    "    if variable != \"NAME\":\n",
    "        ny_data[variable] = ny_data[variable].astype(float)"
   ]
  },
  {
   "cell_type": "code",
   "execution_count": null,
   "metadata": {},
   "outputs": [],
   "source": [
    "# Convert to the data to floats\n",
    "for col in variables[1:]:\n",
    "    ny_data[col] = ny_data[col].astype(int)"
   ]
  },
  {
   "cell_type": "code",
   "execution_count": null,
   "metadata": {},
   "outputs": [],
   "source": [
    "ny_data.columns = ['NAME', 'POPULATION','WHITE','UNEMPLOYED','TOTAL_EMP',\"edu_total\",\"edu_1\",\"edu_2\",\"edu_3\",\n",
    "                       \"pov_tot\",\"pov_below\",\"inc_tot\",\"inc_high1\",\"inc_high2\",\"ind_tot\",\"ind_const\",'state', 'county']"
   ]
  },
  {
   "cell_type": "code",
   "execution_count": null,
   "metadata": {},
   "outputs": [],
   "source": [
    "ny_data['white_per'] = ny_data['WHITE'] / ny_data['POPULATION'] *100\n",
    "\n",
    "ny_data['unemployed_per'] = ny_data['UNEMPLOYED'] / ny_data['TOTAL_EMP'] *100\n",
    "\n",
    "ny_data['edu_WithDegree_per'] = (ny_data['edu_1'] + ny_data['edu_2'] + ny_data['edu_3']) / ny_data['edu_total'] *100\n",
    "\n",
    "ny_data['BelowPoverty_per'] = ny_data['pov_below'] / ny_data['pov_tot'] *100\n",
    "\n",
    "ny_data['Above150_inc_per'] = (ny_data['inc_high1'] + ny_data['inc_high2']) / ny_data['inc_tot'] *100\n",
    "\n",
    "ny_data['ind_const_per'] = ny_data['ind_const']  / ny_data['ind_tot'] *100\n",
    "\n",
    "ny_data = ny_data[['NAME', 'POPULATION','white_per','unemployed_per','edu_WithDegree_per',\n",
    "                           'BelowPoverty_per','Above150_inc_per','ind_const_per']]\n",
    "\n",
    "ny_data['NAME'] = ny_data['NAME'].str.upper()\n",
    "ny_data.head()"
   ]
  },
  {
   "cell_type": "code",
   "execution_count": null,
   "metadata": {},
   "outputs": [],
   "source": [
    "ny_data['NAME'] = ny_data['NAME'].str.replace(' COUNTY, NEW YORK', '').str.lower()\n",
    "ny_data.head()"
   ]
  },
  {
   "cell_type": "code",
   "execution_count": null,
   "metadata": {},
   "outputs": [],
   "source": [
    "NY_NPS = NPS.loc[NPS['State']=='NEW YORK']"
   ]
  },
  {
   "cell_type": "code",
   "execution_count": null,
   "metadata": {},
   "outputs": [],
   "source": [
    "NY_NPS['County'] = NY_NPS['County'].str.lower()"
   ]
  },
  {
   "cell_type": "code",
   "execution_count": null,
   "metadata": {},
   "outputs": [],
   "source": [
    "NY_NPS_grouped = NY_NPS.groupby('County').count().reset_index()\n",
    "NY_NPS_grouped.head()"
   ]
  },
  {
   "cell_type": "code",
   "execution_count": null,
   "metadata": {},
   "outputs": [],
   "source": [
    "NPS_ny_census = ny_data.merge(\n",
    "    NY_NPS_grouped,\n",
    "    left_on=[\"NAME\"],\n",
    "    right_on=[\"County\"],\n",
    ")\n",
    "\n",
    "NPS_ny_census.head()"
   ]
  },
  {
   "cell_type": "code",
   "execution_count": null,
   "metadata": {},
   "outputs": [],
   "source": [
    "NPS_ny_census['LISTINGS_PER_POP'] = NPS_ny_census['OBJECTID'] / NPS_ny_census['POPULATION']"
   ]
  },
  {
   "cell_type": "code",
   "execution_count": null,
   "metadata": {},
   "outputs": [],
   "source": [
    "NPS_ny_census = NPS_ny_census[['NAME','OBJECTID', 'LISTINGS_PER_POP','POPULATION','white_per','unemployed_per','edu_WithDegree_per',\n",
    "                           'BelowPoverty_per','Above150_inc_per','ind_const_per']]\n",
    "\n",
    "NPS_ny_census.columns = ['NAME', 'NPS_count', 'LISTINGS_PER_POP','POPULATION','white_per','unemployed_per','edu_WithDegree_per',\n",
    "                           'BelowPoverty_per','Above150_inc_per','ind_const_per']"
   ]
  },
  {
   "cell_type": "code",
   "execution_count": null,
   "metadata": {},
   "outputs": [],
   "source": [
    "NPS_ny_census = NPS_ny_census.reset_index()"
   ]
  },
  {
   "cell_type": "code",
   "execution_count": null,
   "metadata": {},
   "outputs": [],
   "source": [
    "# Linear model pipeline with two steps\n",
    "linear_pipe = make_pipeline(StandardScaler(), LinearRegression())\n",
    "\n",
    "# Fit the pipeline\n",
    "# NEW: This applies all of the transformations, and then fits the model\n",
    "print(\"Linear regression\")\n",
    "linear_pipe.fit(X_train, y_train)\n",
    "\n",
    "# NEW: Print the training score\n",
    "training_score = linear_pipe.score(X_train, y_train)\n",
    "print(f\"Training Score = {training_score}\")\n",
    "\n",
    "# NEW: Print the test score\n",
    "test_score = linear_pipe.score(X_test, y_test)\n",
    "print(f\"Test Score = {test_score}\")"
   ]
  },
  {
   "cell_type": "code",
   "execution_count": null,
   "metadata": {},
   "outputs": [],
   "source": [
    "# Setup the pipeline\n",
    "linear = make_pipeline(StandardScaler(), LinearRegression())\n",
    "\n",
    "# Fit on train set\n",
    "linear.fit(X_train, y_train)\n",
    "\n",
    "# Evaluate on test set\n",
    "evaluate(linear, X_test, y_test)"
   ]
  }
 ],
 "metadata": {
  "kernelspec": {
   "display_name": "Python 3",
   "language": "python",
   "name": "python3"
  },
  "language_info": {
   "codemirror_mode": {
    "name": "ipython",
    "version": 3
   },
   "file_extension": ".py",
   "mimetype": "text/x-python",
   "name": "python",
   "nbconvert_exporter": "python",
   "pygments_lexer": "ipython3",
   "version": "3.7.8"
  }
 },
 "nbformat": 4,
 "nbformat_minor": 4
}
