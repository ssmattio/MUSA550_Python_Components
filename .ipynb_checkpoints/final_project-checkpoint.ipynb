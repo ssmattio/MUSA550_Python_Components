{
 "cells": [
  {
   "cell_type": "code",
   "execution_count": 237,
   "metadata": {},
   "outputs": [],
   "source": [
    "import numpy as np\n",
    "from matplotlib import pyplot as plt\n",
    "import pandas as pd\n",
    "\n",
    "%matplotlib inline\n",
    "\n",
    "from matplotlib import pyplot as plt\n",
    "import numpy as np\n",
    "import pandas as pd\n",
    "import geopandas as gpd\n",
    "import hvplot.pandas\n",
    "\n",
    "from matplotlib import pyplot as plt\n",
    "import altair as alt\n",
    "import numpy as np\n",
    "import pandas as pd\n",
    "import geopandas as gpd\n",
    "import hvplot.pandas\n",
    "import esri2gpd\n",
    "import carto2gpd\n",
    "import seaborn as sns\n",
    "import geopandas as gpd\n",
    "import cenpy\n",
    "import seaborn as sns\n",
    "from sklearn.linear_model import LinearRegression\n",
    "from sklearn.ensemble import RandomForestRegressor\n",
    "from sklearn.linear_model import Ridge\n",
    "from sklearn.model_selection import train_test_split, cross_val_score, GridSearchCV\n",
    "from sklearn.pipeline import make_pipeline\n",
    "from sklearn.preprocessing import StandardScaler, PolynomialFeatures\n",
    "from sklearn.compose import ColumnTransformer\n",
    "from sklearn.preprocessing import OneHotEncoder\n",
    "from geopandas import GeoDataFrame\n",
    "np.random.seed(42)"
   ]
  },
  {
   "cell_type": "code",
   "execution_count": 199,
   "metadata": {},
   "outputs": [],
   "source": [
    "NPS = gpd.read_file(\"C:/Users/ssmat/Documents/NPS_-_National_Register_of_Historic_Places_Locations-shp/NPS_-_National_Register_of_Historic_Places_Locations.shp\")"
   ]
  },
  {
   "cell_type": "code",
   "execution_count": 200,
   "metadata": {},
   "outputs": [],
   "source": [
    "NPS = NPS[NPS['Status']!='Removed']\n",
    "NPS = NPS[NPS['geometry'].isna() != True]"
   ]
  },
  {
   "cell_type": "code",
   "execution_count": 201,
   "metadata": {},
   "outputs": [],
   "source": [
    "grped = NPS.groupby('State').count().reset_index()"
   ]
  },
  {
   "cell_type": "code",
   "execution_count": 202,
   "metadata": {},
   "outputs": [],
   "source": [
    "# Add census data\n",
    "acs = cenpy.remote.APIConnection(\"ACSDT5Y2018\")\n",
    "\n",
    "variables = [\"NAME\", \"B01003_001E\",\"B02008_001E\",\"B23025_005E\",\"B23025_001E\",\"B29002_001E\",\"B29002_006E\",\"B29002_007E\",\n",
    "             \"B29002_008E\",\"B29003_001E\",\"B29003_002E\",\"B19001A_001E\",\"B19001A_016E\",\"B19001A_017E\"]"
   ]
  },
  {
   "cell_type": "code",
   "execution_count": 203,
   "metadata": {},
   "outputs": [],
   "source": [
    "state_data = acs.query(\n",
    "    cols=variables,\n",
    "    geo_unit=\"state:*\",\n",
    ")"
   ]
  },
  {
   "cell_type": "code",
   "execution_count": 66,
   "metadata": {},
   "outputs": [
    {
     "data": {
      "text/html": [
       "<div>\n",
       "<style scoped>\n",
       "    .dataframe tbody tr th:only-of-type {\n",
       "        vertical-align: middle;\n",
       "    }\n",
       "\n",
       "    .dataframe tbody tr th {\n",
       "        vertical-align: top;\n",
       "    }\n",
       "\n",
       "    .dataframe thead th {\n",
       "        text-align: right;\n",
       "    }\n",
       "</style>\n",
       "<table border=\"1\" class=\"dataframe\">\n",
       "  <thead>\n",
       "    <tr style=\"text-align: right;\">\n",
       "      <th></th>\n",
       "      <th>NAME</th>\n",
       "      <th>B01003_001E</th>\n",
       "      <th>B02008_001E</th>\n",
       "      <th>B23025_005E</th>\n",
       "      <th>B23025_001E</th>\n",
       "      <th>B29002_001E</th>\n",
       "      <th>B29002_006E</th>\n",
       "      <th>B29002_007E</th>\n",
       "      <th>B29002_008E</th>\n",
       "      <th>B29003_001E</th>\n",
       "      <th>B29003_002E</th>\n",
       "      <th>B19001A_001E</th>\n",
       "      <th>B19001A_016E</th>\n",
       "      <th>B19001A_017E</th>\n",
       "      <th>B08126_001E</th>\n",
       "      <th>B08126_003E</th>\n",
       "      <th>state</th>\n",
       "    </tr>\n",
       "  </thead>\n",
       "  <tbody>\n",
       "    <tr>\n",
       "      <th>0</th>\n",
       "      <td>Minnesota</td>\n",
       "      <td>5527358</td>\n",
       "      <td>4749380</td>\n",
       "      <td>119218</td>\n",
       "      <td>4379008</td>\n",
       "      <td>4037295</td>\n",
       "      <td>449792</td>\n",
       "      <td>906921</td>\n",
       "      <td>427276</td>\n",
       "      <td>3940147</td>\n",
       "      <td>344323</td>\n",
       "      <td>1907876</td>\n",
       "      <td>143913</td>\n",
       "      <td>143086</td>\n",
       "      <td>2879806</td>\n",
       "      <td>169795</td>\n",
       "      <td>27</td>\n",
       "    </tr>\n",
       "    <tr>\n",
       "      <th>1</th>\n",
       "      <td>Mississippi</td>\n",
       "      <td>2988762</td>\n",
       "      <td>1786914</td>\n",
       "      <td>110036</td>\n",
       "      <td>2350291</td>\n",
       "      <td>2228659</td>\n",
       "      <td>206747</td>\n",
       "      <td>279446</td>\n",
       "      <td>161062</td>\n",
       "      <td>2145906</td>\n",
       "      <td>384612</td>\n",
       "      <td>677533</td>\n",
       "      <td>30865</td>\n",
       "      <td>26200</td>\n",
       "      <td>1215697</td>\n",
       "      <td>79742</td>\n",
       "      <td>28</td>\n",
       "    </tr>\n",
       "    <tr>\n",
       "      <th>2</th>\n",
       "      <td>Missouri</td>\n",
       "      <td>6090062</td>\n",
       "      <td>5151022</td>\n",
       "      <td>155958</td>\n",
       "      <td>4864065</td>\n",
       "      <td>4585994</td>\n",
       "      <td>351725</td>\n",
       "      <td>764086</td>\n",
       "      <td>434106</td>\n",
       "      <td>4437928</td>\n",
       "      <td>546197</td>\n",
       "      <td>2017917</td>\n",
       "      <td>101409</td>\n",
       "      <td>94795</td>\n",
       "      <td>2855663</td>\n",
       "      <td>177468</td>\n",
       "      <td>29</td>\n",
       "    </tr>\n",
       "    <tr>\n",
       "      <th>3</th>\n",
       "      <td>Montana</td>\n",
       "      <td>1041732</td>\n",
       "      <td>953454</td>\n",
       "      <td>22433</td>\n",
       "      <td>838808</td>\n",
       "      <td>804263</td>\n",
       "      <td>67717</td>\n",
       "      <td>154949</td>\n",
       "      <td>73265</td>\n",
       "      <td>784859</td>\n",
       "      <td>100735</td>\n",
       "      <td>390495</td>\n",
       "      <td>17329</td>\n",
       "      <td>16291</td>\n",
       "      <td>499849</td>\n",
       "      <td>39939</td>\n",
       "      <td>30</td>\n",
       "    </tr>\n",
       "    <tr>\n",
       "      <th>4</th>\n",
       "      <td>Nebraska</td>\n",
       "      <td>1904760</td>\n",
       "      <td>1709927</td>\n",
       "      <td>36545</td>\n",
       "      <td>1483161</td>\n",
       "      <td>1358786</td>\n",
       "      <td>138686</td>\n",
       "      <td>272444</td>\n",
       "      <td>125607</td>\n",
       "      <td>1315343</td>\n",
       "      <td>128655</td>\n",
       "      <td>681092</td>\n",
       "      <td>36510</td>\n",
       "      <td>32127</td>\n",
       "      <td>980914</td>\n",
       "      <td>66644</td>\n",
       "      <td>31</td>\n",
       "    </tr>\n",
       "  </tbody>\n",
       "</table>\n",
       "</div>"
      ],
      "text/plain": [
       "          NAME  B01003_001E  B02008_001E  B23025_005E  B23025_001E  \\\n",
       "0    Minnesota      5527358      4749380       119218      4379008   \n",
       "1  Mississippi      2988762      1786914       110036      2350291   \n",
       "2     Missouri      6090062      5151022       155958      4864065   \n",
       "3      Montana      1041732       953454        22433       838808   \n",
       "4     Nebraska      1904760      1709927        36545      1483161   \n",
       "\n",
       "   B29002_001E  B29002_006E  B29002_007E  B29002_008E  B29003_001E  \\\n",
       "0      4037295       449792       906921       427276      3940147   \n",
       "1      2228659       206747       279446       161062      2145906   \n",
       "2      4585994       351725       764086       434106      4437928   \n",
       "3       804263        67717       154949        73265       784859   \n",
       "4      1358786       138686       272444       125607      1315343   \n",
       "\n",
       "   B29003_002E  B19001A_001E  B19001A_016E  B19001A_017E  B08126_001E  \\\n",
       "0       344323       1907876        143913        143086      2879806   \n",
       "1       384612        677533         30865         26200      1215697   \n",
       "2       546197       2017917        101409         94795      2855663   \n",
       "3       100735        390495         17329         16291       499849   \n",
       "4       128655        681092         36510         32127       980914   \n",
       "\n",
       "   B08126_003E state  \n",
       "0       169795    27  \n",
       "1        79742    28  \n",
       "2       177468    29  \n",
       "3        39939    30  \n",
       "4        66644    31  "
      ]
     },
     "execution_count": 66,
     "metadata": {},
     "output_type": "execute_result"
    }
   ],
   "source": [
    "state_data.head()"
   ]
  },
  {
   "cell_type": "code",
   "execution_count": 204,
   "metadata": {},
   "outputs": [],
   "source": [
    "for variable in variables:\n",
    "    \n",
    "    # Convert all variables EXCEPT for NAME\n",
    "    if variable != \"NAME\":\n",
    "        state_data[variable] = state_data[variable].astype(float)"
   ]
  },
  {
   "cell_type": "code",
   "execution_count": 205,
   "metadata": {},
   "outputs": [],
   "source": [
    "# Convert to the data to floats\n",
    "for col in variables[1:]:\n",
    "    state_data[col] = state_data[col].astype(int)\n",
    "\n",
    "state_data.columns = ['NAME', 'POPULATION','WHITE','UNEMPLOYED','TOTAL_EMP',\"edu_total\",\"edu_1\",\"edu_2\",\"edu_3\",\n",
    "                       \"pov_tot\",\"pov_below\",\"inc_tot\",\"inc_high1\",\"inc_high2\",'state']"
   ]
  },
  {
   "cell_type": "code",
   "execution_count": 206,
   "metadata": {},
   "outputs": [],
   "source": [
    "state_data['white_per'] = state_data['WHITE'] / state_data['POPULATION'] *100\n",
    "\n",
    "state_data['unemployed_per'] = state_data['UNEMPLOYED'] / state_data['TOTAL_EMP'] *100\n",
    "\n",
    "state_data['edu_WithDegree_per'] = (state_data['edu_1'] + state_data['edu_2'] + state_data['edu_3']) / state_data['edu_total'] *100\n",
    "\n",
    "state_data['BelowPoverty_per'] = state_data['pov_below'] / state_data['pov_tot'] *100\n",
    "\n",
    "state_data['Above150_inc_per'] = (state_data['inc_high1'] + state_data['inc_high2']) / state_data['inc_tot'] *100\n",
    "\n",
    "state_data = state_data[['NAME', 'POPULATION','white_per','unemployed_per','edu_WithDegree_per',\n",
    "                           'BelowPoverty_per','Above150_inc_per']]"
   ]
  },
  {
   "cell_type": "code",
   "execution_count": 207,
   "metadata": {},
   "outputs": [],
   "source": [
    "state_data['NAME'] = state_data['NAME'].str.upper() "
   ]
  },
  {
   "cell_type": "code",
   "execution_count": 208,
   "metadata": {},
   "outputs": [],
   "source": [
    "NPS_census = state_data.merge(\n",
    "    grped,\n",
    "    left_on=[\"NAME\"],\n",
    "    right_on=[\"State\"],\n",
    ")"
   ]
  },
  {
   "cell_type": "code",
   "execution_count": 209,
   "metadata": {},
   "outputs": [],
   "source": [
    "NPS_census['LISTINGS_PER_POP'] = NPS_census['OBJECTID'] / NPS_census['POPULATION']"
   ]
  },
  {
   "cell_type": "code",
   "execution_count": 210,
   "metadata": {},
   "outputs": [],
   "source": [
    "NPS_census = NPS_census[['NAME','OBJECTID', 'LISTINGS_PER_POP','POPULATION','white_per','unemployed_per','edu_WithDegree_per',\n",
    "                           'BelowPoverty_per','Above150_inc_per']]\n",
    "\n",
    "NPS_census.columns = ['NAME', 'NPS_count', 'LISTINGS_PER_POP','POPULATION','white_per','unemployed_per','edu_WithDegree_per',\n",
    "                           'BelowPoverty_per','Above150_inc_per']"
   ]
  },
  {
   "cell_type": "code",
   "execution_count": 77,
   "metadata": {},
   "outputs": [
    {
     "data": {
      "text/html": [
       "<div>\n",
       "<style scoped>\n",
       "    .dataframe tbody tr th:only-of-type {\n",
       "        vertical-align: middle;\n",
       "    }\n",
       "\n",
       "    .dataframe tbody tr th {\n",
       "        vertical-align: top;\n",
       "    }\n",
       "\n",
       "    .dataframe thead th {\n",
       "        text-align: right;\n",
       "    }\n",
       "</style>\n",
       "<table border=\"1\" class=\"dataframe\">\n",
       "  <thead>\n",
       "    <tr style=\"text-align: right;\">\n",
       "      <th></th>\n",
       "      <th>NAME</th>\n",
       "      <th>NPS_count</th>\n",
       "      <th>LISTINGS_PER_POP</th>\n",
       "      <th>POPULATION</th>\n",
       "      <th>white_per</th>\n",
       "      <th>unemployed_per</th>\n",
       "      <th>edu_WithDegree_per</th>\n",
       "      <th>BelowPoverty_per</th>\n",
       "      <th>Above150_inc_per</th>\n",
       "    </tr>\n",
       "  </thead>\n",
       "  <tbody>\n",
       "    <tr>\n",
       "      <th>0</th>\n",
       "      <td>MINNESOTA</td>\n",
       "      <td>1370</td>\n",
       "      <td>0.000248</td>\n",
       "      <td>5527358</td>\n",
       "      <td>85.924957</td>\n",
       "      <td>2.722489</td>\n",
       "      <td>44.187730</td>\n",
       "      <td>8.738836</td>\n",
       "      <td>15.042854</td>\n",
       "    </tr>\n",
       "    <tr>\n",
       "      <th>1</th>\n",
       "      <td>MISSISSIPPI</td>\n",
       "      <td>888</td>\n",
       "      <td>0.000297</td>\n",
       "      <td>2988762</td>\n",
       "      <td>59.787765</td>\n",
       "      <td>4.681803</td>\n",
       "      <td>29.042352</td>\n",
       "      <td>17.923059</td>\n",
       "      <td>8.422468</td>\n",
       "    </tr>\n",
       "    <tr>\n",
       "      <th>2</th>\n",
       "      <td>MISSOURI</td>\n",
       "      <td>1672</td>\n",
       "      <td>0.000275</td>\n",
       "      <td>6090062</td>\n",
       "      <td>84.580781</td>\n",
       "      <td>3.206331</td>\n",
       "      <td>33.796752</td>\n",
       "      <td>12.307478</td>\n",
       "      <td>9.723096</td>\n",
       "    </tr>\n",
       "    <tr>\n",
       "      <th>3</th>\n",
       "      <td>MONTANA</td>\n",
       "      <td>894</td>\n",
       "      <td>0.000858</td>\n",
       "      <td>1041732</td>\n",
       "      <td>91.525843</td>\n",
       "      <td>2.674390</td>\n",
       "      <td>36.795302</td>\n",
       "      <td>12.834789</td>\n",
       "      <td>8.609585</td>\n",
       "    </tr>\n",
       "    <tr>\n",
       "      <th>4</th>\n",
       "      <td>NEBRASKA</td>\n",
       "      <td>789</td>\n",
       "      <td>0.000414</td>\n",
       "      <td>1904760</td>\n",
       "      <td>89.771257</td>\n",
       "      <td>2.463994</td>\n",
       "      <td>39.501217</td>\n",
       "      <td>9.781099</td>\n",
       "      <td>10.077493</td>\n",
       "    </tr>\n",
       "  </tbody>\n",
       "</table>\n",
       "</div>"
      ],
      "text/plain": [
       "          NAME  NPS_count  LISTINGS_PER_POP  POPULATION  white_per  \\\n",
       "0    MINNESOTA       1370          0.000248     5527358  85.924957   \n",
       "1  MISSISSIPPI        888          0.000297     2988762  59.787765   \n",
       "2     MISSOURI       1672          0.000275     6090062  84.580781   \n",
       "3      MONTANA        894          0.000858     1041732  91.525843   \n",
       "4     NEBRASKA        789          0.000414     1904760  89.771257   \n",
       "\n",
       "   unemployed_per  edu_WithDegree_per  BelowPoverty_per  Above150_inc_per  \n",
       "0        2.722489           44.187730          8.738836         15.042854  \n",
       "1        4.681803           29.042352         17.923059          8.422468  \n",
       "2        3.206331           33.796752         12.307478          9.723096  \n",
       "3        2.674390           36.795302         12.834789          8.609585  \n",
       "4        2.463994           39.501217          9.781099         10.077493  "
      ]
     },
     "execution_count": 77,
     "metadata": {},
     "output_type": "execute_result"
    }
   ],
   "source": [
    "NPS_census.head()"
   ]
  },
  {
   "cell_type": "code",
   "execution_count": 186,
   "metadata": {},
   "outputs": [
    {
     "data": {
      "text/html": [
       "<div>\n",
       "<style scoped>\n",
       "    .dataframe tbody tr th:only-of-type {\n",
       "        vertical-align: middle;\n",
       "    }\n",
       "\n",
       "    .dataframe tbody tr th {\n",
       "        vertical-align: top;\n",
       "    }\n",
       "\n",
       "    .dataframe thead th {\n",
       "        text-align: right;\n",
       "    }\n",
       "</style>\n",
       "<table border=\"1\" class=\"dataframe\">\n",
       "  <thead>\n",
       "    <tr style=\"text-align: right;\">\n",
       "      <th></th>\n",
       "      <th>NAME</th>\n",
       "      <th>NPS_count</th>\n",
       "      <th>LISTINGS_PER_POP</th>\n",
       "      <th>POPULATION</th>\n",
       "      <th>white_per</th>\n",
       "      <th>unemployed_per</th>\n",
       "      <th>edu_WithDegree_per</th>\n",
       "      <th>BelowPoverty_per</th>\n",
       "      <th>Above150_inc_per</th>\n",
       "    </tr>\n",
       "  </thead>\n",
       "  <tbody>\n",
       "    <tr>\n",
       "      <th>9</th>\n",
       "      <td>NEW YORK</td>\n",
       "      <td>4481</td>\n",
       "      <td>0.000228</td>\n",
       "      <td>19618453</td>\n",
       "      <td>66.13496</td>\n",
       "      <td>3.777809</td>\n",
       "      <td>43.542552</td>\n",
       "      <td>11.995018</td>\n",
       "      <td>19.973243</td>\n",
       "    </tr>\n",
       "  </tbody>\n",
       "</table>\n",
       "</div>"
      ],
      "text/plain": [
       "       NAME  NPS_count  LISTINGS_PER_POP  POPULATION  white_per  \\\n",
       "9  NEW YORK       4481          0.000228    19618453   66.13496   \n",
       "\n",
       "   unemployed_per  edu_WithDegree_per  BelowPoverty_per  Above150_inc_per  \n",
       "9        3.777809           43.542552         11.995018         19.973243  "
      ]
     },
     "execution_count": 186,
     "metadata": {},
     "output_type": "execute_result"
    }
   ],
   "source": [
    "ny_stats =  NPS_census.loc[NPS_census['NAME']=='NEW YORK']\n",
    "ny_stats.head()"
   ]
  },
  {
   "cell_type": "code",
   "execution_count": 211,
   "metadata": {},
   "outputs": [
    {
     "data": {
      "text/plain": [
       "Connection to American Community Survey: 1-Year Estimates: Detailed Tables 5-Year(ID: https://api.census.gov/data/id/ACSDT5Y2018)\n",
       "With MapServer: Census Current (2018) WMS"
      ]
     },
     "execution_count": 211,
     "metadata": {},
     "output_type": "execute_result"
    }
   ],
   "source": [
    "acs.set_mapservice(\"tigerWMS_ACS2018\")"
   ]
  },
  {
   "cell_type": "code",
   "execution_count": 212,
   "metadata": {},
   "outputs": [
    {
     "name": "stderr",
     "output_type": "stream",
     "text": [
      "C:\\Users\\ssmat\\miniconda3\\envs\\musa-550-fall-2020\\lib\\site-packages\\pyproj\\crs\\crs.py:53: FutureWarning: '+init=<authority>:<code>' syntax is deprecated. '<authority>:<code>' is the preferred initialization method. When making the change, be mindful of axis order changes: https://pyproj4.github.io/pyproj/stable/gotchas.html#axis-order-changes-in-proj-6\n",
      "  return _prepare_from_string(\" \".join(pjargs))\n"
     ]
    }
   ],
   "source": [
    "# Query for states\n",
    "all_states = acs.mapservice.layers[84].query(where=\"1=1\")"
   ]
  },
  {
   "cell_type": "code",
   "execution_count": 213,
   "metadata": {},
   "outputs": [
    {
     "data": {
      "text/html": [
       "<div>\n",
       "<style scoped>\n",
       "    .dataframe tbody tr th:only-of-type {\n",
       "        vertical-align: middle;\n",
       "    }\n",
       "\n",
       "    .dataframe tbody tr th {\n",
       "        vertical-align: top;\n",
       "    }\n",
       "\n",
       "    .dataframe thead th {\n",
       "        text-align: right;\n",
       "    }\n",
       "</style>\n",
       "<table border=\"1\" class=\"dataframe\">\n",
       "  <thead>\n",
       "    <tr style=\"text-align: right;\">\n",
       "      <th></th>\n",
       "      <th>NAME</th>\n",
       "      <th>geometry</th>\n",
       "    </tr>\n",
       "  </thead>\n",
       "  <tbody>\n",
       "    <tr>\n",
       "      <th>0</th>\n",
       "      <td>DELAWARE</td>\n",
       "      <td>POLYGON ((-8433572.860 4764277.969, -8433575.8...</td>\n",
       "    </tr>\n",
       "    <tr>\n",
       "      <th>1</th>\n",
       "      <td>NEW MEXICO</td>\n",
       "      <td>POLYGON ((-11800569.118 4438447.089, -11800457...</td>\n",
       "    </tr>\n",
       "    <tr>\n",
       "      <th>2</th>\n",
       "      <td>CALIFORNIA</td>\n",
       "      <td>MULTIPOLYGON (((-13818818.759 5081091.495, -13...</td>\n",
       "    </tr>\n",
       "    <tr>\n",
       "      <th>3</th>\n",
       "      <td>NEW JERSEY</td>\n",
       "      <td>POLYGON ((-8370067.985 4952313.911, -8370086.4...</td>\n",
       "    </tr>\n",
       "    <tr>\n",
       "      <th>4</th>\n",
       "      <td>WISCONSIN</td>\n",
       "      <td>POLYGON ((-10340141.000 5723505.920, -10340101...</td>\n",
       "    </tr>\n",
       "  </tbody>\n",
       "</table>\n",
       "</div>"
      ],
      "text/plain": [
       "         NAME                                           geometry\n",
       "0    DELAWARE  POLYGON ((-8433572.860 4764277.969, -8433575.8...\n",
       "1  NEW MEXICO  POLYGON ((-11800569.118 4438447.089, -11800457...\n",
       "2  CALIFORNIA  MULTIPOLYGON (((-13818818.759 5081091.495, -13...\n",
       "3  NEW JERSEY  POLYGON ((-8370067.985 4952313.911, -8370086.4...\n",
       "4   WISCONSIN  POLYGON ((-10340141.000 5723505.920, -10340101..."
      ]
     },
     "execution_count": 213,
     "metadata": {},
     "output_type": "execute_result"
    }
   ],
   "source": [
    "all_states = all_states[['NAME', 'geometry']]\n",
    "all_states['NAME'] = all_states['NAME'].str.upper() \n",
    "all_states.head()"
   ]
  },
  {
   "cell_type": "code",
   "execution_count": 219,
   "metadata": {},
   "outputs": [],
   "source": [
    "# Split the data 70/30\n",
    "train_set, test_set = train_test_split(NPS_census, \n",
    "                                       test_size=0.3, \n",
    "                                       random_state=42)\n",
    "\n",
    "\n",
    "# the target labels: log of sale price\n",
    "y_train = np.log(train_set[\"NPS_count\"])\n",
    "y_test = np.log(test_set[\"NPS_count\"])\n",
    "\n",
    "# The features\n",
    "num_cols = [\n",
    "    \"POPULATION\",\n",
    "    \"white_per\",\n",
    "    \"unemployed_per\",\n",
    "    \"edu_WithDegree_per\",\n",
    "    \"BelowPoverty_per\",\n",
    "    \"Above150_inc_per\",\n",
    "]\n",
    "\n",
    "X_train = train_set[num_cols].values\n",
    "X_test = test_set[num_cols].values"
   ]
  },
  {
   "cell_type": "code",
   "execution_count": 220,
   "metadata": {},
   "outputs": [
    {
     "data": {
      "text/plain": [
       "0.13135479696033459"
      ]
     },
     "execution_count": 220,
     "metadata": {},
     "output_type": "execute_result"
    }
   ],
   "source": [
    "# Make a linear model pipeline\n",
    "linear_pipeline = make_pipeline(StandardScaler(), LinearRegression())\n",
    "\n",
    "# Fit on the training data\n",
    "linear_pipeline.fit(X_train, y_train)\n",
    "\n",
    "# What's the test score?\n",
    "linear_pipeline.score(X_test, y_test)"
   ]
  },
  {
   "cell_type": "code",
   "execution_count": 221,
   "metadata": {},
   "outputs": [
    {
     "name": "stdout",
     "output_type": "stream",
     "text": [
      "R^2 scores =  [ 0.68580286  0.3889235   0.42349024  0.48111395 -2.27683836  0.71298146\n",
      " -4.84152679 -0.03699293  0.45952657 -0.38348345]\n",
      "Scores mean =  -0.43870029567125834\n",
      "Score std dev =  1.6911573559545223\n"
     ]
    }
   ],
   "source": [
    "# Make a random forest pipeline\n",
    "forest_pipeline = make_pipeline(\n",
    "    StandardScaler(), RandomForestRegressor(n_estimators=100, random_state=42)\n",
    ")\n",
    "\n",
    "# Run the 10-fold cross validation\n",
    "scores = cross_val_score(\n",
    "    forest_pipeline,\n",
    "    X_train,\n",
    "    y_train,\n",
    "    cv=10,\n",
    ")\n",
    "\n",
    "# Report\n",
    "print(\"R^2 scores = \", scores)\n",
    "print(\"Scores mean = \", scores.mean())\n",
    "print(\"Score std dev = \", scores.std())"
   ]
  },
  {
   "cell_type": "code",
   "execution_count": 222,
   "metadata": {},
   "outputs": [
    {
     "data": {
      "text/plain": [
       "0.31285025774522934"
      ]
     },
     "execution_count": 222,
     "metadata": {},
     "output_type": "execute_result"
    }
   ],
   "source": [
    "# Fit on the training data\n",
    "forest_pipeline.fit(X_train, y_train)\n",
    "\n",
    "# What's the test score? R-squared\n",
    "forest_pipeline.score(X_test, y_test)"
   ]
  },
  {
   "cell_type": "code",
   "execution_count": 223,
   "metadata": {},
   "outputs": [
    {
     "data": {
      "text/plain": [
       "0.31285025774522934"
      ]
     },
     "execution_count": 223,
     "metadata": {},
     "output_type": "execute_result"
    }
   ],
   "source": [
    "# One-hot encoding in scikit learn\n",
    "\n",
    "from sklearn.compose import ColumnTransformer\n",
    "\n",
    "transformer = ColumnTransformer(\n",
    "    transformers=[\n",
    "        (\"num\", StandardScaler(), num_cols),\n",
    "    ]\n",
    ")\n",
    "\n",
    "pipe = make_pipeline(\n",
    "    transformer, RandomForestRegressor(n_estimators=100, \n",
    "                                       random_state=42)\n",
    ")\n",
    "\n",
    "# Fit the training set\n",
    "pipe.fit(train_set, y_train);\n",
    "\n",
    "# What's the test score?\n",
    "pipe.score(test_set, y_test)\n",
    "\n",
    "##it is the same because we don't have categorical data. Just making sure we are not missing a step."
   ]
  },
  {
   "cell_type": "code",
   "execution_count": 224,
   "metadata": {},
   "outputs": [
    {
     "data": {
      "text/plain": [
       "{'randomforestregressor__max_depth': 2,\n",
       " 'randomforestregressor__n_estimators': 5}"
      ]
     },
     "execution_count": 224,
     "metadata": {},
     "output_type": "execute_result"
    }
   ],
   "source": [
    "# making predictions:\n",
    "\n",
    "model_name = \"randomforestregressor\"\n",
    "param_grid = {\n",
    "    f\"{model_name}__n_estimators\": [5, 10, 15, 20, 30],\n",
    "    f\"{model_name}__max_depth\": [None, 2, 5, 7, 9, 13],\n",
    "}\n",
    "\n",
    "# Create the grid and use 5-fold CV\n",
    "grid = GridSearchCV(pipe, param_grid, cv=5)\n",
    "\n",
    "# Run the search\n",
    "grid.fit(train_set, y_train);\n",
    "\n",
    "grid.best_params_"
   ]
  },
  {
   "cell_type": "code",
   "execution_count": 225,
   "metadata": {},
   "outputs": [],
   "source": [
    "X = NPS_census.loc[test_set.index]"
   ]
  },
  {
   "cell_type": "code",
   "execution_count": 226,
   "metadata": {},
   "outputs": [],
   "source": [
    "# Predictions for log of total trip counts\n",
    "log_predictions = grid.best_estimator_.predict(test_set)\n",
    "\n",
    "# Convert the predicted test values from log\n",
    "X['prediction'] = np.exp(log_predictions)"
   ]
  },
  {
   "cell_type": "code",
   "execution_count": 227,
   "metadata": {},
   "outputs": [],
   "source": [
    "# now I want to test the % error:\n",
    "\n",
    "def evaluate(model, X_test, y_test):\n",
    "    \"\"\"\n",
    "    Given a model and test features/targets, print out the \n",
    "    mean absolute error and accuracy\n",
    "    \"\"\"\n",
    "    # Make the predictions\n",
    "    predictions = model.predict(X_test)\n",
    "\n",
    "    # Absolute error\n",
    "    errors = abs(predictions - y_test)\n",
    "    avg_error = np.mean(errors)\n",
    "\n",
    "    # Mean absolute percentage error\n",
    "    mape = 100 * np.mean(errors / y_test)\n",
    "\n",
    "    # Accuracy\n",
    "    accuracy = 100 - mape\n",
    "\n",
    "    print(\"Model Performance\")\n",
    "    print(f\"Average Absolute Error: {avg_error:0.4f}\")\n",
    "    print(f\"Accuracy = {accuracy:0.2f}%.\")\n",
    "\n",
    "    return accuracy"
   ]
  },
  {
   "cell_type": "code",
   "execution_count": 230,
   "metadata": {},
   "outputs": [
    {
     "name": "stdout",
     "output_type": "stream",
     "text": [
      "Model Performance\n",
      "Average Absolute Error: 0.5129\n",
      "Accuracy = 92.23%.\n"
     ]
    },
    {
     "data": {
      "text/plain": [
       "92.23020743233143"
      ]
     },
     "execution_count": 230,
     "metadata": {},
     "output_type": "execute_result"
    }
   ],
   "source": [
    "# Evaluate on test set\n",
    "evaluate(grid.best_estimator_, test_set, y_test)"
   ]
  },
  {
   "cell_type": "code",
   "execution_count": 231,
   "metadata": {},
   "outputs": [],
   "source": [
    "# to create a column with % error\n",
    "\n",
    "X[\"abs_error\"] = (X[\"NPS_count\"] - X[\"prediction\"]).abs()"
   ]
  },
  {
   "cell_type": "code",
   "execution_count": 232,
   "metadata": {},
   "outputs": [
    {
     "name": "stdout",
     "output_type": "stream",
     "text": [
      "Model Performance\n",
      "Average Absolute Error: 0.5129\n",
      "Accuracy = 92.23%.\n"
     ]
    },
    {
     "data": {
      "text/plain": [
       "92.23020743233143"
      ]
     },
     "execution_count": 232,
     "metadata": {},
     "output_type": "execute_result"
    }
   ],
   "source": [
    "# Evaluate on test set\n",
    "evaluate(grid.best_estimator_, test_set, y_test)"
   ]
  },
  {
   "cell_type": "code",
   "execution_count": 233,
   "metadata": {},
   "outputs": [],
   "source": [
    "X[\"per_error\"] = X[\"abs_error\"]/X[\"NPS_count\"]*100"
   ]
  },
  {
   "cell_type": "code",
   "execution_count": 234,
   "metadata": {
    "collapsed": true,
    "jupyter": {
     "outputs_hidden": true
    }
   },
   "outputs": [
    {
     "data": {
      "text/html": [
       "<div>\n",
       "<style scoped>\n",
       "    .dataframe tbody tr th:only-of-type {\n",
       "        vertical-align: middle;\n",
       "    }\n",
       "\n",
       "    .dataframe tbody tr th {\n",
       "        vertical-align: top;\n",
       "    }\n",
       "\n",
       "    .dataframe thead th {\n",
       "        text-align: right;\n",
       "    }\n",
       "</style>\n",
       "<table border=\"1\" class=\"dataframe\">\n",
       "  <thead>\n",
       "    <tr style=\"text-align: right;\">\n",
       "      <th></th>\n",
       "      <th>NAME</th>\n",
       "      <th>geometry</th>\n",
       "      <th>NPS_count</th>\n",
       "      <th>LISTINGS_PER_POP</th>\n",
       "      <th>POPULATION</th>\n",
       "      <th>white_per</th>\n",
       "      <th>unemployed_per</th>\n",
       "      <th>edu_WithDegree_per</th>\n",
       "      <th>BelowPoverty_per</th>\n",
       "      <th>Above150_inc_per</th>\n",
       "      <th>prediction</th>\n",
       "      <th>abs_error</th>\n",
       "      <th>per_error</th>\n",
       "    </tr>\n",
       "  </thead>\n",
       "  <tbody>\n",
       "    <tr>\n",
       "      <th>0</th>\n",
       "      <td>NEW MEXICO</td>\n",
       "      <td>POLYGON ((-11800569.118 4438447.089, -11800457...</td>\n",
       "      <td>621</td>\n",
       "      <td>0.000297</td>\n",
       "      <td>2092434</td>\n",
       "      <td>77.117749</td>\n",
       "      <td>4.129199</td>\n",
       "      <td>33.525436</td>\n",
       "      <td>16.637527</td>\n",
       "      <td>8.847192</td>\n",
       "      <td>767.837349</td>\n",
       "      <td>146.837349</td>\n",
       "      <td>23.645306</td>\n",
       "    </tr>\n",
       "    <tr>\n",
       "      <th>1</th>\n",
       "      <td>WISCONSIN</td>\n",
       "      <td>POLYGON ((-10340141.000 5723505.920, -10340101...</td>\n",
       "      <td>1788</td>\n",
       "      <td>0.000309</td>\n",
       "      <td>5778394</td>\n",
       "      <td>87.750057</td>\n",
       "      <td>2.689803</td>\n",
       "      <td>37.567537</td>\n",
       "      <td>10.398669</td>\n",
       "      <td>10.132417</td>\n",
       "      <td>1309.687152</td>\n",
       "      <td>478.312848</td>\n",
       "      <td>26.751278</td>\n",
       "    </tr>\n",
       "    <tr>\n",
       "      <th>2</th>\n",
       "      <td>NEBRASKA</td>\n",
       "      <td>POLYGON ((-11583087.346 5161245.484, -11583086...</td>\n",
       "      <td>789</td>\n",
       "      <td>0.000414</td>\n",
       "      <td>1904760</td>\n",
       "      <td>89.771257</td>\n",
       "      <td>2.463994</td>\n",
       "      <td>39.501217</td>\n",
       "      <td>9.781099</td>\n",
       "      <td>10.077493</td>\n",
       "      <td>1063.026655</td>\n",
       "      <td>274.026655</td>\n",
       "      <td>34.730881</td>\n",
       "    </tr>\n",
       "    <tr>\n",
       "      <th>3</th>\n",
       "      <td>LOUISIANA</td>\n",
       "      <td>POLYGON ((-10249066.406 3896364.550, -10249007...</td>\n",
       "      <td>1129</td>\n",
       "      <td>0.000242</td>\n",
       "      <td>4663616</td>\n",
       "      <td>63.935860</td>\n",
       "      <td>4.074247</td>\n",
       "      <td>27.398142</td>\n",
       "      <td>16.597788</td>\n",
       "      <td>11.793275</td>\n",
       "      <td>1143.617807</td>\n",
       "      <td>14.617807</td>\n",
       "      <td>1.294757</td>\n",
       "    </tr>\n",
       "    <tr>\n",
       "      <th>4</th>\n",
       "      <td>OHIO</td>\n",
       "      <td>POLYGON ((-9440254.719 5010777.407, -9440253.7...</td>\n",
       "      <td>3150</td>\n",
       "      <td>0.000271</td>\n",
       "      <td>11641879</td>\n",
       "      <td>84.072176</td>\n",
       "      <td>3.677700</td>\n",
       "      <td>33.432183</td>\n",
       "      <td>12.450188</td>\n",
       "      <td>10.216980</td>\n",
       "      <td>1451.830334</td>\n",
       "      <td>1698.169666</td>\n",
       "      <td>53.910148</td>\n",
       "    </tr>\n",
       "  </tbody>\n",
       "</table>\n",
       "</div>"
      ],
      "text/plain": [
       "         NAME                                           geometry  NPS_count  \\\n",
       "0  NEW MEXICO  POLYGON ((-11800569.118 4438447.089, -11800457...        621   \n",
       "1   WISCONSIN  POLYGON ((-10340141.000 5723505.920, -10340101...       1788   \n",
       "2    NEBRASKA  POLYGON ((-11583087.346 5161245.484, -11583086...        789   \n",
       "3   LOUISIANA  POLYGON ((-10249066.406 3896364.550, -10249007...       1129   \n",
       "4        OHIO  POLYGON ((-9440254.719 5010777.407, -9440253.7...       3150   \n",
       "\n",
       "   LISTINGS_PER_POP  POPULATION  white_per  unemployed_per  \\\n",
       "0          0.000297     2092434  77.117749        4.129199   \n",
       "1          0.000309     5778394  87.750057        2.689803   \n",
       "2          0.000414     1904760  89.771257        2.463994   \n",
       "3          0.000242     4663616  63.935860        4.074247   \n",
       "4          0.000271    11641879  84.072176        3.677700   \n",
       "\n",
       "   edu_WithDegree_per  BelowPoverty_per  Above150_inc_per   prediction  \\\n",
       "0           33.525436         16.637527          8.847192   767.837349   \n",
       "1           37.567537         10.398669         10.132417  1309.687152   \n",
       "2           39.501217          9.781099         10.077493  1063.026655   \n",
       "3           27.398142         16.597788         11.793275  1143.617807   \n",
       "4           33.432183         12.450188         10.216980  1451.830334   \n",
       "\n",
       "     abs_error  per_error  \n",
       "0   146.837349  23.645306  \n",
       "1   478.312848  26.751278  \n",
       "2   274.026655  34.730881  \n",
       "3    14.617807   1.294757  \n",
       "4  1698.169666  53.910148  "
      ]
     },
     "execution_count": 234,
     "metadata": {},
     "output_type": "execute_result"
    }
   ],
   "source": [
    "X = all_states.merge(X, left_on='NAME', right_on='NAME')\n",
    "X.head()"
   ]
  },
  {
   "cell_type": "code",
   "execution_count": 235,
   "metadata": {},
   "outputs": [],
   "source": [
    "X_4326 = X.to_crs(epsg=4326)"
   ]
  },
  {
   "cell_type": "code",
   "execution_count": 238,
   "metadata": {},
   "outputs": [],
   "source": [
    "states_4326 = all_states.to_crs(epsg=4326)\n",
    "\n",
    "states_plot = alt.Chart(states_4326).mark_geoshape(stroke=\"grey\",fill=None).encode().properties(\n",
    "    width=325,\n",
    "    height=200\n",
    ").project('albersUsa')"
   ]
  },
  {
   "cell_type": "markdown",
   "metadata": {},
   "source": [
    "### Which variables were most important?"
   ]
  },
  {
   "cell_type": "code",
   "execution_count": 166,
   "metadata": {
    "collapsed": true,
    "jupyter": {
     "outputs_hidden": true
    }
   },
   "outputs": [
    {
     "data": {},
     "metadata": {},
     "output_type": "display_data"
    },
    {
     "data": {
      "application/vnd.holoviews_exec.v0+json": "",
      "text/html": [
       "<div id='1979'>\n",
       "\n",
       "\n",
       "\n",
       "\n",
       "\n",
       "  <div class=\"bk-root\" id=\"4d3647f2-927f-46d1-a894-93622e67b641\" data-root-id=\"1979\"></div>\n",
       "</div>\n",
       "<script type=\"application/javascript\">(function(root) {\n",
       "  function embed_document(root) {\n",
       "  var docs_json = {\"85992289-c8ed-4e09-ad5c-93461425fd95\":{\"roots\":{\"references\":[{\"attributes\":{\"children\":[{\"id\":\"1980\"},{\"id\":\"1984\"},{\"id\":\"2041\"}],\"margin\":[0,0,0,0],\"name\":\"Row03323\",\"tags\":[\"embedded\"]},\"id\":\"1979\",\"type\":\"Row\"},{\"attributes\":{\"axis\":{\"id\":\"1993\"},\"grid_line_color\":null,\"ticker\":null},\"id\":\"1996\",\"type\":\"Grid\"},{\"attributes\":{\"data_source\":{\"id\":\"2013\"},\"glyph\":{\"id\":\"2016\"},\"hover_glyph\":null,\"muted_glyph\":{\"id\":\"2018\"},\"nonselection_glyph\":{\"id\":\"2017\"},\"selection_glyph\":null,\"view\":{\"id\":\"2020\"}},\"id\":\"2019\",\"type\":\"GlyphRenderer\"},{\"attributes\":{\"overlay\":{\"id\":\"2005\"}},\"id\":\"2003\",\"type\":\"BoxZoomTool\"},{\"attributes\":{\"data\":{\"Feature\":[\"Above150_inc_per\",\"BelowPoverty_per\",\"white_per\",\"unemployed_per\",\"edu_WithDegree_per\",\"POPULATION\"],\"Importance\":{\"__ndarray__\":\"/M4H/kv0qz8kwonIp3ivP/Z1JoXfQrE/vU8o9TpZsT/cmMFy/mK8Pxzb9KVNaeQ/\",\"dtype\":\"float64\",\"order\":\"little\",\"shape\":[6]}},\"selected\":{\"id\":\"2014\"},\"selection_policy\":{\"id\":\"2031\"}},\"id\":\"2013\",\"type\":\"ColumnDataSource\"},{\"attributes\":{},\"id\":\"1989\",\"type\":\"LinearScale\"},{\"attributes\":{},\"id\":\"1998\",\"type\":\"CategoricalTicker\"},{\"attributes\":{\"margin\":[5,5,5,5],\"name\":\"HSpacer03328\",\"sizing_mode\":\"stretch_width\"},\"id\":\"2041\",\"type\":\"Spacer\"},{\"attributes\":{\"callback\":null,\"renderers\":[{\"id\":\"2019\"}],\"tags\":[\"hv_created\"],\"tooltips\":[[\"Feature\",\"@{Feature}\"],[\"Importance\",\"@{Importance}\"]]},\"id\":\"1983\",\"type\":\"HoverTool\"},{\"attributes\":{},\"id\":\"2014\",\"type\":\"Selection\"},{\"attributes\":{\"end\":0.6961800280295769,\"reset_end\":0.6961800280295769,\"reset_start\":0.0,\"tags\":[[[\"Importance\",\"Importance\",null]]]},\"id\":\"1981\",\"type\":\"Range1d\"},{\"attributes\":{\"align\":null,\"below\":[{\"id\":\"1993\"}],\"center\":[{\"id\":\"1996\"},{\"id\":\"1999\"}],\"left\":[{\"id\":\"1997\"}],\"margin\":null,\"min_border_bottom\":10,\"min_border_left\":10,\"min_border_right\":10,\"min_border_top\":10,\"plot_height\":300,\"plot_width\":700,\"renderers\":[{\"id\":\"2019\"}],\"sizing_mode\":\"fixed\",\"title\":{\"id\":\"1985\"},\"toolbar\":{\"id\":\"2006\"},\"x_range\":{\"id\":\"1981\"},\"x_scale\":{\"id\":\"1989\"},\"y_range\":{\"id\":\"1982\"},\"y_scale\":{\"id\":\"1991\"}},\"id\":\"1984\",\"subtype\":\"Figure\",\"type\":\"Plot\"},{\"attributes\":{},\"id\":\"1991\",\"type\":\"CategoricalScale\"},{\"attributes\":{\"fill_alpha\":{\"value\":0.1},\"fill_color\":{\"value\":\"#1f77b3\"},\"height\":{\"value\":0.8},\"line_alpha\":{\"value\":0.1},\"right\":{\"field\":\"Importance\"},\"y\":{\"field\":\"Feature\"}},\"id\":\"2017\",\"type\":\"HBar\"},{\"attributes\":{},\"id\":\"2004\",\"type\":\"ResetTool\"},{\"attributes\":{\"fill_alpha\":{\"value\":0.2},\"fill_color\":{\"value\":\"#1f77b3\"},\"height\":{\"value\":0.8},\"line_alpha\":{\"value\":0.2},\"right\":{\"field\":\"Importance\"},\"y\":{\"field\":\"Feature\"}},\"id\":\"2018\",\"type\":\"HBar\"},{\"attributes\":{},\"id\":\"2023\",\"type\":\"CategoricalTickFormatter\"},{\"attributes\":{\"source\":{\"id\":\"2013\"}},\"id\":\"2020\",\"type\":\"CDSView\"},{\"attributes\":{},\"id\":\"2002\",\"type\":\"WheelZoomTool\"},{\"attributes\":{},\"id\":\"2021\",\"type\":\"BasicTickFormatter\"},{\"attributes\":{\"text\":\"\",\"text_color\":{\"value\":\"black\"},\"text_font_size\":{\"value\":\"12pt\"}},\"id\":\"1985\",\"type\":\"Title\"},{\"attributes\":{\"factors\":[\"Above150_inc_per\",\"BelowPoverty_per\",\"white_per\",\"unemployed_per\",\"edu_WithDegree_per\",\"POPULATION\"],\"tags\":[[[\"Feature\",\"Feature\",null]]]},\"id\":\"1982\",\"type\":\"FactorRange\"},{\"attributes\":{\"margin\":[5,5,5,5],\"name\":\"HSpacer03327\",\"sizing_mode\":\"stretch_width\"},\"id\":\"1980\",\"type\":\"Spacer\"},{\"attributes\":{},\"id\":\"2000\",\"type\":\"SaveTool\"},{\"attributes\":{\"axis_label\":\"Feature\",\"bounds\":\"auto\",\"formatter\":{\"id\":\"2023\"},\"major_label_orientation\":\"horizontal\",\"ticker\":{\"id\":\"1998\"}},\"id\":\"1997\",\"type\":\"CategoricalAxis\"},{\"attributes\":{},\"id\":\"2001\",\"type\":\"PanTool\"},{\"attributes\":{\"bottom_units\":\"screen\",\"fill_alpha\":0.5,\"fill_color\":\"lightgrey\",\"left_units\":\"screen\",\"level\":\"overlay\",\"line_alpha\":1.0,\"line_color\":\"black\",\"line_dash\":[4,4],\"line_width\":2,\"right_units\":\"screen\",\"top_units\":\"screen\"},\"id\":\"2005\",\"type\":\"BoxAnnotation\"},{\"attributes\":{\"fill_color\":{\"value\":\"#1f77b3\"},\"height\":{\"value\":0.8},\"right\":{\"field\":\"Importance\"},\"y\":{\"field\":\"Feature\"}},\"id\":\"2016\",\"type\":\"HBar\"},{\"attributes\":{},\"id\":\"2031\",\"type\":\"UnionRenderers\"},{\"attributes\":{\"axis\":{\"id\":\"1997\"},\"dimension\":1,\"grid_line_color\":null,\"ticker\":null},\"id\":\"1999\",\"type\":\"Grid\"},{\"attributes\":{\"axis_label\":\"Importance\",\"bounds\":\"auto\",\"formatter\":{\"id\":\"2021\"},\"major_label_orientation\":\"horizontal\",\"ticker\":{\"id\":\"1994\"}},\"id\":\"1993\",\"type\":\"LinearAxis\"},{\"attributes\":{\"active_drag\":\"auto\",\"active_inspect\":\"auto\",\"active_multi\":null,\"active_scroll\":\"auto\",\"active_tap\":\"auto\",\"tools\":[{\"id\":\"1983\"},{\"id\":\"2000\"},{\"id\":\"2001\"},{\"id\":\"2002\"},{\"id\":\"2003\"},{\"id\":\"2004\"}]},\"id\":\"2006\",\"type\":\"Toolbar\"},{\"attributes\":{},\"id\":\"1994\",\"type\":\"BasicTicker\"}],\"root_ids\":[\"1979\"]},\"title\":\"Bokeh Application\",\"version\":\"2.1.1\"}};\n",
       "  var render_items = [{\"docid\":\"85992289-c8ed-4e09-ad5c-93461425fd95\",\"root_ids\":[\"1979\"],\"roots\":{\"1979\":\"4d3647f2-927f-46d1-a894-93622e67b641\"}}];\n",
       "  root.Bokeh.embed.embed_items_notebook(docs_json, render_items);\n",
       "  }\n",
       "if (root.Bokeh !== undefined) {\n",
       "    embed_document(root);\n",
       "  } else {\n",
       "    var attempts = 0;\n",
       "    var timer = setInterval(function(root) {\n",
       "      if (root.Bokeh !== undefined) {\n",
       "        clearInterval(timer);\n",
       "        embed_document(root);\n",
       "      } else if (document.readyState == \"complete\") {\n",
       "        attempts++;\n",
       "        if (attempts > 100) {\n",
       "          clearInterval(timer);\n",
       "          console.log(\"Bokeh: ERROR: Unable to run BokehJS code because BokehJS library is missing\");\n",
       "        }\n",
       "      }\n",
       "    }, 10, root)\n",
       "  }\n",
       "})(window);</script>"
      ],
      "text/plain": [
       ":Bars   [Feature]   (Importance)"
      ]
     },
     "execution_count": 166,
     "metadata": {
      "application/vnd.holoviews_exec.v0+json": {
       "id": "1979"
      }
     },
     "output_type": "execute_result"
    }
   ],
   "source": [
    "# Create the data frame of importances\n",
    "importance = pd.DataFrame(\n",
    "    {\"Feature\": feature_cols, \"Importance\": forest_model.feature_importances_}\n",
    ").sort_values(\"Importance\")\n",
    "\n",
    "\n",
    "importance.hvplot.barh(x=\"Feature\", y=\"Importance\")"
   ]
  },
  {
   "cell_type": "code",
   "execution_count": 167,
   "metadata": {},
   "outputs": [
    {
     "data": {
      "text/html": [
       "<div>\n",
       "<style scoped>\n",
       "    .dataframe tbody tr th:only-of-type {\n",
       "        vertical-align: middle;\n",
       "    }\n",
       "\n",
       "    .dataframe tbody tr th {\n",
       "        vertical-align: top;\n",
       "    }\n",
       "\n",
       "    .dataframe thead th {\n",
       "        text-align: right;\n",
       "    }\n",
       "</style>\n",
       "<table border=\"1\" class=\"dataframe\">\n",
       "  <thead>\n",
       "    <tr style=\"text-align: right;\">\n",
       "      <th></th>\n",
       "      <th>Feature</th>\n",
       "      <th>Importance</th>\n",
       "    </tr>\n",
       "  </thead>\n",
       "  <tbody>\n",
       "    <tr>\n",
       "      <th>0</th>\n",
       "      <td>POPULATION</td>\n",
       "      <td>0.637854</td>\n",
       "    </tr>\n",
       "    <tr>\n",
       "      <th>3</th>\n",
       "      <td>edu_WithDegree_per</td>\n",
       "      <td>0.110886</td>\n",
       "    </tr>\n",
       "    <tr>\n",
       "      <th>2</th>\n",
       "      <td>unemployed_per</td>\n",
       "      <td>0.067768</td>\n",
       "    </tr>\n",
       "    <tr>\n",
       "      <th>1</th>\n",
       "      <td>white_per</td>\n",
       "      <td>0.067427</td>\n",
       "    </tr>\n",
       "    <tr>\n",
       "      <th>4</th>\n",
       "      <td>BelowPoverty_per</td>\n",
       "      <td>0.061467</td>\n",
       "    </tr>\n",
       "    <tr>\n",
       "      <th>5</th>\n",
       "      <td>Above150_inc_per</td>\n",
       "      <td>0.054598</td>\n",
       "    </tr>\n",
       "  </tbody>\n",
       "</table>\n",
       "</div>"
      ],
      "text/plain": [
       "              Feature  Importance\n",
       "0          POPULATION    0.637854\n",
       "3  edu_WithDegree_per    0.110886\n",
       "2      unemployed_per    0.067768\n",
       "1           white_per    0.067427\n",
       "4    BelowPoverty_per    0.061467\n",
       "5    Above150_inc_per    0.054598"
      ]
     },
     "execution_count": 167,
     "metadata": {},
     "output_type": "execute_result"
    }
   ],
   "source": [
    "importance = importance.sort_values(\"Importance\", ascending=False).iloc[:30]\n",
    "importance.head(n=7)"
   ]
  }
 ],
 "metadata": {
  "kernelspec": {
   "display_name": "Python 3",
   "language": "python",
   "name": "python3"
  },
  "language_info": {
   "codemirror_mode": {
    "name": "ipython",
    "version": 3
   },
   "file_extension": ".py",
   "mimetype": "text/x-python",
   "name": "python",
   "nbconvert_exporter": "python",
   "pygments_lexer": "ipython3",
   "version": "3.7.8"
  }
 },
 "nbformat": 4,
 "nbformat_minor": 4
}
