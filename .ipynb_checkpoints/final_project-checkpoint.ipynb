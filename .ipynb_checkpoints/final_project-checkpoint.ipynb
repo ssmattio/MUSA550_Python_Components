{
 "cells": [
  {
   "cell_type": "code",
   "execution_count": 36,
   "metadata": {},
   "outputs": [],
   "source": [
    "import numpy as np\n",
    "from matplotlib import pyplot as plt\n",
    "import pandas as pd\n",
    "\n",
    "%matplotlib inline\n",
    "\n",
    "from matplotlib import pyplot as plt\n",
    "import numpy as np\n",
    "import pandas as pd\n",
    "import geopandas as gpd\n",
    "import hvplot.pandas\n",
    "\n",
    "from matplotlib import pyplot as plt\n",
    "import numpy as np\n",
    "import pandas as pd\n",
    "import geopandas as gpd\n",
    "import hvplot.pandas\n",
    "import esri2gpd\n",
    "import carto2gpd\n",
    "import seaborn as sns\n",
    "import geopandas as gpd\n",
    "import cenpy\n",
    "\n",
    "from sklearn.linear_model import LinearRegression\n",
    "from sklearn.ensemble import RandomForestRegressor\n",
    "from sklearn.linear_model import Ridge\n",
    "from sklearn.model_selection import train_test_split, cross_val_score, GridSearchCV\n",
    "from sklearn.pipeline import make_pipeline\n",
    "from sklearn.preprocessing import StandardScaler, PolynomialFeatures\n",
    "from sklearn.compose import ColumnTransformer\n",
    "from sklearn.preprocessing import OneHotEncoder\n",
    "\n",
    "np.random.seed(42)"
   ]
  },
  {
   "cell_type": "code",
   "execution_count": 2,
   "metadata": {
    "collapsed": true,
    "jupyter": {
     "outputs_hidden": true
    }
   },
   "outputs": [
    {
     "data": {
      "text/html": [
       "<div>\n",
       "<style scoped>\n",
       "    .dataframe tbody tr th:only-of-type {\n",
       "        vertical-align: middle;\n",
       "    }\n",
       "\n",
       "    .dataframe tbody tr th {\n",
       "        vertical-align: top;\n",
       "    }\n",
       "\n",
       "    .dataframe thead th {\n",
       "        text-align: right;\n",
       "    }\n",
       "</style>\n",
       "<table border=\"1\" class=\"dataframe\">\n",
       "  <thead>\n",
       "    <tr style=\"text-align: right;\">\n",
       "      <th></th>\n",
       "      <th>OBJECTID</th>\n",
       "      <th>NRIS_Refnu</th>\n",
       "      <th>PROPERTY_I</th>\n",
       "      <th>RESNAME</th>\n",
       "      <th>ResType</th>\n",
       "      <th>Address</th>\n",
       "      <th>City</th>\n",
       "      <th>County</th>\n",
       "      <th>State</th>\n",
       "      <th>Vicinity</th>\n",
       "      <th>...</th>\n",
       "      <th>SOURCE</th>\n",
       "      <th>SRC_DATE</th>\n",
       "      <th>SRC_SCALE</th>\n",
       "      <th>SRC_ACCU</th>\n",
       "      <th>SRC_COORD</th>\n",
       "      <th>ORIGINATOR</th>\n",
       "      <th>CONSTRANT</th>\n",
       "      <th>CR_ID</th>\n",
       "      <th>GEOM_ID</th>\n",
       "      <th>geometry</th>\n",
       "    </tr>\n",
       "  </thead>\n",
       "  <tbody>\n",
       "    <tr>\n",
       "      <th>0</th>\n",
       "      <td>1</td>\n",
       "      <td>82004903</td>\n",
       "      <td>82004903</td>\n",
       "      <td>Walker-Broderick House</td>\n",
       "      <td>Building</td>\n",
       "      <td>541 Pine St.</td>\n",
       "      <td>Ketchikan</td>\n",
       "      <td>Ketchikan Gateway</td>\n",
       "      <td>ALASKA</td>\n",
       "      <td>None</td>\n",
       "      <td>...</td>\n",
       "      <td>National Register of Historic Places -- Nation...</td>\n",
       "      <td>1982-08-31</td>\n",
       "      <td>1:24000</td>\n",
       "      <td>+/- 12 meters</td>\n",
       "      <td>Coordinates are typically provided in UTM form...</td>\n",
       "      <td>National Register of Historic Places -- Nation...</td>\n",
       "      <td>Extant status and datum information for resour...</td>\n",
       "      <td>{5B428330-08FF-46F7-867D-35C3A84FDF0F}</td>\n",
       "      <td>{D6FD98D4-BE9E-4C31-9F3D-095AFFCFEEB1}</td>\n",
       "      <td>POINT (-131.64676 55.34455)</td>\n",
       "    </tr>\n",
       "    <tr>\n",
       "      <th>1</th>\n",
       "      <td>2</td>\n",
       "      <td>87000716</td>\n",
       "      <td>87000716</td>\n",
       "      <td>First Lutheran Church</td>\n",
       "      <td>Building</td>\n",
       "      <td>1200 Tongass Ave.</td>\n",
       "      <td>Ketchikan</td>\n",
       "      <td>Ketchikan Gateway</td>\n",
       "      <td>ALASKA</td>\n",
       "      <td>None</td>\n",
       "      <td>...</td>\n",
       "      <td>National Register of Historic Places -- Nation...</td>\n",
       "      <td>1987-05-18</td>\n",
       "      <td>1:24000</td>\n",
       "      <td>+/- 12 meters</td>\n",
       "      <td>Coordinates are typically provided in UTM form...</td>\n",
       "      <td>National Register of Historic Places -- Nation...</td>\n",
       "      <td>Extant status and datum information for resour...</td>\n",
       "      <td>{4B2E47FE-717C-4956-B460-2CA535A72A41}</td>\n",
       "      <td>{CE99B08D-903E-4DEC-8247-BA95F9A6C1C9}</td>\n",
       "      <td>POINT (-131.65777 55.34521)</td>\n",
       "    </tr>\n",
       "    <tr>\n",
       "      <th>2</th>\n",
       "      <td>3</td>\n",
       "      <td>87000645</td>\n",
       "      <td>87000645</td>\n",
       "      <td>Ketchikan Ranger House</td>\n",
       "      <td>Building</td>\n",
       "      <td>309 Gorge St.</td>\n",
       "      <td>Ketchikan</td>\n",
       "      <td>Ketchikan Gateway</td>\n",
       "      <td>ALASKA</td>\n",
       "      <td>None</td>\n",
       "      <td>...</td>\n",
       "      <td>National Register of Historic Places -- Nation...</td>\n",
       "      <td>1987-07-16</td>\n",
       "      <td>1:24000</td>\n",
       "      <td>+/- 12 meters</td>\n",
       "      <td>Coordinates are typically provided in UTM form...</td>\n",
       "      <td>National Register of Historic Places -- Nation...</td>\n",
       "      <td>Extant status and datum information for resour...</td>\n",
       "      <td>{23DF20B8-32F5-4F6C-861B-3188B30FD29F}</td>\n",
       "      <td>{4413C896-7887-4201-95E1-7305CA794395}</td>\n",
       "      <td>POINT (-131.65928 55.34652)</td>\n",
       "    </tr>\n",
       "    <tr>\n",
       "      <th>3</th>\n",
       "      <td>4</td>\n",
       "      <td>89001415</td>\n",
       "      <td>89001415</td>\n",
       "      <td>Gilmore Building</td>\n",
       "      <td>Building</td>\n",
       "      <td>326 Front St.</td>\n",
       "      <td>Ketchikan</td>\n",
       "      <td>Ketchikan Gateway</td>\n",
       "      <td>ALASKA</td>\n",
       "      <td>None</td>\n",
       "      <td>...</td>\n",
       "      <td>National Register of Historic Places -- Nation...</td>\n",
       "      <td>1989-09-27</td>\n",
       "      <td>1:24000</td>\n",
       "      <td>+/- 12 meters</td>\n",
       "      <td>Coordinates are typically provided in UTM form...</td>\n",
       "      <td>National Register of Historic Places -- Nation...</td>\n",
       "      <td>Extant status and datum information for resour...</td>\n",
       "      <td>{5BFBE8FE-BBDE-47AA-BC08-AE21BB63E16C}</td>\n",
       "      <td>{59DA3A90-4DCF-4967-A6A9-6F56DD622D41}</td>\n",
       "      <td>POINT (-131.64784 55.34230)</td>\n",
       "    </tr>\n",
       "    <tr>\n",
       "      <th>4</th>\n",
       "      <td>5</td>\n",
       "      <td>85001161</td>\n",
       "      <td>85001161</td>\n",
       "      <td>Ziegler House</td>\n",
       "      <td>Building</td>\n",
       "      <td>623 Grant St.</td>\n",
       "      <td>Ketchikan</td>\n",
       "      <td>Ketchikan Gateway</td>\n",
       "      <td>ALASKA</td>\n",
       "      <td>None</td>\n",
       "      <td>...</td>\n",
       "      <td>National Register of Historic Places -- Nation...</td>\n",
       "      <td>1985-05-30</td>\n",
       "      <td>1:24000</td>\n",
       "      <td>+/- 12 meters</td>\n",
       "      <td>Coordinates are typically provided in UTM form...</td>\n",
       "      <td>National Register of Historic Places -- Nation...</td>\n",
       "      <td>Extant status and datum information for resour...</td>\n",
       "      <td>{8D61329A-E9E4-4128-85C8-025585EEC7B8}</td>\n",
       "      <td>{54B59265-DAFA-4BB3-A55A-1BB21F24B027}</td>\n",
       "      <td>POINT (-131.64534 55.34447)</td>\n",
       "    </tr>\n",
       "  </tbody>\n",
       "</table>\n",
       "<p>5 rows × 38 columns</p>\n",
       "</div>"
      ],
      "text/plain": [
       "   OBJECTID NRIS_Refnu PROPERTY_I                 RESNAME   ResType  \\\n",
       "0         1   82004903   82004903  Walker-Broderick House  Building   \n",
       "1         2   87000716   87000716   First Lutheran Church  Building   \n",
       "2         3   87000645   87000645  Ketchikan Ranger House  Building   \n",
       "3         4   89001415   89001415        Gilmore Building  Building   \n",
       "4         5   85001161   85001161           Ziegler House  Building   \n",
       "\n",
       "             Address       City             County   State Vicinity  ...  \\\n",
       "0       541 Pine St.  Ketchikan  Ketchikan Gateway  ALASKA     None  ...   \n",
       "1  1200 Tongass Ave.  Ketchikan  Ketchikan Gateway  ALASKA     None  ...   \n",
       "2      309 Gorge St.  Ketchikan  Ketchikan Gateway  ALASKA     None  ...   \n",
       "3      326 Front St.  Ketchikan  Ketchikan Gateway  ALASKA     None  ...   \n",
       "4      623 Grant St.  Ketchikan  Ketchikan Gateway  ALASKA     None  ...   \n",
       "\n",
       "                                              SOURCE    SRC_DATE  SRC_SCALE  \\\n",
       "0  National Register of Historic Places -- Nation...  1982-08-31    1:24000   \n",
       "1  National Register of Historic Places -- Nation...  1987-05-18    1:24000   \n",
       "2  National Register of Historic Places -- Nation...  1987-07-16    1:24000   \n",
       "3  National Register of Historic Places -- Nation...  1989-09-27    1:24000   \n",
       "4  National Register of Historic Places -- Nation...  1985-05-30    1:24000   \n",
       "\n",
       "        SRC_ACCU                                          SRC_COORD  \\\n",
       "0  +/- 12 meters  Coordinates are typically provided in UTM form...   \n",
       "1  +/- 12 meters  Coordinates are typically provided in UTM form...   \n",
       "2  +/- 12 meters  Coordinates are typically provided in UTM form...   \n",
       "3  +/- 12 meters  Coordinates are typically provided in UTM form...   \n",
       "4  +/- 12 meters  Coordinates are typically provided in UTM form...   \n",
       "\n",
       "                                          ORIGINATOR  \\\n",
       "0  National Register of Historic Places -- Nation...   \n",
       "1  National Register of Historic Places -- Nation...   \n",
       "2  National Register of Historic Places -- Nation...   \n",
       "3  National Register of Historic Places -- Nation...   \n",
       "4  National Register of Historic Places -- Nation...   \n",
       "\n",
       "                                           CONSTRANT  \\\n",
       "0  Extant status and datum information for resour...   \n",
       "1  Extant status and datum information for resour...   \n",
       "2  Extant status and datum information for resour...   \n",
       "3  Extant status and datum information for resour...   \n",
       "4  Extant status and datum information for resour...   \n",
       "\n",
       "                                    CR_ID  \\\n",
       "0  {5B428330-08FF-46F7-867D-35C3A84FDF0F}   \n",
       "1  {4B2E47FE-717C-4956-B460-2CA535A72A41}   \n",
       "2  {23DF20B8-32F5-4F6C-861B-3188B30FD29F}   \n",
       "3  {5BFBE8FE-BBDE-47AA-BC08-AE21BB63E16C}   \n",
       "4  {8D61329A-E9E4-4128-85C8-025585EEC7B8}   \n",
       "\n",
       "                                  GEOM_ID                     geometry  \n",
       "0  {D6FD98D4-BE9E-4C31-9F3D-095AFFCFEEB1}  POINT (-131.64676 55.34455)  \n",
       "1  {CE99B08D-903E-4DEC-8247-BA95F9A6C1C9}  POINT (-131.65777 55.34521)  \n",
       "2  {4413C896-7887-4201-95E1-7305CA794395}  POINT (-131.65928 55.34652)  \n",
       "3  {59DA3A90-4DCF-4967-A6A9-6F56DD622D41}  POINT (-131.64784 55.34230)  \n",
       "4  {54B59265-DAFA-4BB3-A55A-1BB21F24B027}  POINT (-131.64534 55.34447)  \n",
       "\n",
       "[5 rows x 38 columns]"
      ]
     },
     "execution_count": 2,
     "metadata": {},
     "output_type": "execute_result"
    }
   ],
   "source": [
    "NPS = gpd.read_file(\"C:/Users/ssmat/Documents/NPS_-_National_Register_of_Historic_Places_Locations-shp/NPS_-_National_Register_of_Historic_Places_Locations.shp\")"
   ]
  },
  {
   "cell_type": "code",
   "execution_count": 3,
   "metadata": {},
   "outputs": [],
   "source": [
    "NPS = NPS[NPS['Status']!='Removed']\n",
    "NPS = NPS[NPS['geometry'].isna() != True]"
   ]
  },
  {
   "cell_type": "code",
   "execution_count": 4,
   "metadata": {},
   "outputs": [],
   "source": [
    "grped = NPS.groupby('State').count().reset_index()"
   ]
  },
  {
   "cell_type": "code",
   "execution_count": 163,
   "metadata": {
    "collapsed": true,
    "jupyter": {
     "outputs_hidden": true
    }
   },
   "outputs": [
    {
     "name": "stderr",
     "output_type": "stream",
     "text": [
      "C:\\Users\\ssmat\\miniconda3\\envs\\musa-550-fall-2020\\lib\\site-packages\\geopandas\\geodataframe.py:852: UserWarning: Geometry column does not contain geometry.\n",
      "  warnings.warn(\"Geometry column does not contain geometry.\")\n"
     ]
    },
    {
     "data": {
      "text/html": [
       "\n",
       "<div id=\"altair-viz-adf42e105f114dc494f91c2140d3bf76\"></div>\n",
       "<script type=\"text/javascript\">\n",
       "  (function(spec, embedOpt){\n",
       "    let outputDiv = document.currentScript.previousElementSibling;\n",
       "    if (outputDiv.id !== \"altair-viz-adf42e105f114dc494f91c2140d3bf76\") {\n",
       "      outputDiv = document.getElementById(\"altair-viz-adf42e105f114dc494f91c2140d3bf76\");\n",
       "    }\n",
       "    const paths = {\n",
       "      \"vega\": \"https://cdn.jsdelivr.net/npm//vega@5?noext\",\n",
       "      \"vega-lib\": \"https://cdn.jsdelivr.net/npm//vega-lib?noext\",\n",
       "      \"vega-lite\": \"https://cdn.jsdelivr.net/npm//vega-lite@4.8.1?noext\",\n",
       "      \"vega-embed\": \"https://cdn.jsdelivr.net/npm//vega-embed@6?noext\",\n",
       "    };\n",
       "\n",
       "    function loadScript(lib) {\n",
       "      return new Promise(function(resolve, reject) {\n",
       "        var s = document.createElement('script');\n",
       "        s.src = paths[lib];\n",
       "        s.async = true;\n",
       "        s.onload = () => resolve(paths[lib]);\n",
       "        s.onerror = () => reject(`Error loading script: ${paths[lib]}`);\n",
       "        document.getElementsByTagName(\"head\")[0].appendChild(s);\n",
       "      });\n",
       "    }\n",
       "\n",
       "    function showError(err) {\n",
       "      outputDiv.innerHTML = `<div class=\"error\" style=\"color:red;\">${err}</div>`;\n",
       "      throw err;\n",
       "    }\n",
       "\n",
       "    function displayChart(vegaEmbed) {\n",
       "      vegaEmbed(outputDiv, spec, embedOpt)\n",
       "        .catch(err => showError(`Javascript Error: ${err.message}<br>This usually means there's a typo in your chart specification. See the javascript console for the full traceback.`));\n",
       "    }\n",
       "\n",
       "    if(typeof define === \"function\" && define.amd) {\n",
       "      requirejs.config({paths});\n",
       "      require([\"vega-embed\"], displayChart, err => showError(`Error loading script: ${err.message}`));\n",
       "    } else if (typeof vegaEmbed === \"function\") {\n",
       "      displayChart(vegaEmbed);\n",
       "    } else {\n",
       "      loadScript(\"vega\")\n",
       "        .then(() => loadScript(\"vega-lite\"))\n",
       "        .then(() => loadScript(\"vega-embed\"))\n",
       "        .catch(showError)\n",
       "        .then(() => displayChart(vegaEmbed));\n",
       "    }\n",
       "  })({\"config\": {\"view\": {\"continuousWidth\": 400, \"continuousHeight\": 300}}, \"data\": {\"name\": \"data-0433740737027065282afe9b3222f563\"}, \"mark\": \"bar\", \"encoding\": {\"x\": {\"type\": \"nominal\", \"field\": \"State\"}, \"y\": {\"type\": \"quantitative\", \"field\": \"OBJECTID\", \"title\": \"Count\"}}, \"$schema\": \"https://vega.github.io/schema/vega-lite/v4.8.1.json\", \"datasets\": {\"data-0433740737027065282afe9b3222f563\": [{\"State\": \"ALABAMA\", \"OBJECTID\": 843, \"NRIS_Refnu\": 843, \"PROPERTY_I\": 843, \"RESNAME\": 843, \"ResType\": 843, \"Address\": 843, \"City\": 843, \"County\": 843, \"Vicinity\": 110, \"MultiName\": 232, \"NumCBldg\": 843, \"NumCObj\": 843, \"NumCSite\": 843, \"NumCStru\": 843, \"Status\": 745, \"Is_NHL\": 25, \"Status_Dat\": 843, \"Listed_Dat\": 843, \"NARA_URL\": 830, \"BND_TYPE\": 843, \"BND_OTHER\": 843, \"IS_EXTANT\": 843, \"EXTANT_OTH\": 843, \"CREATEDATE\": 843, \"EDIT_DATE\": 843, \"MAP_METHOD\": 843, \"MAP_MTH_OT\": 843, \"SOURCE\": 843, \"SRC_DATE\": 843, \"SRC_SCALE\": 843, \"SRC_ACCU\": 843, \"SRC_COORD\": 843, \"ORIGINATOR\": 843, \"CONSTRANT\": 843, \"CR_ID\": 843, \"GEOM_ID\": 843, \"geometry\": 843}, {\"State\": \"ALASKA\", \"OBJECTID\": 286, \"NRIS_Refnu\": 286, \"PROPERTY_I\": 286, \"RESNAME\": 286, \"ResType\": 286, \"Address\": 286, \"City\": 286, \"County\": 286, \"Vicinity\": 77, \"MultiName\": 83, \"NumCBldg\": 286, \"NumCObj\": 286, \"NumCSite\": 286, \"NumCStru\": 286, \"Status\": 242, \"Is_NHL\": 16, \"Status_Dat\": 286, \"Listed_Dat\": 286, \"NARA_URL\": 280, \"BND_TYPE\": 286, \"BND_OTHER\": 286, \"IS_EXTANT\": 286, \"EXTANT_OTH\": 286, \"CREATEDATE\": 286, \"EDIT_DATE\": 286, \"MAP_METHOD\": 286, \"MAP_MTH_OT\": 286, \"SOURCE\": 286, \"SRC_DATE\": 286, \"SRC_SCALE\": 286, \"SRC_ACCU\": 286, \"SRC_COORD\": 286, \"ORIGINATOR\": 286, \"CONSTRANT\": 286, \"CR_ID\": 286, \"GEOM_ID\": 286, \"geometry\": 286}, {\"State\": \"AMERICAN SAMOA\", \"OBJECTID\": 18, \"NRIS_Refnu\": 18, \"PROPERTY_I\": 18, \"RESNAME\": 18, \"ResType\": 18, \"Address\": 18, \"City\": 18, \"County\": 18, \"Vicinity\": 8, \"MultiName\": 0, \"NumCBldg\": 18, \"NumCObj\": 18, \"NumCSite\": 18, \"NumCStru\": 18, \"Status\": 15, \"Is_NHL\": 2, \"Status_Dat\": 18, \"Listed_Dat\": 18, \"NARA_URL\": 16, \"BND_TYPE\": 18, \"BND_OTHER\": 18, \"IS_EXTANT\": 18, \"EXTANT_OTH\": 18, \"CREATEDATE\": 18, \"EDIT_DATE\": 18, \"MAP_METHOD\": 18, \"MAP_MTH_OT\": 18, \"SOURCE\": 18, \"SRC_DATE\": 18, \"SRC_SCALE\": 18, \"SRC_ACCU\": 18, \"SRC_COORD\": 18, \"ORIGINATOR\": 18, \"CONSTRANT\": 18, \"CR_ID\": 18, \"GEOM_ID\": 18, \"geometry\": 18}, {\"State\": \"ARIZONA\", \"OBJECTID\": 1023, \"NRIS_Refnu\": 1023, \"PROPERTY_I\": 1023, \"RESNAME\": 1023, \"ResType\": 1023, \"Address\": 1023, \"City\": 1023, \"County\": 1023, \"Vicinity\": 165, \"MultiName\": 650, \"NumCBldg\": 1023, \"NumCObj\": 1023, \"NumCSite\": 1023, \"NumCStru\": 1023, \"Status\": 882, \"Is_NHL\": 12, \"Status_Dat\": 1023, \"Listed_Dat\": 1023, \"NARA_URL\": 1006, \"BND_TYPE\": 1023, \"BND_OTHER\": 1023, \"IS_EXTANT\": 1023, \"EXTANT_OTH\": 1023, \"CREATEDATE\": 1023, \"EDIT_DATE\": 1023, \"MAP_METHOD\": 1023, \"MAP_MTH_OT\": 1023, \"SOURCE\": 1023, \"SRC_DATE\": 1023, \"SRC_SCALE\": 1023, \"SRC_ACCU\": 1023, \"SRC_COORD\": 1023, \"ORIGINATOR\": 1023, \"CONSTRANT\": 1023, \"CR_ID\": 1023, \"GEOM_ID\": 1023, \"geometry\": 1023}, {\"State\": \"ARKANSAS\", \"OBJECTID\": 2264, \"NRIS_Refnu\": 2264, \"PROPERTY_I\": 2264, \"RESNAME\": 2264, \"ResType\": 2264, \"Address\": 2264, \"City\": 2264, \"County\": 2264, \"Vicinity\": 436, \"MultiName\": 1085, \"NumCBldg\": 2264, \"NumCObj\": 2264, \"NumCSite\": 2264, \"NumCStru\": 2264, \"Status\": 1766, \"Is_NHL\": 12, \"Status_Dat\": 2264, \"Listed_Dat\": 2264, \"NARA_URL\": 0, \"BND_TYPE\": 2264, \"BND_OTHER\": 2264, \"IS_EXTANT\": 2264, \"EXTANT_OTH\": 2264, \"CREATEDATE\": 2264, \"EDIT_DATE\": 2264, \"MAP_METHOD\": 2264, \"MAP_MTH_OT\": 2264, \"SOURCE\": 2264, \"SRC_DATE\": 2264, \"SRC_SCALE\": 2264, \"SRC_ACCU\": 2264, \"SRC_COORD\": 2264, \"ORIGINATOR\": 2264, \"CONSTRANT\": 2264, \"CR_ID\": 2264, \"GEOM_ID\": 2264, \"geometry\": 2264}, {\"State\": \"CALIFORNIA\", \"OBJECTID\": 2100, \"NRIS_Refnu\": 2100, \"PROPERTY_I\": 2100, \"RESNAME\": 2100, \"ResType\": 2100, \"Address\": 2100, \"City\": 2100, \"County\": 2100, \"Vicinity\": 187, \"MultiName\": 252, \"NumCBldg\": 2100, \"NumCObj\": 2100, \"NumCSite\": 2100, \"NumCStru\": 2100, \"Status\": 1797, \"Is_NHL\": 87, \"Status_Dat\": 2100, \"Listed_Dat\": 2100, \"NARA_URL\": 2029, \"BND_TYPE\": 2100, \"BND_OTHER\": 2096, \"IS_EXTANT\": 2100, \"EXTANT_OTH\": 2013, \"CREATEDATE\": 2100, \"EDIT_DATE\": 2100, \"MAP_METHOD\": 2100, \"MAP_MTH_OT\": 2096, \"SOURCE\": 2100, \"SRC_DATE\": 2100, \"SRC_SCALE\": 2100, \"SRC_ACCU\": 2100, \"SRC_COORD\": 2100, \"ORIGINATOR\": 2098, \"CONSTRANT\": 2100, \"CR_ID\": 2100, \"GEOM_ID\": 2100, \"geometry\": 2100}, {\"State\": \"COLORADO\", \"OBJECTID\": 1112, \"NRIS_Refnu\": 1112, \"PROPERTY_I\": 1112, \"RESNAME\": 1112, \"ResType\": 1112, \"Address\": 1112, \"City\": 1112, \"County\": 1112, \"Vicinity\": 192, \"MultiName\": 266, \"NumCBldg\": 1112, \"NumCObj\": 1112, \"NumCSite\": 1112, \"NumCStru\": 1112, \"Status\": 862, \"Is_NHL\": 6, \"Status_Dat\": 1112, \"Listed_Dat\": 1112, \"NARA_URL\": 1063, \"BND_TYPE\": 1112, \"BND_OTHER\": 1112, \"IS_EXTANT\": 1112, \"EXTANT_OTH\": 1112, \"CREATEDATE\": 1112, \"EDIT_DATE\": 1112, \"MAP_METHOD\": 1112, \"MAP_MTH_OT\": 1112, \"SOURCE\": 1112, \"SRC_DATE\": 1112, \"SRC_SCALE\": 1112, \"SRC_ACCU\": 1112, \"SRC_COORD\": 1112, \"ORIGINATOR\": 1112, \"CONSTRANT\": 1112, \"CR_ID\": 1112, \"GEOM_ID\": 1112, \"geometry\": 1112}, {\"State\": \"CONNECTICUT\", \"OBJECTID\": 1019, \"NRIS_Refnu\": 1019, \"PROPERTY_I\": 1019, \"RESNAME\": 1019, \"ResType\": 1019, \"Address\": 1019, \"City\": 1019, \"County\": 1019, \"Vicinity\": 65, \"MultiName\": 230, \"NumCBldg\": 1019, \"NumCObj\": 1019, \"NumCSite\": 1019, \"NumCStru\": 1019, \"Status\": 913, \"Is_NHL\": 46, \"Status_Dat\": 1019, \"Listed_Dat\": 1019, \"NARA_URL\": 995, \"BND_TYPE\": 1019, \"BND_OTHER\": 1019, \"IS_EXTANT\": 1019, \"EXTANT_OTH\": 1019, \"CREATEDATE\": 1019, \"EDIT_DATE\": 1019, \"MAP_METHOD\": 1019, \"MAP_MTH_OT\": 1019, \"SOURCE\": 1019, \"SRC_DATE\": 1019, \"SRC_SCALE\": 1019, \"SRC_ACCU\": 1019, \"SRC_COORD\": 1019, \"ORIGINATOR\": 1019, \"CONSTRANT\": 1019, \"CR_ID\": 1019, \"GEOM_ID\": 1019, \"geometry\": 1019}, {\"State\": \"DELAWARE\", \"OBJECTID\": 508, \"NRIS_Refnu\": 508, \"PROPERTY_I\": 508, \"RESNAME\": 508, \"ResType\": 508, \"Address\": 508, \"City\": 508, \"County\": 508, \"Vicinity\": 224, \"MultiName\": 184, \"NumCBldg\": 508, \"NumCObj\": 508, \"NumCSite\": 508, \"NumCStru\": 508, \"Status\": 482, \"Is_NHL\": 8, \"Status_Dat\": 508, \"Listed_Dat\": 508, \"NARA_URL\": 501, \"BND_TYPE\": 508, \"BND_OTHER\": 508, \"IS_EXTANT\": 508, \"EXTANT_OTH\": 508, \"CREATEDATE\": 508, \"EDIT_DATE\": 508, \"MAP_METHOD\": 508, \"MAP_MTH_OT\": 508, \"SOURCE\": 508, \"SRC_DATE\": 508, \"SRC_SCALE\": 508, \"SRC_ACCU\": 508, \"SRC_COORD\": 508, \"ORIGINATOR\": 508, \"CONSTRANT\": 508, \"CR_ID\": 508, \"GEOM_ID\": 508, \"geometry\": 508}, {\"State\": \"DISTRICT OF COLUMBIA\", \"OBJECTID\": 480, \"NRIS_Refnu\": 480, \"PROPERTY_I\": 480, \"RESNAME\": 480, \"ResType\": 480, \"Address\": 480, \"City\": 480, \"County\": 480, \"Vicinity\": 1, \"MultiName\": 123, \"NumCBldg\": 480, \"NumCObj\": 480, \"NumCSite\": 480, \"NumCStru\": 480, \"Status\": 382, \"Is_NHL\": 61, \"Status_Dat\": 480, \"Listed_Dat\": 480, \"NARA_URL\": 453, \"BND_TYPE\": 480, \"BND_OTHER\": 480, \"IS_EXTANT\": 480, \"EXTANT_OTH\": 480, \"CREATEDATE\": 480, \"EDIT_DATE\": 480, \"MAP_METHOD\": 480, \"MAP_MTH_OT\": 480, \"SOURCE\": 480, \"SRC_DATE\": 480, \"SRC_SCALE\": 480, \"SRC_ACCU\": 480, \"SRC_COORD\": 480, \"ORIGINATOR\": 480, \"CONSTRANT\": 480, \"CR_ID\": 480, \"GEOM_ID\": 480, \"geometry\": 480}, {\"State\": \"FED. STATES\", \"OBJECTID\": 22, \"NRIS_Refnu\": 22, \"PROPERTY_I\": 22, \"RESNAME\": 22, \"ResType\": 22, \"Address\": 22, \"City\": 22, \"County\": 22, \"Vicinity\": 1, \"MultiName\": 0, \"NumCBldg\": 22, \"NumCObj\": 22, \"NumCSite\": 22, \"NumCStru\": 22, \"Status\": 20, \"Is_NHL\": 2, \"Status_Dat\": 22, \"Listed_Dat\": 22, \"NARA_URL\": 20, \"BND_TYPE\": 22, \"BND_OTHER\": 22, \"IS_EXTANT\": 22, \"EXTANT_OTH\": 22, \"CREATEDATE\": 22, \"EDIT_DATE\": 22, \"MAP_METHOD\": 22, \"MAP_MTH_OT\": 22, \"SOURCE\": 22, \"SRC_DATE\": 22, \"SRC_SCALE\": 22, \"SRC_ACCU\": 22, \"SRC_COORD\": 22, \"ORIGINATOR\": 22, \"CONSTRANT\": 22, \"CR_ID\": 22, \"GEOM_ID\": 22, \"geometry\": 22}, {\"State\": \"FLORIDA\", \"OBJECTID\": 1307, \"NRIS_Refnu\": 1307, \"PROPERTY_I\": 1307, \"RESNAME\": 1307, \"ResType\": 1307, \"Address\": 1307, \"City\": 1307, \"County\": 1307, \"Vicinity\": 113, \"MultiName\": 350, \"NumCBldg\": 1307, \"NumCObj\": 1307, \"NumCSite\": 1307, \"NumCStru\": 1307, \"Status\": 1078, \"Is_NHL\": 25, \"Status_Dat\": 1307, \"Listed_Dat\": 1307, \"NARA_URL\": 1235, \"BND_TYPE\": 1307, \"BND_OTHER\": 1307, \"IS_EXTANT\": 1307, \"EXTANT_OTH\": 1307, \"CREATEDATE\": 1307, \"EDIT_DATE\": 1307, \"MAP_METHOD\": 1307, \"MAP_MTH_OT\": 1307, \"SOURCE\": 1307, \"SRC_DATE\": 1307, \"SRC_SCALE\": 1307, \"SRC_ACCU\": 1307, \"SRC_COORD\": 1307, \"ORIGINATOR\": 1307, \"CONSTRANT\": 1307, \"CR_ID\": 1307, \"GEOM_ID\": 1307, \"geometry\": 1307}, {\"State\": \"GEORGIA\", \"OBJECTID\": 1327, \"NRIS_Refnu\": 1327, \"PROPERTY_I\": 1327, \"RESNAME\": 1327, \"ResType\": 1327, \"Address\": 1327, \"City\": 1327, \"County\": 1327, \"Vicinity\": 182, \"MultiName\": 344, \"NumCBldg\": 1327, \"NumCObj\": 1327, \"NumCSite\": 1327, \"NumCStru\": 1327, \"Status\": 1110, \"Is_NHL\": 36, \"Status_Dat\": 1327, \"Listed_Dat\": 1327, \"NARA_URL\": 1307, \"BND_TYPE\": 1327, \"BND_OTHER\": 1327, \"IS_EXTANT\": 1327, \"EXTANT_OTH\": 1327, \"CREATEDATE\": 1327, \"EDIT_DATE\": 1327, \"MAP_METHOD\": 1327, \"MAP_MTH_OT\": 1327, \"SOURCE\": 1327, \"SRC_DATE\": 1327, \"SRC_SCALE\": 1327, \"SRC_ACCU\": 1327, \"SRC_COORD\": 1327, \"ORIGINATOR\": 1327, \"CONSTRANT\": 1327, \"CR_ID\": 1327, \"GEOM_ID\": 1327, \"geometry\": 1327}, {\"State\": \"GUAM\", \"OBJECTID\": 66, \"NRIS_Refnu\": 66, \"PROPERTY_I\": 66, \"RESNAME\": 66, \"ResType\": 66, \"Address\": 66, \"City\": 66, \"County\": 66, \"Vicinity\": 14, \"MultiName\": 31, \"NumCBldg\": 66, \"NumCObj\": 66, \"NumCSite\": 66, \"NumCStru\": 66, \"Status\": 62, \"Is_NHL\": 0, \"Status_Dat\": 66, \"Listed_Dat\": 66, \"NARA_URL\": 66, \"BND_TYPE\": 66, \"BND_OTHER\": 66, \"IS_EXTANT\": 66, \"EXTANT_OTH\": 66, \"CREATEDATE\": 66, \"EDIT_DATE\": 66, \"MAP_METHOD\": 66, \"MAP_MTH_OT\": 66, \"SOURCE\": 66, \"SRC_DATE\": 66, \"SRC_SCALE\": 66, \"SRC_ACCU\": 66, \"SRC_COORD\": 66, \"ORIGINATOR\": 66, \"CONSTRANT\": 66, \"CR_ID\": 66, \"GEOM_ID\": 66, \"geometry\": 66}, {\"State\": \"HAWAII\", \"OBJECTID\": 219, \"NRIS_Refnu\": 219, \"PROPERTY_I\": 219, \"RESNAME\": 219, \"ResType\": 219, \"Address\": 219, \"City\": 219, \"County\": 219, \"Vicinity\": 32, \"MultiName\": 46, \"NumCBldg\": 219, \"NumCObj\": 219, \"NumCSite\": 219, \"NumCStru\": 219, \"Status\": 198, \"Is_NHL\": 18, \"Status_Dat\": 219, \"Listed_Dat\": 219, \"NARA_URL\": 213, \"BND_TYPE\": 219, \"BND_OTHER\": 219, \"IS_EXTANT\": 219, \"EXTANT_OTH\": 219, \"CREATEDATE\": 219, \"EDIT_DATE\": 219, \"MAP_METHOD\": 219, \"MAP_MTH_OT\": 219, \"SOURCE\": 219, \"SRC_DATE\": 219, \"SRC_SCALE\": 219, \"SRC_ACCU\": 219, \"SRC_COORD\": 219, \"ORIGINATOR\": 219, \"CONSTRANT\": 219, \"CR_ID\": 219, \"GEOM_ID\": 219, \"geometry\": 219}, {\"State\": \"IDAHO\", \"OBJECTID\": 877, \"NRIS_Refnu\": 877, \"PROPERTY_I\": 877, \"RESNAME\": 877, \"ResType\": 877, \"Address\": 877, \"City\": 877, \"County\": 877, \"Vicinity\": 236, \"MultiName\": 469, \"NumCBldg\": 877, \"NumCObj\": 877, \"NumCSite\": 877, \"NumCStru\": 877, \"Status\": 818, \"Is_NHL\": 3, \"Status_Dat\": 877, \"Listed_Dat\": 877, \"NARA_URL\": 865, \"BND_TYPE\": 877, \"BND_OTHER\": 877, \"IS_EXTANT\": 877, \"EXTANT_OTH\": 877, \"CREATEDATE\": 877, \"EDIT_DATE\": 877, \"MAP_METHOD\": 877, \"MAP_MTH_OT\": 877, \"SOURCE\": 877, \"SRC_DATE\": 877, \"SRC_SCALE\": 877, \"SRC_ACCU\": 877, \"SRC_COORD\": 877, \"ORIGINATOR\": 877, \"CONSTRANT\": 877, \"CR_ID\": 877, \"GEOM_ID\": 877, \"geometry\": 877}, {\"State\": \"ILLINOIS\", \"OBJECTID\": 1355, \"NRIS_Refnu\": 1355, \"PROPERTY_I\": 1355, \"RESNAME\": 1355, \"ResType\": 1355, \"Address\": 1355, \"City\": 1355, \"County\": 1355, \"Vicinity\": 119, \"MultiName\": 226, \"NumCBldg\": 1355, \"NumCObj\": 1355, \"NumCSite\": 1355, \"NumCStru\": 1355, \"Status\": 1078, \"Is_NHL\": 59, \"Status_Dat\": 1355, \"Listed_Dat\": 1355, \"NARA_URL\": 1317, \"BND_TYPE\": 1355, \"BND_OTHER\": 1355, \"IS_EXTANT\": 1355, \"EXTANT_OTH\": 1355, \"CREATEDATE\": 1355, \"EDIT_DATE\": 1355, \"MAP_METHOD\": 1355, \"MAP_MTH_OT\": 1355, \"SOURCE\": 1355, \"SRC_DATE\": 1355, \"SRC_SCALE\": 1355, \"SRC_ACCU\": 1355, \"SRC_COORD\": 1355, \"ORIGINATOR\": 1355, \"CONSTRANT\": 1355, \"CR_ID\": 1355, \"GEOM_ID\": 1355, \"geometry\": 1355}, {\"State\": \"INDIANA\", \"OBJECTID\": 1336, \"NRIS_Refnu\": 1336, \"PROPERTY_I\": 1336, \"RESNAME\": 1336, \"ResType\": 1336, \"Address\": 1336, \"City\": 1336, \"County\": 1336, \"Vicinity\": 269, \"MultiName\": 292, \"NumCBldg\": 1336, \"NumCObj\": 1336, \"NumCSite\": 1336, \"NumCStru\": 1336, \"Status\": 1082, \"Is_NHL\": 25, \"Status_Dat\": 1336, \"Listed_Dat\": 1336, \"NARA_URL\": 1268, \"BND_TYPE\": 1336, \"BND_OTHER\": 1336, \"IS_EXTANT\": 1336, \"EXTANT_OTH\": 1336, \"CREATEDATE\": 1336, \"EDIT_DATE\": 1336, \"MAP_METHOD\": 1336, \"MAP_MTH_OT\": 1336, \"SOURCE\": 1336, \"SRC_DATE\": 1336, \"SRC_SCALE\": 1336, \"SRC_ACCU\": 1336, \"SRC_COORD\": 1336, \"ORIGINATOR\": 1336, \"CONSTRANT\": 1336, \"CR_ID\": 1336, \"GEOM_ID\": 1336, \"geometry\": 1336}, {\"State\": \"IOWA\", \"OBJECTID\": 1947, \"NRIS_Refnu\": 1947, \"PROPERTY_I\": 1947, \"RESNAME\": 1947, \"ResType\": 1947, \"Address\": 1947, \"City\": 1947, \"County\": 1947, \"Vicinity\": 347, \"MultiName\": 883, \"NumCBldg\": 1947, \"NumCObj\": 1947, \"NumCSite\": 1947, \"NumCStru\": 1947, \"Status\": 1675, \"Is_NHL\": 16, \"Status_Dat\": 1947, \"Listed_Dat\": 1947, \"NARA_URL\": 1858, \"BND_TYPE\": 1947, \"BND_OTHER\": 1947, \"IS_EXTANT\": 1947, \"EXTANT_OTH\": 1947, \"CREATEDATE\": 1947, \"EDIT_DATE\": 1947, \"MAP_METHOD\": 1947, \"MAP_MTH_OT\": 1947, \"SOURCE\": 1947, \"SRC_DATE\": 1947, \"SRC_SCALE\": 1947, \"SRC_ACCU\": 1947, \"SRC_COORD\": 1947, \"ORIGINATOR\": 1947, \"CONSTRANT\": 1947, \"CR_ID\": 1947, \"GEOM_ID\": 1947, \"geometry\": 1947}, {\"State\": \"KANSAS\", \"OBJECTID\": 1124, \"NRIS_Refnu\": 1124, \"PROPERTY_I\": 1124, \"RESNAME\": 1124, \"ResType\": 1124, \"Address\": 1124, \"City\": 1124, \"County\": 1124, \"Vicinity\": 194, \"MultiName\": 365, \"NumCBldg\": 1124, \"NumCObj\": 1124, \"NumCSite\": 1124, \"NumCStru\": 1124, \"Status\": 676, \"Is_NHL\": 9, \"Status_Dat\": 1124, \"Listed_Dat\": 1124, \"NARA_URL\": 0, \"BND_TYPE\": 1124, \"BND_OTHER\": 1124, \"IS_EXTANT\": 1124, \"EXTANT_OTH\": 1124, \"CREATEDATE\": 1124, \"EDIT_DATE\": 1124, \"MAP_METHOD\": 1124, \"MAP_MTH_OT\": 1124, \"SOURCE\": 1124, \"SRC_DATE\": 1124, \"SRC_SCALE\": 1124, \"SRC_ACCU\": 1124, \"SRC_COORD\": 1124, \"ORIGINATOR\": 1124, \"CONSTRANT\": 1124, \"CR_ID\": 1124, \"GEOM_ID\": 1124, \"geometry\": 1124}, {\"State\": \"KENTUCKY\", \"OBJECTID\": 2535, \"NRIS_Refnu\": 2535, \"PROPERTY_I\": 2535, \"RESNAME\": 2535, \"ResType\": 2535, \"Address\": 2535, \"City\": 2535, \"County\": 2535, \"Vicinity\": 948, \"MultiName\": 1478, \"NumCBldg\": 2535, \"NumCObj\": 2535, \"NumCSite\": 2535, \"NumCStru\": 2535, \"Status\": 2364, \"Is_NHL\": 17, \"Status_Dat\": 2535, \"Listed_Dat\": 2535, \"NARA_URL\": 2477, \"BND_TYPE\": 2535, \"BND_OTHER\": 2535, \"IS_EXTANT\": 2535, \"EXTANT_OTH\": 2535, \"CREATEDATE\": 2535, \"EDIT_DATE\": 2535, \"MAP_METHOD\": 2535, \"MAP_MTH_OT\": 2535, \"SOURCE\": 2535, \"SRC_DATE\": 2535, \"SRC_SCALE\": 2535, \"SRC_ACCU\": 2535, \"SRC_COORD\": 2535, \"ORIGINATOR\": 2535, \"CONSTRANT\": 2535, \"CR_ID\": 2535, \"GEOM_ID\": 2535, \"geometry\": 2535}, {\"State\": \"LOUISIANA\", \"OBJECTID\": 1129, \"NRIS_Refnu\": 1129, \"PROPERTY_I\": 1129, \"RESNAME\": 1129, \"ResType\": 1129, \"Address\": 1129, \"City\": 1129, \"County\": 1129, \"Vicinity\": 281, \"MultiName\": 109, \"NumCBldg\": 1129, \"NumCObj\": 1129, \"NumCSite\": 1129, \"NumCStru\": 1129, \"Status\": 963, \"Is_NHL\": 35, \"Status_Dat\": 1129, \"Listed_Dat\": 1129, \"NARA_URL\": 1108, \"BND_TYPE\": 1129, \"BND_OTHER\": 1129, \"IS_EXTANT\": 1129, \"EXTANT_OTH\": 1129, \"CREATEDATE\": 1129, \"EDIT_DATE\": 1129, \"MAP_METHOD\": 1129, \"MAP_MTH_OT\": 1129, \"SOURCE\": 1129, \"SRC_DATE\": 1129, \"SRC_SCALE\": 1129, \"SRC_ACCU\": 1129, \"SRC_COORD\": 1129, \"ORIGINATOR\": 1129, \"CONSTRANT\": 1129, \"CR_ID\": 1129, \"GEOM_ID\": 1129, \"geometry\": 1129}, {\"State\": \"MAINE\", \"OBJECTID\": 1249, \"NRIS_Refnu\": 1249, \"PROPERTY_I\": 1249, \"RESNAME\": 1249, \"ResType\": 1249, \"Address\": 1249, \"City\": 1249, \"County\": 1249, \"Vicinity\": 220, \"MultiName\": 108, \"NumCBldg\": 1249, \"NumCObj\": 1249, \"NumCSite\": 1249, \"NumCStru\": 1249, \"Status\": 1070, \"Is_NHL\": 35, \"Status_Dat\": 1249, \"Listed_Dat\": 1249, \"NARA_URL\": 1194, \"BND_TYPE\": 1249, \"BND_OTHER\": 1249, \"IS_EXTANT\": 1249, \"EXTANT_OTH\": 1249, \"CREATEDATE\": 1249, \"EDIT_DATE\": 1249, \"MAP_METHOD\": 1249, \"MAP_MTH_OT\": 1249, \"SOURCE\": 1249, \"SRC_DATE\": 1249, \"SRC_SCALE\": 1249, \"SRC_ACCU\": 1249, \"SRC_COORD\": 1249, \"ORIGINATOR\": 1249, \"CONSTRANT\": 1249, \"CR_ID\": 1249, \"GEOM_ID\": 1249, \"geometry\": 1249}, {\"State\": \"MARSHALL ISLANDS\", \"OBJECTID\": 3, \"NRIS_Refnu\": 3, \"PROPERTY_I\": 3, \"RESNAME\": 3, \"ResType\": 3, \"Address\": 3, \"City\": 3, \"County\": 3, \"Vicinity\": 0, \"MultiName\": 0, \"NumCBldg\": 3, \"NumCObj\": 3, \"NumCSite\": 3, \"NumCStru\": 3, \"Status\": 3, \"Is_NHL\": 1, \"Status_Dat\": 3, \"Listed_Dat\": 3, \"NARA_URL\": 3, \"BND_TYPE\": 3, \"BND_OTHER\": 3, \"IS_EXTANT\": 3, \"EXTANT_OTH\": 3, \"CREATEDATE\": 3, \"EDIT_DATE\": 3, \"MAP_METHOD\": 3, \"MAP_MTH_OT\": 3, \"SOURCE\": 3, \"SRC_DATE\": 3, \"SRC_SCALE\": 3, \"SRC_ACCU\": 3, \"SRC_COORD\": 3, \"ORIGINATOR\": 3, \"CONSTRANT\": 3, \"CR_ID\": 3, \"GEOM_ID\": 3, \"geometry\": 3}, {\"State\": \"MARYLAND\", \"OBJECTID\": 876, \"NRIS_Refnu\": 876, \"PROPERTY_I\": 876, \"RESNAME\": 876, \"ResType\": 876, \"Address\": 876, \"City\": 876, \"County\": 876, \"Vicinity\": 274, \"MultiName\": 92, \"NumCBldg\": 876, \"NumCObj\": 876, \"NumCSite\": 876, \"NumCStru\": 876, \"Status\": 728, \"Is_NHL\": 48, \"Status_Dat\": 876, \"Listed_Dat\": 876, \"NARA_URL\": 858, \"BND_TYPE\": 876, \"BND_OTHER\": 876, \"IS_EXTANT\": 876, \"EXTANT_OTH\": 876, \"CREATEDATE\": 876, \"EDIT_DATE\": 876, \"MAP_METHOD\": 876, \"MAP_MTH_OT\": 876, \"SOURCE\": 876, \"SRC_DATE\": 876, \"SRC_SCALE\": 876, \"SRC_ACCU\": 876, \"SRC_COORD\": 876, \"ORIGINATOR\": 876, \"CONSTRANT\": 876, \"CR_ID\": 876, \"GEOM_ID\": 876, \"geometry\": 876}, {\"State\": \"MASSACHUSETTS\", \"OBJECTID\": 3229, \"NRIS_Refnu\": 3229, \"PROPERTY_I\": 3229, \"RESNAME\": 3229, \"ResType\": 3229, \"Address\": 3229, \"City\": 3229, \"County\": 3229, \"Vicinity\": 48, \"MultiName\": 1932, \"NumCBldg\": 3229, \"NumCObj\": 3229, \"NumCSite\": 3229, \"NumCStru\": 3229, \"Status\": 2988, \"Is_NHL\": 151, \"Status_Dat\": 3229, \"Listed_Dat\": 3229, \"NARA_URL\": 3158, \"BND_TYPE\": 3229, \"BND_OTHER\": 3229, \"IS_EXTANT\": 3229, \"EXTANT_OTH\": 3229, \"CREATEDATE\": 3229, \"EDIT_DATE\": 3229, \"MAP_METHOD\": 3229, \"MAP_MTH_OT\": 3229, \"SOURCE\": 3229, \"SRC_DATE\": 3229, \"SRC_SCALE\": 3229, \"SRC_ACCU\": 3229, \"SRC_COORD\": 3229, \"ORIGINATOR\": 3229, \"CONSTRANT\": 3229, \"CR_ID\": 3229, \"GEOM_ID\": 3229, \"geometry\": 3229}, {\"State\": \"MICHIGAN\", \"OBJECTID\": 1458, \"NRIS_Refnu\": 1458, \"PROPERTY_I\": 1458, \"RESNAME\": 1458, \"ResType\": 1458, \"Address\": 1458, \"City\": 1458, \"County\": 1458, \"Vicinity\": 129, \"MultiName\": 494, \"NumCBldg\": 1458, \"NumCObj\": 1458, \"NumCSite\": 1458, \"NumCStru\": 1458, \"Status\": 1236, \"Is_NHL\": 21, \"Status_Dat\": 1458, \"Listed_Dat\": 1458, \"NARA_URL\": 1412, \"BND_TYPE\": 1458, \"BND_OTHER\": 1458, \"IS_EXTANT\": 1458, \"EXTANT_OTH\": 1458, \"CREATEDATE\": 1458, \"EDIT_DATE\": 1458, \"MAP_METHOD\": 1458, \"MAP_MTH_OT\": 1458, \"SOURCE\": 1458, \"SRC_DATE\": 1458, \"SRC_SCALE\": 1458, \"SRC_ACCU\": 1458, \"SRC_COORD\": 1458, \"ORIGINATOR\": 1458, \"CONSTRANT\": 1458, \"CR_ID\": 1458, \"GEOM_ID\": 1458, \"geometry\": 1458}, {\"State\": \"MINNESOTA\", \"OBJECTID\": 1370, \"NRIS_Refnu\": 1370, \"PROPERTY_I\": 1370, \"RESNAME\": 1370, \"ResType\": 1370, \"Address\": 1370, \"City\": 1370, \"County\": 1370, \"Vicinity\": 250, \"MultiName\": 502, \"NumCBldg\": 1370, \"NumCObj\": 1370, \"NumCSite\": 1370, \"NumCStru\": 1370, \"Status\": 1289, \"Is_NHL\": 17, \"Status_Dat\": 1370, \"Listed_Dat\": 1370, \"NARA_URL\": 1310, \"BND_TYPE\": 1370, \"BND_OTHER\": 1370, \"IS_EXTANT\": 1370, \"EXTANT_OTH\": 1370, \"CREATEDATE\": 1370, \"EDIT_DATE\": 1370, \"MAP_METHOD\": 1370, \"MAP_MTH_OT\": 1370, \"SOURCE\": 1370, \"SRC_DATE\": 1370, \"SRC_SCALE\": 1370, \"SRC_ACCU\": 1370, \"SRC_COORD\": 1370, \"ORIGINATOR\": 1370, \"CONSTRANT\": 1370, \"CR_ID\": 1370, \"GEOM_ID\": 1370, \"geometry\": 1370}, {\"State\": \"MISSISSIPPI\", \"OBJECTID\": 888, \"NRIS_Refnu\": 888, \"PROPERTY_I\": 888, \"RESNAME\": 888, \"ResType\": 888, \"Address\": 888, \"City\": 888, \"County\": 888, \"Vicinity\": 188, \"MultiName\": 340, \"NumCBldg\": 888, \"NumCObj\": 888, \"NumCSite\": 888, \"NumCStru\": 888, \"Status\": 803, \"Is_NHL\": 17, \"Status_Dat\": 888, \"Listed_Dat\": 888, \"NARA_URL\": 878, \"BND_TYPE\": 888, \"BND_OTHER\": 888, \"IS_EXTANT\": 888, \"EXTANT_OTH\": 888, \"CREATEDATE\": 888, \"EDIT_DATE\": 888, \"MAP_METHOD\": 888, \"MAP_MTH_OT\": 888, \"SOURCE\": 888, \"SRC_DATE\": 888, \"SRC_SCALE\": 888, \"SRC_ACCU\": 888, \"SRC_COORD\": 888, \"ORIGINATOR\": 888, \"CONSTRANT\": 888, \"CR_ID\": 888, \"GEOM_ID\": 888, \"geometry\": 888}, {\"State\": \"MISSOURI\", \"OBJECTID\": 1672, \"NRIS_Refnu\": 1672, \"PROPERTY_I\": 1672, \"RESNAME\": 1672, \"ResType\": 1672, \"Address\": 1672, \"City\": 1672, \"County\": 1672, \"Vicinity\": 180, \"MultiName\": 460, \"NumCBldg\": 1672, \"NumCObj\": 1672, \"NumCSite\": 1672, \"NumCStru\": 1672, \"Status\": 1097, \"Is_NHL\": 20, \"Status_Dat\": 1672, \"Listed_Dat\": 1672, \"NARA_URL\": 1603, \"BND_TYPE\": 1672, \"BND_OTHER\": 1672, \"IS_EXTANT\": 1672, \"EXTANT_OTH\": 1672, \"CREATEDATE\": 1672, \"EDIT_DATE\": 1672, \"MAP_METHOD\": 1672, \"MAP_MTH_OT\": 1672, \"SOURCE\": 1672, \"SRC_DATE\": 1672, \"SRC_SCALE\": 1672, \"SRC_ACCU\": 1672, \"SRC_COORD\": 1672, \"ORIGINATOR\": 1672, \"CONSTRANT\": 1672, \"CR_ID\": 1672, \"GEOM_ID\": 1672, \"geometry\": 1672}, {\"State\": \"MONTANA\", \"OBJECTID\": 894, \"NRIS_Refnu\": 894, \"PROPERTY_I\": 894, \"RESNAME\": 894, \"ResType\": 894, \"Address\": 894, \"City\": 894, \"County\": 894, \"Vicinity\": 183, \"MultiName\": 470, \"NumCBldg\": 894, \"NumCObj\": 894, \"NumCSite\": 894, \"NumCStru\": 894, \"Status\": 770, \"Is_NHL\": 7, \"Status_Dat\": 894, \"Listed_Dat\": 894, \"NARA_URL\": 873, \"BND_TYPE\": 894, \"BND_OTHER\": 894, \"IS_EXTANT\": 894, \"EXTANT_OTH\": 894, \"CREATEDATE\": 894, \"EDIT_DATE\": 894, \"MAP_METHOD\": 894, \"MAP_MTH_OT\": 894, \"SOURCE\": 894, \"SRC_DATE\": 894, \"SRC_SCALE\": 894, \"SRC_ACCU\": 894, \"SRC_COORD\": 894, \"ORIGINATOR\": 894, \"CONSTRANT\": 894, \"CR_ID\": 894, \"GEOM_ID\": 894, \"geometry\": 894}, {\"State\": \"MOROCCO\", \"OBJECTID\": 1, \"NRIS_Refnu\": 1, \"PROPERTY_I\": 1, \"RESNAME\": 1, \"ResType\": 1, \"Address\": 1, \"City\": 1, \"County\": 1, \"Vicinity\": 0, \"MultiName\": 0, \"NumCBldg\": 1, \"NumCObj\": 1, \"NumCSite\": 1, \"NumCStru\": 1, \"Status\": 1, \"Is_NHL\": 1, \"Status_Dat\": 1, \"Listed_Dat\": 1, \"NARA_URL\": 1, \"BND_TYPE\": 1, \"BND_OTHER\": 1, \"IS_EXTANT\": 1, \"EXTANT_OTH\": 1, \"CREATEDATE\": 1, \"EDIT_DATE\": 1, \"MAP_METHOD\": 1, \"MAP_MTH_OT\": 1, \"SOURCE\": 1, \"SRC_DATE\": 1, \"SRC_SCALE\": 1, \"SRC_ACCU\": 1, \"SRC_COORD\": 1, \"ORIGINATOR\": 1, \"CONSTRANT\": 1, \"CR_ID\": 1, \"GEOM_ID\": 1, \"geometry\": 1}, {\"State\": \"N. MARIANA ISLANDS\", \"OBJECTID\": 20, \"NRIS_Refnu\": 20, \"PROPERTY_I\": 20, \"RESNAME\": 20, \"ResType\": 20, \"Address\": 20, \"City\": 20, \"County\": 20, \"Vicinity\": 11, \"MultiName\": 0, \"NumCBldg\": 20, \"NumCObj\": 20, \"NumCSite\": 20, \"NumCStru\": 20, \"Status\": 18, \"Is_NHL\": 0, \"Status_Dat\": 20, \"Listed_Dat\": 20, \"NARA_URL\": 20, \"BND_TYPE\": 20, \"BND_OTHER\": 20, \"IS_EXTANT\": 20, \"EXTANT_OTH\": 20, \"CREATEDATE\": 20, \"EDIT_DATE\": 20, \"MAP_METHOD\": 20, \"MAP_MTH_OT\": 20, \"SOURCE\": 20, \"SRC_DATE\": 20, \"SRC_SCALE\": 20, \"SRC_ACCU\": 20, \"SRC_COORD\": 20, \"ORIGINATOR\": 20, \"CONSTRANT\": 20, \"CR_ID\": 20, \"GEOM_ID\": 20, \"geometry\": 20}, {\"State\": \"NEBRASKA\", \"OBJECTID\": 789, \"NRIS_Refnu\": 789, \"PROPERTY_I\": 789, \"RESNAME\": 789, \"ResType\": 789, \"Address\": 789, \"City\": 789, \"County\": 789, \"Vicinity\": 124, \"MultiName\": 216, \"NumCBldg\": 789, \"NumCObj\": 789, \"NumCSite\": 789, \"NumCStru\": 789, \"Status\": 647, \"Is_NHL\": 6, \"Status_Dat\": 789, \"Listed_Dat\": 789, \"NARA_URL\": 770, \"BND_TYPE\": 789, \"BND_OTHER\": 789, \"IS_EXTANT\": 789, \"EXTANT_OTH\": 789, \"CREATEDATE\": 789, \"EDIT_DATE\": 789, \"MAP_METHOD\": 789, \"MAP_MTH_OT\": 789, \"SOURCE\": 789, \"SRC_DATE\": 789, \"SRC_SCALE\": 789, \"SRC_ACCU\": 789, \"SRC_COORD\": 789, \"ORIGINATOR\": 789, \"CONSTRANT\": 789, \"CR_ID\": 789, \"GEOM_ID\": 789, \"geometry\": 789}, {\"State\": \"NEVADA\", \"OBJECTID\": 287, \"NRIS_Refnu\": 287, \"PROPERTY_I\": 287, \"RESNAME\": 287, \"ResType\": 287, \"Address\": 287, \"City\": 287, \"County\": 287, \"Vicinity\": 26, \"MultiName\": 72, \"NumCBldg\": 287, \"NumCObj\": 287, \"NumCSite\": 287, \"NumCStru\": 287, \"Status\": 223, \"Is_NHL\": 5, \"Status_Dat\": 287, \"Listed_Dat\": 287, \"NARA_URL\": 283, \"BND_TYPE\": 287, \"BND_OTHER\": 287, \"IS_EXTANT\": 287, \"EXTANT_OTH\": 287, \"CREATEDATE\": 287, \"EDIT_DATE\": 287, \"MAP_METHOD\": 287, \"MAP_MTH_OT\": 287, \"SOURCE\": 287, \"SRC_DATE\": 287, \"SRC_SCALE\": 287, \"SRC_ACCU\": 287, \"SRC_COORD\": 287, \"ORIGINATOR\": 287, \"CONSTRANT\": 287, \"CR_ID\": 287, \"GEOM_ID\": 287, \"geometry\": 287}, {\"State\": \"NEW HAMPSHIRE\", \"OBJECTID\": 608, \"NRIS_Refnu\": 608, \"PROPERTY_I\": 608, \"RESNAME\": 608, \"ResType\": 608, \"Address\": 608, \"City\": 608, \"County\": 608, \"Vicinity\": 41, \"MultiName\": 103, \"NumCBldg\": 608, \"NumCObj\": 608, \"NumCSite\": 608, \"NumCStru\": 608, \"Status\": 559, \"Is_NHL\": 16, \"Status_Dat\": 608, \"Listed_Dat\": 608, \"NARA_URL\": 593, \"BND_TYPE\": 608, \"BND_OTHER\": 608, \"IS_EXTANT\": 608, \"EXTANT_OTH\": 608, \"CREATEDATE\": 608, \"EDIT_DATE\": 608, \"MAP_METHOD\": 608, \"MAP_MTH_OT\": 608, \"SOURCE\": 608, \"SRC_DATE\": 608, \"SRC_SCALE\": 608, \"SRC_ACCU\": 608, \"SRC_COORD\": 608, \"ORIGINATOR\": 608, \"CONSTRANT\": 608, \"CR_ID\": 608, \"GEOM_ID\": 608, \"geometry\": 608}, {\"State\": \"NEW JERSEY\", \"OBJECTID\": 1274, \"NRIS_Refnu\": 1274, \"PROPERTY_I\": 1274, \"RESNAME\": 1274, \"ResType\": 1274, \"Address\": 1274, \"City\": 1274, \"County\": 1274, \"Vicinity\": 142, \"MultiName\": 363, \"NumCBldg\": 1274, \"NumCObj\": 1274, \"NumCSite\": 1274, \"NumCStru\": 1274, \"Status\": 1105, \"Is_NHL\": 35, \"Status_Dat\": 1274, \"Listed_Dat\": 1274, \"NARA_URL\": 6, \"BND_TYPE\": 1274, \"BND_OTHER\": 1274, \"IS_EXTANT\": 1274, \"EXTANT_OTH\": 1274, \"CREATEDATE\": 1274, \"EDIT_DATE\": 1274, \"MAP_METHOD\": 1274, \"MAP_MTH_OT\": 1274, \"SOURCE\": 1274, \"SRC_DATE\": 1274, \"SRC_SCALE\": 1274, \"SRC_ACCU\": 1274, \"SRC_COORD\": 1274, \"ORIGINATOR\": 1274, \"CONSTRANT\": 1274, \"CR_ID\": 1274, \"GEOM_ID\": 1274, \"geometry\": 1274}, {\"State\": \"NEW MEXICO\", \"OBJECTID\": 621, \"NRIS_Refnu\": 621, \"PROPERTY_I\": 621, \"RESNAME\": 621, \"ResType\": 621, \"Address\": 621, \"City\": 621, \"County\": 621, \"Vicinity\": 102, \"MultiName\": 375, \"NumCBldg\": 621, \"NumCObj\": 621, \"NumCSite\": 621, \"NumCStru\": 621, \"Status\": 553, \"Is_NHL\": 16, \"Status_Dat\": 621, \"Listed_Dat\": 621, \"NARA_URL\": 612, \"BND_TYPE\": 621, \"BND_OTHER\": 621, \"IS_EXTANT\": 621, \"EXTANT_OTH\": 621, \"CREATEDATE\": 621, \"EDIT_DATE\": 621, \"MAP_METHOD\": 621, \"MAP_MTH_OT\": 621, \"SOURCE\": 621, \"SRC_DATE\": 621, \"SRC_SCALE\": 621, \"SRC_ACCU\": 621, \"SRC_COORD\": 621, \"ORIGINATOR\": 621, \"CONSTRANT\": 621, \"CR_ID\": 621, \"GEOM_ID\": 621, \"geometry\": 621}, {\"State\": \"NEW YORK\", \"OBJECTID\": 4481, \"NRIS_Refnu\": 4481, \"PROPERTY_I\": 4481, \"RESNAME\": 4481, \"ResType\": 4481, \"Address\": 4481, \"City\": 4480, \"County\": 4481, \"Vicinity\": 363, \"MultiName\": 1414, \"NumCBldg\": 4481, \"NumCObj\": 4481, \"NumCSite\": 4481, \"NumCStru\": 4481, \"Status\": 3342, \"Is_NHL\": 182, \"Status_Dat\": 4481, \"Listed_Dat\": 4481, \"NARA_URL\": 4182, \"BND_TYPE\": 4481, \"BND_OTHER\": 4481, \"IS_EXTANT\": 4481, \"EXTANT_OTH\": 4481, \"CREATEDATE\": 4481, \"EDIT_DATE\": 4481, \"MAP_METHOD\": 4481, \"MAP_MTH_OT\": 4481, \"SOURCE\": 4481, \"SRC_DATE\": 4481, \"SRC_SCALE\": 4481, \"SRC_ACCU\": 4481, \"SRC_COORD\": 4481, \"ORIGINATOR\": 4481, \"CONSTRANT\": 4481, \"CR_ID\": 4481, \"GEOM_ID\": 4481, \"geometry\": 4481}, {\"State\": \"NORTH CAROLINA\", \"OBJECTID\": 1826, \"NRIS_Refnu\": 1826, \"PROPERTY_I\": 1826, \"RESNAME\": 1826, \"ResType\": 1826, \"Address\": 1826, \"City\": 1826, \"County\": 1826, \"Vicinity\": 478, \"MultiName\": 447, \"NumCBldg\": 1826, \"NumCObj\": 1826, \"NumCSite\": 1826, \"NumCStru\": 1826, \"Status\": 1468, \"Is_NHL\": 21, \"Status_Dat\": 1826, \"Listed_Dat\": 1826, \"NARA_URL\": 1766, \"BND_TYPE\": 1826, \"BND_OTHER\": 1826, \"IS_EXTANT\": 1826, \"EXTANT_OTH\": 1826, \"CREATEDATE\": 1826, \"EDIT_DATE\": 1826, \"MAP_METHOD\": 1826, \"MAP_MTH_OT\": 1826, \"SOURCE\": 1826, \"SRC_DATE\": 1826, \"SRC_SCALE\": 1826, \"SRC_ACCU\": 1826, \"SRC_COORD\": 1826, \"ORIGINATOR\": 1826, \"CONSTRANT\": 1826, \"CR_ID\": 1826, \"GEOM_ID\": 1826, \"geometry\": 1826}, {\"State\": \"NORTH DAKOTA\", \"OBJECTID\": 341, \"NRIS_Refnu\": 341, \"PROPERTY_I\": 341, \"RESNAME\": 341, \"ResType\": 341, \"Address\": 341, \"City\": 341, \"County\": 341, \"Vicinity\": 73, \"MultiName\": 132, \"NumCBldg\": 341, \"NumCObj\": 341, \"NumCSite\": 341, \"NumCStru\": 341, \"Status\": 299, \"Is_NHL\": 1, \"Status_Dat\": 341, \"Listed_Dat\": 341, \"NARA_URL\": 322, \"BND_TYPE\": 341, \"BND_OTHER\": 341, \"IS_EXTANT\": 341, \"EXTANT_OTH\": 341, \"CREATEDATE\": 341, \"EDIT_DATE\": 341, \"MAP_METHOD\": 341, \"MAP_MTH_OT\": 341, \"SOURCE\": 341, \"SRC_DATE\": 341, \"SRC_SCALE\": 341, \"SRC_ACCU\": 341, \"SRC_COORD\": 341, \"ORIGINATOR\": 341, \"CONSTRANT\": 341, \"CR_ID\": 341, \"GEOM_ID\": 341, \"geometry\": 341}, {\"State\": \"OHIO\", \"OBJECTID\": 3150, \"NRIS_Refnu\": 3150, \"PROPERTY_I\": 3150, \"RESNAME\": 3150, \"ResType\": 3150, \"Address\": 3150, \"City\": 3150, \"County\": 3150, \"Vicinity\": 521, \"MultiName\": 886, \"NumCBldg\": 3150, \"NumCObj\": 3150, \"NumCSite\": 3150, \"NumCStru\": 3150, \"Status\": 2888, \"Is_NHL\": 46, \"Status_Dat\": 3150, \"Listed_Dat\": 3150, \"NARA_URL\": 3052, \"BND_TYPE\": 3150, \"BND_OTHER\": 3150, \"IS_EXTANT\": 3150, \"EXTANT_OTH\": 3150, \"CREATEDATE\": 3150, \"EDIT_DATE\": 3150, \"MAP_METHOD\": 3150, \"MAP_MTH_OT\": 3150, \"SOURCE\": 3150, \"SRC_DATE\": 3150, \"SRC_SCALE\": 3150, \"SRC_ACCU\": 3150, \"SRC_COORD\": 3150, \"ORIGINATOR\": 3150, \"CONSTRANT\": 3150, \"CR_ID\": 3150, \"GEOM_ID\": 3150, \"geometry\": 3150}, {\"State\": \"OKLAHOMA\", \"OBJECTID\": 1023, \"NRIS_Refnu\": 1023, \"PROPERTY_I\": 1023, \"RESNAME\": 1023, \"ResType\": 1023, \"Address\": 1023, \"City\": 1023, \"County\": 1023, \"Vicinity\": 190, \"MultiName\": 308, \"NumCBldg\": 1023, \"NumCObj\": 1023, \"NumCSite\": 1023, \"NumCStru\": 1023, \"Status\": 837, \"Is_NHL\": 6, \"Status_Dat\": 1023, \"Listed_Dat\": 1023, \"NARA_URL\": 1004, \"BND_TYPE\": 1023, \"BND_OTHER\": 1023, \"IS_EXTANT\": 1023, \"EXTANT_OTH\": 1023, \"CREATEDATE\": 1023, \"EDIT_DATE\": 1023, \"MAP_METHOD\": 1023, \"MAP_MTH_OT\": 1023, \"SOURCE\": 1023, \"SRC_DATE\": 1023, \"SRC_SCALE\": 1023, \"SRC_ACCU\": 1023, \"SRC_COORD\": 1023, \"ORIGINATOR\": 1023, \"CONSTRANT\": 1023, \"CR_ID\": 1023, \"GEOM_ID\": 1023, \"geometry\": 1023}, {\"State\": \"OREGON\", \"OBJECTID\": 1675, \"NRIS_Refnu\": 1675, \"PROPERTY_I\": 1675, \"RESNAME\": 1675, \"ResType\": 1675, \"Address\": 1675, \"City\": 1675, \"County\": 1675, \"Vicinity\": 263, \"MultiName\": 329, \"NumCBldg\": 1675, \"NumCObj\": 1675, \"NumCSite\": 1675, \"NumCStru\": 1675, \"Status\": 1436, \"Is_NHL\": 12, \"Status_Dat\": 1675, \"Listed_Dat\": 1675, \"NARA_URL\": 1647, \"BND_TYPE\": 1675, \"BND_OTHER\": 1675, \"IS_EXTANT\": 1675, \"EXTANT_OTH\": 1663, \"CREATEDATE\": 1675, \"EDIT_DATE\": 1675, \"MAP_METHOD\": 1675, \"MAP_MTH_OT\": 1675, \"SOURCE\": 1675, \"SRC_DATE\": 1675, \"SRC_SCALE\": 1675, \"SRC_ACCU\": 1675, \"SRC_COORD\": 1675, \"ORIGINATOR\": 1675, \"CONSTRANT\": 1675, \"CR_ID\": 1675, \"GEOM_ID\": 1675, \"geometry\": 1675}, {\"State\": \"PALAU\", \"OBJECTID\": 2, \"NRIS_Refnu\": 2, \"PROPERTY_I\": 2, \"RESNAME\": 2, \"ResType\": 2, \"Address\": 2, \"City\": 2, \"County\": 2, \"Vicinity\": 0, \"MultiName\": 0, \"NumCBldg\": 2, \"NumCObj\": 2, \"NumCSite\": 2, \"NumCStru\": 2, \"Status\": 2, \"Is_NHL\": 1, \"Status_Dat\": 2, \"Listed_Dat\": 2, \"NARA_URL\": 2, \"BND_TYPE\": 2, \"BND_OTHER\": 2, \"IS_EXTANT\": 2, \"EXTANT_OTH\": 2, \"CREATEDATE\": 2, \"EDIT_DATE\": 2, \"MAP_METHOD\": 2, \"MAP_MTH_OT\": 2, \"SOURCE\": 2, \"SRC_DATE\": 2, \"SRC_SCALE\": 2, \"SRC_ACCU\": 2, \"SRC_COORD\": 2, \"ORIGINATOR\": 2, \"CONSTRANT\": 2, \"CR_ID\": 2, \"GEOM_ID\": 2, \"geometry\": 2}, {\"State\": \"PENNSYLVANIA\", \"OBJECTID\": 2432, \"NRIS_Refnu\": 2432, \"PROPERTY_I\": 2432, \"RESNAME\": 2432, \"ResType\": 2432, \"Address\": 2432, \"City\": 2432, \"County\": 2432, \"Vicinity\": 618, \"MultiName\": 822, \"NumCBldg\": 2432, \"NumCObj\": 2432, \"NumCSite\": 2432, \"NumCStru\": 2432, \"Status\": 2228, \"Is_NHL\": 109, \"Status_Dat\": 2432, \"Listed_Dat\": 2432, \"NARA_URL\": 2392, \"BND_TYPE\": 2432, \"BND_OTHER\": 2432, \"IS_EXTANT\": 2432, \"EXTANT_OTH\": 2432, \"CREATEDATE\": 2432, \"EDIT_DATE\": 2432, \"MAP_METHOD\": 2432, \"MAP_MTH_OT\": 2432, \"SOURCE\": 2432, \"SRC_DATE\": 2432, \"SRC_SCALE\": 2432, \"SRC_ACCU\": 2432, \"SRC_COORD\": 2432, \"ORIGINATOR\": 2432, \"CONSTRANT\": 2432, \"CR_ID\": 2432, \"GEOM_ID\": 2432, \"geometry\": 2432}, {\"State\": \"PUERTO RICO\", \"OBJECTID\": 283, \"NRIS_Refnu\": 283, \"PROPERTY_I\": 283, \"RESNAME\": 283, \"ResType\": 283, \"Address\": 283, \"City\": 283, \"County\": 283, \"Vicinity\": 84, \"MultiName\": 112, \"NumCBldg\": 283, \"NumCObj\": 283, \"NumCSite\": 283, \"NumCStru\": 283, \"Status\": 254, \"Is_NHL\": 3, \"Status_Dat\": 283, \"Listed_Dat\": 283, \"NARA_URL\": 266, \"BND_TYPE\": 283, \"BND_OTHER\": 283, \"IS_EXTANT\": 283, \"EXTANT_OTH\": 283, \"CREATEDATE\": 283, \"EDIT_DATE\": 283, \"MAP_METHOD\": 283, \"MAP_MTH_OT\": 283, \"SOURCE\": 283, \"SRC_DATE\": 283, \"SRC_SCALE\": 283, \"SRC_ACCU\": 283, \"SRC_COORD\": 283, \"ORIGINATOR\": 283, \"CONSTRANT\": 283, \"CR_ID\": 283, \"GEOM_ID\": 283, \"geometry\": 283}, {\"State\": \"RHODE ISLAND\", \"OBJECTID\": 496, \"NRIS_Refnu\": 496, \"PROPERTY_I\": 496, \"RESNAME\": 496, \"ResType\": 496, \"Address\": 496, \"City\": 496, \"County\": 496, \"Vicinity\": 9, \"MultiName\": 139, \"NumCBldg\": 496, \"NumCObj\": 496, \"NumCSite\": 496, \"NumCStru\": 496, \"Status\": 432, \"Is_NHL\": 33, \"Status_Dat\": 496, \"Listed_Dat\": 496, \"NARA_URL\": 488, \"BND_TYPE\": 496, \"BND_OTHER\": 496, \"IS_EXTANT\": 496, \"EXTANT_OTH\": 496, \"CREATEDATE\": 496, \"EDIT_DATE\": 496, \"MAP_METHOD\": 496, \"MAP_MTH_OT\": 496, \"SOURCE\": 496, \"SRC_DATE\": 496, \"SRC_SCALE\": 496, \"SRC_ACCU\": 496, \"SRC_COORD\": 496, \"ORIGINATOR\": 496, \"CONSTRANT\": 496, \"CR_ID\": 496, \"GEOM_ID\": 496, \"geometry\": 496}, {\"State\": \"SOUTH CAROLINA\", \"OBJECTID\": 952, \"NRIS_Refnu\": 952, \"PROPERTY_I\": 952, \"RESNAME\": 952, \"ResType\": 952, \"Address\": 952, \"City\": 952, \"County\": 952, \"Vicinity\": 271, \"MultiName\": 326, \"NumCBldg\": 952, \"NumCObj\": 952, \"NumCSite\": 952, \"NumCStru\": 952, \"Status\": 871, \"Is_NHL\": 54, \"Status_Dat\": 952, \"Listed_Dat\": 952, \"NARA_URL\": 934, \"BND_TYPE\": 952, \"BND_OTHER\": 952, \"IS_EXTANT\": 952, \"EXTANT_OTH\": 952, \"CREATEDATE\": 952, \"EDIT_DATE\": 952, \"MAP_METHOD\": 952, \"MAP_MTH_OT\": 952, \"SOURCE\": 952, \"SRC_DATE\": 952, \"SRC_SCALE\": 952, \"SRC_ACCU\": 952, \"SRC_COORD\": 952, \"ORIGINATOR\": 952, \"CONSTRANT\": 952, \"CR_ID\": 952, \"GEOM_ID\": 952, \"geometry\": 952}, {\"State\": \"SOUTH DAKOTA\", \"OBJECTID\": 945, \"NRIS_Refnu\": 945, \"PROPERTY_I\": 945, \"RESNAME\": 945, \"ResType\": 945, \"Address\": 945, \"City\": 945, \"County\": 945, \"Vicinity\": 280, \"MultiName\": 317, \"NumCBldg\": 945, \"NumCObj\": 945, \"NumCSite\": 945, \"NumCStru\": 945, \"Status\": 717, \"Is_NHL\": 2, \"Status_Dat\": 945, \"Listed_Dat\": 945, \"NARA_URL\": 911, \"BND_TYPE\": 945, \"BND_OTHER\": 945, \"IS_EXTANT\": 945, \"EXTANT_OTH\": 945, \"CREATEDATE\": 945, \"EDIT_DATE\": 945, \"MAP_METHOD\": 945, \"MAP_MTH_OT\": 945, \"SOURCE\": 945, \"SRC_DATE\": 945, \"SRC_SCALE\": 945, \"SRC_ACCU\": 945, \"SRC_COORD\": 945, \"ORIGINATOR\": 945, \"CONSTRANT\": 945, \"CR_ID\": 945, \"GEOM_ID\": 945, \"geometry\": 945}, {\"State\": \"TENNESSEE\", \"OBJECTID\": 1486, \"NRIS_Refnu\": 1486, \"PROPERTY_I\": 1486, \"RESNAME\": 1486, \"ResType\": 1486, \"Address\": 1486, \"City\": 1486, \"County\": 1486, \"Vicinity\": 402, \"MultiName\": 391, \"NumCBldg\": 1486, \"NumCObj\": 1486, \"NumCSite\": 1486, \"NumCStru\": 1486, \"Status\": 1279, \"Is_NHL\": 12, \"Status_Dat\": 1486, \"Listed_Dat\": 1486, \"NARA_URL\": 2, \"BND_TYPE\": 1486, \"BND_OTHER\": 1486, \"IS_EXTANT\": 1486, \"EXTANT_OTH\": 1486, \"CREATEDATE\": 1486, \"EDIT_DATE\": 1486, \"MAP_METHOD\": 1486, \"MAP_MTH_OT\": 1486, \"SOURCE\": 1486, \"SRC_DATE\": 1486, \"SRC_SCALE\": 1486, \"SRC_ACCU\": 1486, \"SRC_COORD\": 1486, \"ORIGINATOR\": 1486, \"CONSTRANT\": 1486, \"CR_ID\": 1486, \"GEOM_ID\": 1486, \"geometry\": 1486}, {\"State\": \"TEXAS\", \"OBJECTID\": 2514, \"NRIS_Refnu\": 2514, \"PROPERTY_I\": 2514, \"RESNAME\": 2514, \"ResType\": 2514, \"Address\": 2514, \"City\": 2514, \"County\": 2514, \"Vicinity\": 169, \"MultiName\": 1304, \"NumCBldg\": 2514, \"NumCObj\": 2514, \"NumCSite\": 2514, \"NumCStru\": 2514, \"Status\": 2216, \"Is_NHL\": 14, \"Status_Dat\": 2514, \"Listed_Dat\": 2514, \"NARA_URL\": 2491, \"BND_TYPE\": 2514, \"BND_OTHER\": 2514, \"IS_EXTANT\": 2514, \"EXTANT_OTH\": 2514, \"CREATEDATE\": 2514, \"EDIT_DATE\": 2514, \"MAP_METHOD\": 2514, \"MAP_MTH_OT\": 2514, \"SOURCE\": 2514, \"SRC_DATE\": 2514, \"SRC_SCALE\": 2514, \"SRC_ACCU\": 2514, \"SRC_COORD\": 2514, \"ORIGINATOR\": 2514, \"CONSTRANT\": 2514, \"CR_ID\": 2514, \"GEOM_ID\": 2514, \"geometry\": 2514}, {\"State\": \"U.S. MINOR ISLANDS\", \"OBJECTID\": 1, \"NRIS_Refnu\": 1, \"PROPERTY_I\": 1, \"RESNAME\": 1, \"ResType\": 1, \"Address\": 1, \"City\": 1, \"County\": 1, \"Vicinity\": 0, \"MultiName\": 0, \"NumCBldg\": 1, \"NumCObj\": 1, \"NumCSite\": 1, \"NumCStru\": 1, \"Status\": 1, \"Is_NHL\": 1, \"Status_Dat\": 1, \"Listed_Dat\": 1, \"NARA_URL\": 1, \"BND_TYPE\": 1, \"BND_OTHER\": 1, \"IS_EXTANT\": 1, \"EXTANT_OTH\": 1, \"CREATEDATE\": 1, \"EDIT_DATE\": 1, \"MAP_METHOD\": 1, \"MAP_MTH_OT\": 1, \"SOURCE\": 1, \"SRC_DATE\": 1, \"SRC_SCALE\": 1, \"SRC_ACCU\": 1, \"SRC_COORD\": 1, \"ORIGINATOR\": 1, \"CONSTRANT\": 1, \"CR_ID\": 1, \"GEOM_ID\": 1, \"geometry\": 1}, {\"State\": \"UTAH\", \"OBJECTID\": 1288, \"NRIS_Refnu\": 1288, \"PROPERTY_I\": 1288, \"RESNAME\": 1288, \"ResType\": 1288, \"Address\": 1288, \"City\": 1288, \"County\": 1288, \"Vicinity\": 118, \"MultiName\": 661, \"NumCBldg\": 1288, \"NumCObj\": 1288, \"NumCSite\": 1288, \"NumCStru\": 1288, \"Status\": 1125, \"Is_NHL\": 0, \"Status_Dat\": 1288, \"Listed_Dat\": 1288, \"NARA_URL\": 1265, \"BND_TYPE\": 1288, \"BND_OTHER\": 1288, \"IS_EXTANT\": 1288, \"EXTANT_OTH\": 1288, \"CREATEDATE\": 1288, \"EDIT_DATE\": 1288, \"MAP_METHOD\": 1288, \"MAP_MTH_OT\": 1288, \"SOURCE\": 1288, \"SRC_DATE\": 1288, \"SRC_SCALE\": 1288, \"SRC_ACCU\": 1288, \"SRC_COORD\": 1288, \"ORIGINATOR\": 1288, \"CONSTRANT\": 1288, \"CR_ID\": 1288, \"GEOM_ID\": 1288, \"geometry\": 1288}, {\"State\": \"Utah\", \"OBJECTID\": 1, \"NRIS_Refnu\": 1, \"PROPERTY_I\": 1, \"RESNAME\": 1, \"ResType\": 1, \"Address\": 1, \"City\": 1, \"County\": 1, \"Vicinity\": 0, \"MultiName\": 1, \"NumCBldg\": 1, \"NumCObj\": 1, \"NumCSite\": 1, \"NumCStru\": 1, \"Status\": 1, \"Is_NHL\": 1, \"Status_Dat\": 1, \"Listed_Dat\": 1, \"NARA_URL\": 1, \"BND_TYPE\": 1, \"BND_OTHER\": 1, \"IS_EXTANT\": 1, \"EXTANT_OTH\": 1, \"CREATEDATE\": 1, \"EDIT_DATE\": 1, \"MAP_METHOD\": 1, \"MAP_MTH_OT\": 1, \"SOURCE\": 1, \"SRC_DATE\": 1, \"SRC_SCALE\": 1, \"SRC_ACCU\": 1, \"SRC_COORD\": 1, \"ORIGINATOR\": 1, \"CONSTRANT\": 1, \"CR_ID\": 1, \"GEOM_ID\": 1, \"geometry\": 1}, {\"State\": \"VERMONT\", \"OBJECTID\": 555, \"NRIS_Refnu\": 555, \"PROPERTY_I\": 555, \"RESNAME\": 555, \"ResType\": 555, \"Address\": 555, \"City\": 555, \"County\": 555, \"Vicinity\": 106, \"MultiName\": 122, \"NumCBldg\": 555, \"NumCObj\": 555, \"NumCSite\": 555, \"NumCStru\": 555, \"Status\": 441, \"Is_NHL\": 11, \"Status_Dat\": 555, \"Listed_Dat\": 555, \"NARA_URL\": 536, \"BND_TYPE\": 555, \"BND_OTHER\": 555, \"IS_EXTANT\": 555, \"EXTANT_OTH\": 555, \"CREATEDATE\": 555, \"EDIT_DATE\": 555, \"MAP_METHOD\": 555, \"MAP_MTH_OT\": 555, \"SOURCE\": 555, \"SRC_DATE\": 555, \"SRC_SCALE\": 555, \"SRC_ACCU\": 555, \"SRC_COORD\": 555, \"ORIGINATOR\": 555, \"CONSTRANT\": 555, \"CR_ID\": 555, \"GEOM_ID\": 555, \"geometry\": 555}, {\"State\": \"VIRGIN ISLANDS\", \"OBJECTID\": 47, \"NRIS_Refnu\": 47, \"PROPERTY_I\": 47, \"RESNAME\": 47, \"ResType\": 47, \"Address\": 47, \"City\": 47, \"County\": 47, \"Vicinity\": 32, \"MultiName\": 9, \"NumCBldg\": 47, \"NumCObj\": 47, \"NumCSite\": 47, \"NumCStru\": 47, \"Status\": 47, \"Is_NHL\": 4, \"Status_Dat\": 47, \"Listed_Dat\": 47, \"NARA_URL\": 46, \"BND_TYPE\": 47, \"BND_OTHER\": 47, \"IS_EXTANT\": 47, \"EXTANT_OTH\": 47, \"CREATEDATE\": 47, \"EDIT_DATE\": 47, \"MAP_METHOD\": 47, \"MAP_MTH_OT\": 47, \"SOURCE\": 47, \"SRC_DATE\": 47, \"SRC_SCALE\": 47, \"SRC_ACCU\": 47, \"SRC_COORD\": 47, \"ORIGINATOR\": 47, \"CONSTRANT\": 47, \"CR_ID\": 47, \"GEOM_ID\": 47, \"geometry\": 47}, {\"State\": \"VIRGINIA\", \"OBJECTID\": 1492, \"NRIS_Refnu\": 1492, \"PROPERTY_I\": 1492, \"RESNAME\": 1492, \"ResType\": 1492, \"Address\": 1492, \"City\": 1492, \"County\": 1492, \"Vicinity\": 428, \"MultiName\": 169, \"NumCBldg\": 1492, \"NumCObj\": 1492, \"NumCSite\": 1492, \"NumCStru\": 1492, \"Status\": 1063, \"Is_NHL\": 60, \"Status_Dat\": 1492, \"Listed_Dat\": 1492, \"NARA_URL\": 1425, \"BND_TYPE\": 1492, \"BND_OTHER\": 1492, \"IS_EXTANT\": 1492, \"EXTANT_OTH\": 1492, \"CREATEDATE\": 1492, \"EDIT_DATE\": 1492, \"MAP_METHOD\": 1492, \"MAP_MTH_OT\": 1492, \"SOURCE\": 1492, \"SRC_DATE\": 1492, \"SRC_SCALE\": 1492, \"SRC_ACCU\": 1492, \"SRC_COORD\": 1492, \"ORIGINATOR\": 1492, \"CONSTRANT\": 1492, \"CR_ID\": 1492, \"GEOM_ID\": 1492, \"geometry\": 1492}, {\"State\": \"WASHINGTON\", \"OBJECTID\": 1244, \"NRIS_Refnu\": 1244, \"PROPERTY_I\": 1244, \"RESNAME\": 1244, \"ResType\": 1244, \"Address\": 1244, \"City\": 1244, \"County\": 1244, \"Vicinity\": 237, \"MultiName\": 471, \"NumCBldg\": 1244, \"NumCObj\": 1244, \"NumCSite\": 1244, \"NumCStru\": 1244, \"Status\": 1093, \"Is_NHL\": 19, \"Status_Dat\": 1244, \"Listed_Dat\": 1244, \"NARA_URL\": 1209, \"BND_TYPE\": 1244, \"BND_OTHER\": 1244, \"IS_EXTANT\": 1244, \"EXTANT_OTH\": 1226, \"CREATEDATE\": 1244, \"EDIT_DATE\": 1244, \"MAP_METHOD\": 1244, \"MAP_MTH_OT\": 1244, \"SOURCE\": 1244, \"SRC_DATE\": 1244, \"SRC_SCALE\": 1244, \"SRC_ACCU\": 1244, \"SRC_COORD\": 1244, \"ORIGINATOR\": 1244, \"CONSTRANT\": 1244, \"CR_ID\": 1244, \"GEOM_ID\": 1244, \"geometry\": 1244}, {\"State\": \"WEST VIRGINIA\", \"OBJECTID\": 766, \"NRIS_Refnu\": 766, \"PROPERTY_I\": 766, \"RESNAME\": 766, \"ResType\": 766, \"Address\": 766, \"City\": 766, \"County\": 766, \"Vicinity\": 244, \"MultiName\": 138, \"NumCBldg\": 766, \"NumCObj\": 766, \"NumCSite\": 766, \"NumCStru\": 766, \"Status\": 640, \"Is_NHL\": 9, \"Status_Dat\": 766, \"Listed_Dat\": 766, \"NARA_URL\": 747, \"BND_TYPE\": 766, \"BND_OTHER\": 766, \"IS_EXTANT\": 766, \"EXTANT_OTH\": 766, \"CREATEDATE\": 766, \"EDIT_DATE\": 766, \"MAP_METHOD\": 766, \"MAP_MTH_OT\": 766, \"SOURCE\": 766, \"SRC_DATE\": 766, \"SRC_SCALE\": 766, \"SRC_ACCU\": 766, \"SRC_COORD\": 766, \"ORIGINATOR\": 766, \"CONSTRANT\": 766, \"CR_ID\": 766, \"GEOM_ID\": 766, \"geometry\": 766}, {\"State\": \"WISCONSIN\", \"OBJECTID\": 1788, \"NRIS_Refnu\": 1788, \"PROPERTY_I\": 1788, \"RESNAME\": 1788, \"ResType\": 1788, \"Address\": 1788, \"City\": 1788, \"County\": 1788, \"Vicinity\": 168, \"MultiName\": 442, \"NumCBldg\": 1788, \"NumCObj\": 1788, \"NumCSite\": 1788, \"NumCStru\": 1788, \"Status\": 1453, \"Is_NHL\": 28, \"Status_Dat\": 1788, \"Listed_Dat\": 1788, \"NARA_URL\": 1699, \"BND_TYPE\": 1788, \"BND_OTHER\": 1788, \"IS_EXTANT\": 1788, \"EXTANT_OTH\": 1788, \"CREATEDATE\": 1788, \"EDIT_DATE\": 1788, \"MAP_METHOD\": 1788, \"MAP_MTH_OT\": 1788, \"SOURCE\": 1788, \"SRC_DATE\": 1788, \"SRC_SCALE\": 1788, \"SRC_ACCU\": 1788, \"SRC_COORD\": 1788, \"ORIGINATOR\": 1788, \"CONSTRANT\": 1788, \"CR_ID\": 1788, \"GEOM_ID\": 1788, \"geometry\": 1788}, {\"State\": \"WYOMING\", \"OBJECTID\": 320, \"NRIS_Refnu\": 320, \"PROPERTY_I\": 320, \"RESNAME\": 320, \"ResType\": 320, \"Address\": 320, \"City\": 320, \"County\": 320, \"Vicinity\": 102, \"MultiName\": 99, \"NumCBldg\": 320, \"NumCObj\": 320, \"NumCSite\": 320, \"NumCStru\": 320, \"Status\": 267, \"Is_NHL\": 10, \"Status_Dat\": 320, \"Listed_Dat\": 320, \"NARA_URL\": 309, \"BND_TYPE\": 320, \"BND_OTHER\": 320, \"IS_EXTANT\": 320, \"EXTANT_OTH\": 320, \"CREATEDATE\": 320, \"EDIT_DATE\": 320, \"MAP_METHOD\": 320, \"MAP_MTH_OT\": 320, \"SOURCE\": 320, \"SRC_DATE\": 320, \"SRC_SCALE\": 320, \"SRC_ACCU\": 320, \"SRC_COORD\": 320, \"ORIGINATOR\": 320, \"CONSTRANT\": 320, \"CR_ID\": 320, \"GEOM_ID\": 320, \"geometry\": 320}]}}, {\"mode\": \"vega-lite\"});\n",
       "</script>"
      ],
      "text/plain": [
       "alt.Chart(...)"
      ]
     },
     "execution_count": 163,
     "metadata": {},
     "output_type": "execute_result"
    }
   ],
   "source": [
    "alt.Chart(grped).mark_bar().encode(\n",
    "    x='State:N',\n",
    "    y=alt.Y('OBJECTID', title='Count'),\n",
    ")"
   ]
  },
  {
   "cell_type": "code",
   "execution_count": 5,
   "metadata": {},
   "outputs": [],
   "source": [
    "# Add census data\n",
    "acs = cenpy.remote.APIConnection(\"ACSDT5Y2018\")\n",
    "\n",
    "variables = [\"NAME\", \"B01003_001E\",\"B02008_001E\",\"B23025_005E\",\"B23025_001E\",\"B29002_001E\",\"B29002_006E\",\"B29002_007E\",\n",
    "             \"B29002_008E\",\"B29003_001E\",\"B29003_002E\",\"B19001A_001E\",\"B19001A_016E\",\"B19001A_017E\",\"B08126_001E\",\"B08126_003E\"]"
   ]
  },
  {
   "cell_type": "code",
   "execution_count": 6,
   "metadata": {},
   "outputs": [],
   "source": [
    "state_data = acs.query(\n",
    "    cols=variables,\n",
    "    geo_unit=\"state:*\",\n",
    ")"
   ]
  },
  {
   "cell_type": "code",
   "execution_count": 7,
   "metadata": {},
   "outputs": [],
   "source": [
    "for variable in variables:\n",
    "    \n",
    "    # Convert all variables EXCEPT for NAME\n",
    "    if variable != \"NAME\":\n",
    "        state_data[variable] = state_data[variable].astype(float)"
   ]
  },
  {
   "cell_type": "code",
   "execution_count": 8,
   "metadata": {},
   "outputs": [],
   "source": [
    "# Convert to the data to floats\n",
    "for col in variables[1:]:\n",
    "    state_data[col] = state_data[col].astype(int)\n",
    "\n",
    "state_data.columns = ['NAME', 'POPULATION','WHITE','UNEMPLOYED','TOTAL_EMP',\"edu_total\",\"edu_1\",\"edu_2\",\"edu_3\",\n",
    "                       \"pov_tot\",\"pov_below\",\"inc_tot\",\"inc_high1\",\"inc_high2\",\"ind_tot\",\"ind_const\",'state']"
   ]
  },
  {
   "cell_type": "code",
   "execution_count": 9,
   "metadata": {},
   "outputs": [],
   "source": [
    "state_data['white_per'] = state_data['WHITE'] / state_data['POPULATION'] *100\n",
    "\n",
    "state_data['unemployed_per'] = state_data['UNEMPLOYED'] / state_data['TOTAL_EMP'] *100\n",
    "\n",
    "state_data['edu_WithDegree_per'] = (state_data['edu_1'] + state_data['edu_2'] + state_data['edu_3']) / state_data['edu_total'] *100\n",
    "\n",
    "state_data['BelowPoverty_per'] = state_data['pov_below'] / state_data['pov_tot'] *100\n",
    "\n",
    "state_data['Above150_inc_per'] = (state_data['inc_high1'] + state_data['inc_high2']) / state_data['inc_tot'] *100\n",
    "\n",
    "state_data['ind_const_per'] = state_data['ind_const']  / state_data['ind_tot'] *100\n",
    "\n",
    "state_data = state_data[['NAME', 'POPULATION','white_per','unemployed_per','edu_WithDegree_per',\n",
    "                           'BelowPoverty_per','Above150_inc_per','ind_const_per']]"
   ]
  },
  {
   "cell_type": "code",
   "execution_count": 10,
   "metadata": {},
   "outputs": [],
   "source": [
    "state_data['NAME'] = state_data['NAME'].str.upper() "
   ]
  },
  {
   "cell_type": "code",
   "execution_count": 11,
   "metadata": {},
   "outputs": [
    {
     "data": {
      "text/html": [
       "<div>\n",
       "<style scoped>\n",
       "    .dataframe tbody tr th:only-of-type {\n",
       "        vertical-align: middle;\n",
       "    }\n",
       "\n",
       "    .dataframe tbody tr th {\n",
       "        vertical-align: top;\n",
       "    }\n",
       "\n",
       "    .dataframe thead th {\n",
       "        text-align: right;\n",
       "    }\n",
       "</style>\n",
       "<table border=\"1\" class=\"dataframe\">\n",
       "  <thead>\n",
       "    <tr style=\"text-align: right;\">\n",
       "      <th></th>\n",
       "      <th>NAME</th>\n",
       "      <th>POPULATION</th>\n",
       "      <th>white_per</th>\n",
       "      <th>unemployed_per</th>\n",
       "      <th>edu_WithDegree_per</th>\n",
       "      <th>BelowPoverty_per</th>\n",
       "      <th>Above150_inc_per</th>\n",
       "      <th>ind_const_per</th>\n",
       "      <th>State</th>\n",
       "      <th>OBJECTID</th>\n",
       "      <th>...</th>\n",
       "      <th>SOURCE</th>\n",
       "      <th>SRC_DATE</th>\n",
       "      <th>SRC_SCALE</th>\n",
       "      <th>SRC_ACCU</th>\n",
       "      <th>SRC_COORD</th>\n",
       "      <th>ORIGINATOR</th>\n",
       "      <th>CONSTRANT</th>\n",
       "      <th>CR_ID</th>\n",
       "      <th>GEOM_ID</th>\n",
       "      <th>geometry</th>\n",
       "    </tr>\n",
       "  </thead>\n",
       "  <tbody>\n",
       "    <tr>\n",
       "      <th>0</th>\n",
       "      <td>MINNESOTA</td>\n",
       "      <td>5527358</td>\n",
       "      <td>85.924957</td>\n",
       "      <td>2.722489</td>\n",
       "      <td>44.187730</td>\n",
       "      <td>8.738836</td>\n",
       "      <td>15.042854</td>\n",
       "      <td>5.896057</td>\n",
       "      <td>MINNESOTA</td>\n",
       "      <td>1370</td>\n",
       "      <td>...</td>\n",
       "      <td>1370</td>\n",
       "      <td>1370</td>\n",
       "      <td>1370</td>\n",
       "      <td>1370</td>\n",
       "      <td>1370</td>\n",
       "      <td>1370</td>\n",
       "      <td>1370</td>\n",
       "      <td>1370</td>\n",
       "      <td>1370</td>\n",
       "      <td>1370</td>\n",
       "    </tr>\n",
       "    <tr>\n",
       "      <th>1</th>\n",
       "      <td>MISSISSIPPI</td>\n",
       "      <td>2988762</td>\n",
       "      <td>59.787765</td>\n",
       "      <td>4.681803</td>\n",
       "      <td>29.042352</td>\n",
       "      <td>17.923059</td>\n",
       "      <td>8.422468</td>\n",
       "      <td>6.559365</td>\n",
       "      <td>MISSISSIPPI</td>\n",
       "      <td>888</td>\n",
       "      <td>...</td>\n",
       "      <td>888</td>\n",
       "      <td>888</td>\n",
       "      <td>888</td>\n",
       "      <td>888</td>\n",
       "      <td>888</td>\n",
       "      <td>888</td>\n",
       "      <td>888</td>\n",
       "      <td>888</td>\n",
       "      <td>888</td>\n",
       "      <td>888</td>\n",
       "    </tr>\n",
       "    <tr>\n",
       "      <th>2</th>\n",
       "      <td>MISSOURI</td>\n",
       "      <td>6090062</td>\n",
       "      <td>84.580781</td>\n",
       "      <td>3.206331</td>\n",
       "      <td>33.796752</td>\n",
       "      <td>12.307478</td>\n",
       "      <td>9.723096</td>\n",
       "      <td>6.214599</td>\n",
       "      <td>MISSOURI</td>\n",
       "      <td>1672</td>\n",
       "      <td>...</td>\n",
       "      <td>1672</td>\n",
       "      <td>1672</td>\n",
       "      <td>1672</td>\n",
       "      <td>1672</td>\n",
       "      <td>1672</td>\n",
       "      <td>1672</td>\n",
       "      <td>1672</td>\n",
       "      <td>1672</td>\n",
       "      <td>1672</td>\n",
       "      <td>1672</td>\n",
       "    </tr>\n",
       "    <tr>\n",
       "      <th>3</th>\n",
       "      <td>MONTANA</td>\n",
       "      <td>1041732</td>\n",
       "      <td>91.525843</td>\n",
       "      <td>2.674390</td>\n",
       "      <td>36.795302</td>\n",
       "      <td>12.834789</td>\n",
       "      <td>8.609585</td>\n",
       "      <td>7.990213</td>\n",
       "      <td>MONTANA</td>\n",
       "      <td>894</td>\n",
       "      <td>...</td>\n",
       "      <td>894</td>\n",
       "      <td>894</td>\n",
       "      <td>894</td>\n",
       "      <td>894</td>\n",
       "      <td>894</td>\n",
       "      <td>894</td>\n",
       "      <td>894</td>\n",
       "      <td>894</td>\n",
       "      <td>894</td>\n",
       "      <td>894</td>\n",
       "    </tr>\n",
       "    <tr>\n",
       "      <th>4</th>\n",
       "      <td>NEBRASKA</td>\n",
       "      <td>1904760</td>\n",
       "      <td>89.771257</td>\n",
       "      <td>2.463994</td>\n",
       "      <td>39.501217</td>\n",
       "      <td>9.781099</td>\n",
       "      <td>10.077493</td>\n",
       "      <td>6.794072</td>\n",
       "      <td>NEBRASKA</td>\n",
       "      <td>789</td>\n",
       "      <td>...</td>\n",
       "      <td>789</td>\n",
       "      <td>789</td>\n",
       "      <td>789</td>\n",
       "      <td>789</td>\n",
       "      <td>789</td>\n",
       "      <td>789</td>\n",
       "      <td>789</td>\n",
       "      <td>789</td>\n",
       "      <td>789</td>\n",
       "      <td>789</td>\n",
       "    </tr>\n",
       "  </tbody>\n",
       "</table>\n",
       "<p>5 rows × 46 columns</p>\n",
       "</div>"
      ],
      "text/plain": [
       "          NAME  POPULATION  white_per  unemployed_per  edu_WithDegree_per  \\\n",
       "0    MINNESOTA     5527358  85.924957        2.722489           44.187730   \n",
       "1  MISSISSIPPI     2988762  59.787765        4.681803           29.042352   \n",
       "2     MISSOURI     6090062  84.580781        3.206331           33.796752   \n",
       "3      MONTANA     1041732  91.525843        2.674390           36.795302   \n",
       "4     NEBRASKA     1904760  89.771257        2.463994           39.501217   \n",
       "\n",
       "   BelowPoverty_per  Above150_inc_per  ind_const_per        State  OBJECTID  \\\n",
       "0          8.738836         15.042854       5.896057    MINNESOTA      1370   \n",
       "1         17.923059          8.422468       6.559365  MISSISSIPPI       888   \n",
       "2         12.307478          9.723096       6.214599     MISSOURI      1672   \n",
       "3         12.834789          8.609585       7.990213      MONTANA       894   \n",
       "4          9.781099         10.077493       6.794072     NEBRASKA       789   \n",
       "\n",
       "   ...  SOURCE  SRC_DATE  SRC_SCALE  SRC_ACCU  SRC_COORD  ORIGINATOR  \\\n",
       "0  ...    1370      1370       1370      1370       1370        1370   \n",
       "1  ...     888       888        888       888        888         888   \n",
       "2  ...    1672      1672       1672      1672       1672        1672   \n",
       "3  ...     894       894        894       894        894         894   \n",
       "4  ...     789       789        789       789        789         789   \n",
       "\n",
       "   CONSTRANT  CR_ID  GEOM_ID  geometry  \n",
       "0       1370   1370     1370      1370  \n",
       "1        888    888      888       888  \n",
       "2       1672   1672     1672      1672  \n",
       "3        894    894      894       894  \n",
       "4        789    789      789       789  \n",
       "\n",
       "[5 rows x 46 columns]"
      ]
     },
     "execution_count": 11,
     "metadata": {},
     "output_type": "execute_result"
    }
   ],
   "source": [
    "NPS_census = state_data.merge(\n",
    "    grped,\n",
    "    left_on=[\"NAME\"],\n",
    "    right_on=[\"State\"],\n",
    ")"
   ]
  },
  {
   "cell_type": "code",
   "execution_count": 12,
   "metadata": {},
   "outputs": [],
   "source": [
    "NPS_census['LISTINGS_PER_POP'] = NPS_census['OBJECTID'] / NPS_census['POPULATION']"
   ]
  },
  {
   "cell_type": "code",
   "execution_count": 14,
   "metadata": {},
   "outputs": [],
   "source": [
    "NPS_census = NPS_census[['NAME','OBJECTID', 'LISTINGS_PER_POP','POPULATION','white_per','unemployed_per','edu_WithDegree_per',\n",
    "                           'BelowPoverty_per','Above150_inc_per','ind_const_per']]\n",
    "\n",
    "NPS_census.columns = ['NAME', 'NPS_count', 'LISTINGS_PER_POP','POPULATION','white_per','unemployed_per','edu_WithDegree_per',\n",
    "                           'BelowPoverty_per','Above150_inc_per','ind_const_per']"
   ]
  },
  {
   "cell_type": "code",
   "execution_count": 88,
   "metadata": {
    "jupyter": {
     "source_hidden": true
    }
   },
   "outputs": [],
   "source": [
    "NPS_census['LISTINGS_PER_POP'] = NPS_census['OBJECTID'] / NPS_census['POPULATION']\n",
    "\n",
    "NPS_census = NPS_census[['NAME','OBJECTID', 'LISTINGS_PER_POP','POPULATION','white_per','unemployed_per','edu_WithDegree_per',\n",
    "                           'BelowPoverty_per','Above150_inc_per','ind_const_per']]\n",
    "\n",
    "NPS_census.columns = ['NAME','NPS_count', 'LISTINGS_PER_POP','POPULATION','white_per','unemployed_per','edu_WithDegree_per',\n",
    "                           'BelowPoverty_per','Above150_inc_per','ind_const_per']"
   ]
  },
  {
   "cell_type": "code",
   "execution_count": 15,
   "metadata": {},
   "outputs": [
    {
     "data": {
      "text/html": [
       "<div>\n",
       "<style scoped>\n",
       "    .dataframe tbody tr th:only-of-type {\n",
       "        vertical-align: middle;\n",
       "    }\n",
       "\n",
       "    .dataframe tbody tr th {\n",
       "        vertical-align: top;\n",
       "    }\n",
       "\n",
       "    .dataframe thead th {\n",
       "        text-align: right;\n",
       "    }\n",
       "</style>\n",
       "<table border=\"1\" class=\"dataframe\">\n",
       "  <thead>\n",
       "    <tr style=\"text-align: right;\">\n",
       "      <th></th>\n",
       "      <th>NAME</th>\n",
       "      <th>NPS_count</th>\n",
       "      <th>LISTINGS_PER_POP</th>\n",
       "      <th>POPULATION</th>\n",
       "      <th>white_per</th>\n",
       "      <th>unemployed_per</th>\n",
       "      <th>edu_WithDegree_per</th>\n",
       "      <th>BelowPoverty_per</th>\n",
       "      <th>Above150_inc_per</th>\n",
       "      <th>ind_const_per</th>\n",
       "    </tr>\n",
       "  </thead>\n",
       "  <tbody>\n",
       "    <tr>\n",
       "      <th>0</th>\n",
       "      <td>MINNESOTA</td>\n",
       "      <td>1370</td>\n",
       "      <td>0.000248</td>\n",
       "      <td>5527358</td>\n",
       "      <td>85.924957</td>\n",
       "      <td>2.722489</td>\n",
       "      <td>44.187730</td>\n",
       "      <td>8.738836</td>\n",
       "      <td>15.042854</td>\n",
       "      <td>5.896057</td>\n",
       "    </tr>\n",
       "    <tr>\n",
       "      <th>1</th>\n",
       "      <td>MISSISSIPPI</td>\n",
       "      <td>888</td>\n",
       "      <td>0.000297</td>\n",
       "      <td>2988762</td>\n",
       "      <td>59.787765</td>\n",
       "      <td>4.681803</td>\n",
       "      <td>29.042352</td>\n",
       "      <td>17.923059</td>\n",
       "      <td>8.422468</td>\n",
       "      <td>6.559365</td>\n",
       "    </tr>\n",
       "    <tr>\n",
       "      <th>2</th>\n",
       "      <td>MISSOURI</td>\n",
       "      <td>1672</td>\n",
       "      <td>0.000275</td>\n",
       "      <td>6090062</td>\n",
       "      <td>84.580781</td>\n",
       "      <td>3.206331</td>\n",
       "      <td>33.796752</td>\n",
       "      <td>12.307478</td>\n",
       "      <td>9.723096</td>\n",
       "      <td>6.214599</td>\n",
       "    </tr>\n",
       "    <tr>\n",
       "      <th>3</th>\n",
       "      <td>MONTANA</td>\n",
       "      <td>894</td>\n",
       "      <td>0.000858</td>\n",
       "      <td>1041732</td>\n",
       "      <td>91.525843</td>\n",
       "      <td>2.674390</td>\n",
       "      <td>36.795302</td>\n",
       "      <td>12.834789</td>\n",
       "      <td>8.609585</td>\n",
       "      <td>7.990213</td>\n",
       "    </tr>\n",
       "    <tr>\n",
       "      <th>4</th>\n",
       "      <td>NEBRASKA</td>\n",
       "      <td>789</td>\n",
       "      <td>0.000414</td>\n",
       "      <td>1904760</td>\n",
       "      <td>89.771257</td>\n",
       "      <td>2.463994</td>\n",
       "      <td>39.501217</td>\n",
       "      <td>9.781099</td>\n",
       "      <td>10.077493</td>\n",
       "      <td>6.794072</td>\n",
       "    </tr>\n",
       "  </tbody>\n",
       "</table>\n",
       "</div>"
      ],
      "text/plain": [
       "          NAME  NPS_count  LISTINGS_PER_POP  POPULATION  white_per  \\\n",
       "0    MINNESOTA       1370          0.000248     5527358  85.924957   \n",
       "1  MISSISSIPPI        888          0.000297     2988762  59.787765   \n",
       "2     MISSOURI       1672          0.000275     6090062  84.580781   \n",
       "3      MONTANA        894          0.000858     1041732  91.525843   \n",
       "4     NEBRASKA        789          0.000414     1904760  89.771257   \n",
       "\n",
       "   unemployed_per  edu_WithDegree_per  BelowPoverty_per  Above150_inc_per  \\\n",
       "0        2.722489           44.187730          8.738836         15.042854   \n",
       "1        4.681803           29.042352         17.923059          8.422468   \n",
       "2        3.206331           33.796752         12.307478          9.723096   \n",
       "3        2.674390           36.795302         12.834789          8.609585   \n",
       "4        2.463994           39.501217          9.781099         10.077493   \n",
       "\n",
       "   ind_const_per  \n",
       "0       5.896057  \n",
       "1       6.559365  \n",
       "2       6.214599  \n",
       "3       7.990213  \n",
       "4       6.794072  "
      ]
     },
     "execution_count": 15,
     "metadata": {},
     "output_type": "execute_result"
    }
   ],
   "source": [
    "NPS_census.head()"
   ]
  },
  {
   "cell_type": "code",
   "execution_count": 34,
   "metadata": {},
   "outputs": [],
   "source": [
    "# Split the data 70/30\n",
    "train_set, test_set = train_test_split(NPS_census, test_size=0.3, random_state=42)\n",
    "\n",
    "# the target labels\n",
    "y_train = train_set[\"NPS_count\"].values\n",
    "y_test = test_set[\"NPS_count\"].values\n",
    "\n",
    "# The features\n",
    "feature_cols = [col for col in NPS_census.columns if col not in [\"NPS_count\", \"NAME\"]]\n",
    "X_train = train_set[feature_cols].values\n",
    "X_test = test_set[feature_cols].values"
   ]
  },
  {
   "cell_type": "code",
   "execution_count": 45,
   "metadata": {},
   "outputs": [],
   "source": [
    "train_set, test_set = train_test_split(\n",
    "    NPS_census,\n",
    "    test_size=0.3,\n",
    "    random_state=12345,\n",
    ")\n",
    "\n",
    "# the target labels: total sites\n",
    "y_train = train_set[\"NPS_count\"].values\n",
    "y_test = test_set[\"NPS_count\"].values"
   ]
  },
  {
   "cell_type": "code",
   "execution_count": 46,
   "metadata": {},
   "outputs": [],
   "source": [
    "# Extract out only the features we want to use\n",
    "feature_cols = [\n",
    "    \"LISTINGS_PER_POP\",\n",
    "    \"POPULATION\",\n",
    "    \"white_per\",\n",
    "    \"unemployed_per\",\n",
    "    \"edu_WithDegree_per\",\n",
    "    \"BelowPoverty_per\",\n",
    "    \"Above150_inc_per\",\n",
    "    \"ind_const_per\",\n",
    "]\n",
    "\n",
    "train_set = train_set[feature_cols]\n",
    "test_set = test_set[feature_cols]"
   ]
  },
  {
   "cell_type": "code",
   "execution_count": 35,
   "metadata": {
    "slideshow": {
     "slide_type": "slide"
    }
   },
   "outputs": [
    {
     "name": "stdout",
     "output_type": "stream",
     "text": [
      "Linear regression\n",
      "Training Score = 0.5164495027173841\n",
      "Test Score = 0.3609523731999542\n"
     ]
    }
   ],
   "source": [
    "# Linear model pipeline with two steps\n",
    "linear_pipe = make_pipeline(StandardScaler(), LinearRegression())\n",
    "\n",
    "# Fit the pipeline\n",
    "# NEW: This applies all of the transformations, and then fits the model\n",
    "print(\"Linear regression\")\n",
    "linear_pipe.fit(X_train, y_train)\n",
    "\n",
    "# NEW: Print the training score\n",
    "training_score = linear_pipe.score(X_train, y_train)\n",
    "print(f\"Training Score = {training_score}\")\n",
    "\n",
    "# NEW: Print the test score\n",
    "test_score = linear_pipe.score(X_test, y_test)\n",
    "print(f\"Test Score = {test_score}\")"
   ]
  },
  {
   "cell_type": "code",
   "execution_count": 37,
   "metadata": {},
   "outputs": [
    {
     "name": "stdout",
     "output_type": "stream",
     "text": [
      "R^2 scores =  [ 0.33231196  0.00667779  0.16946983  0.31845385 -4.23264284  0.7570984\n",
      " -2.75384535  0.61026892 -0.3941502  -2.25225256]\n",
      "Scores mean =  -0.7438610191446273\n",
      "Score std dev =  1.6241880506216155\n"
     ]
    }
   ],
   "source": [
    "# Make a random forest pipeline\n",
    "forest_pipeline = make_pipeline(\n",
    "    StandardScaler(), RandomForestRegressor(n_estimators=100, random_state=42)\n",
    ")\n",
    "\n",
    "# Run the 10-fold cross validation\n",
    "scores = cross_val_score(\n",
    "    forest_pipeline,\n",
    "    X_train,\n",
    "    y_train,\n",
    "    cv=10,\n",
    ")\n",
    "\n",
    "# Report\n",
    "print(\"R^2 scores = \", scores)\n",
    "print(\"Scores mean = \", scores.mean())\n",
    "print(\"Score std dev = \", scores.std())"
   ]
  },
  {
   "cell_type": "code",
   "execution_count": 38,
   "metadata": {},
   "outputs": [
    {
     "data": {
      "text/plain": [
       "0.4875034055939411"
      ]
     },
     "execution_count": 38,
     "metadata": {},
     "output_type": "execute_result"
    }
   ],
   "source": [
    "# Fit on the training data\n",
    "forest_pipeline.fit(X_train, y_train)\n",
    "\n",
    "# What's the test score?\n",
    "forest_pipeline.score(X_test, y_test)"
   ]
  },
  {
   "cell_type": "code",
   "execution_count": 39,
   "metadata": {},
   "outputs": [],
   "source": [
    "# Extract the regressor from the pipeline\n",
    "forest_model = forest_pipeline[\"randomforestregressor\"]"
   ]
  },
  {
   "cell_type": "code",
   "execution_count": 40,
   "metadata": {},
   "outputs": [
    {
     "data": {},
     "metadata": {},
     "output_type": "display_data"
    },
    {
     "data": {
      "application/vnd.holoviews_exec.v0+json": "",
      "text/html": [
       "<div id='1001'>\n",
       "\n",
       "\n",
       "\n",
       "\n",
       "\n",
       "  <div class=\"bk-root\" id=\"91024e38-e141-4353-9a65-1ab28ebd9881\" data-root-id=\"1001\"></div>\n",
       "</div>\n",
       "<script type=\"application/javascript\">(function(root) {\n",
       "  function embed_document(root) {\n",
       "  var docs_json = {\"5bc79d48-fb92-49eb-9ac8-b782e317f239\":{\"roots\":{\"references\":[{\"attributes\":{\"data_source\":{\"id\":\"1035\"},\"glyph\":{\"id\":\"1038\"},\"hover_glyph\":null,\"muted_glyph\":{\"id\":\"1040\"},\"nonselection_glyph\":{\"id\":\"1039\"},\"selection_glyph\":null,\"view\":{\"id\":\"1042\"}},\"id\":\"1041\",\"type\":\"GlyphRenderer\"},{\"attributes\":{\"axis\":{\"id\":\"1015\"},\"grid_line_color\":null,\"ticker\":null},\"id\":\"1018\",\"type\":\"Grid\"},{\"attributes\":{},\"id\":\"1022\",\"type\":\"SaveTool\"},{\"attributes\":{},\"id\":\"1036\",\"type\":\"Selection\"},{\"attributes\":{\"callback\":null,\"renderers\":[{\"id\":\"1041\"}],\"tags\":[\"hv_created\"],\"tooltips\":[[\"Feature\",\"@{Feature}\"],[\"Importance\",\"@{Importance}\"]]},\"id\":\"1005\",\"type\":\"HoverTool\"},{\"attributes\":{\"data\":{\"Feature\":[\"BelowPoverty_per\",\"white_per\",\"unemployed_per\",\"Above150_inc_per\",\"ind_const_per\",\"edu_WithDegree_per\",\"LISTINGS_PER_POP\",\"POPULATION\"],\"Importance\":{\"__ndarray__\":\"7ex46kGfoj9+t6xZLTekP0Awka6YA6Y/SpjuNJFYpz/yvDoxS36vP2oq150L+bU/httKj720tz+jvM2UOA/jPw==\",\"dtype\":\"float64\",\"order\":\"little\",\"shape\":[8]}},\"selected\":{\"id\":\"1036\"},\"selection_policy\":{\"id\":\"1054\"}},\"id\":\"1035\",\"type\":\"ColumnDataSource\"},{\"attributes\":{},\"id\":\"1013\",\"type\":\"CategoricalScale\"},{\"attributes\":{\"axis\":{\"id\":\"1019\"},\"dimension\":1,\"grid_line_color\":null,\"ticker\":null},\"id\":\"1021\",\"type\":\"Grid\"},{\"attributes\":{\"source\":{\"id\":\"1035\"}},\"id\":\"1042\",\"type\":\"CDSView\"},{\"attributes\":{},\"id\":\"1011\",\"type\":\"LinearScale\"},{\"attributes\":{\"fill_alpha\":{\"value\":0.1},\"fill_color\":{\"value\":\"#1f77b3\"},\"height\":{\"value\":0.8},\"line_alpha\":{\"value\":0.1},\"right\":{\"field\":\"Importance\"},\"y\":{\"field\":\"Feature\"}},\"id\":\"1039\",\"type\":\"HBar\"},{\"attributes\":{\"factors\":[\"BelowPoverty_per\",\"white_per\",\"unemployed_per\",\"Above150_inc_per\",\"ind_const_per\",\"edu_WithDegree_per\",\"LISTINGS_PER_POP\",\"POPULATION\"],\"tags\":[[[\"Feature\",\"Feature\",null]]]},\"id\":\"1004\",\"type\":\"FactorRange\"},{\"attributes\":{},\"id\":\"1054\",\"type\":\"UnionRenderers\"},{\"attributes\":{\"children\":[{\"id\":\"1002\"},{\"id\":\"1006\"},{\"id\":\"1063\"}],\"margin\":[0,0,0,0],\"name\":\"Row01565\",\"tags\":[\"embedded\"]},\"id\":\"1001\",\"type\":\"Row\"},{\"attributes\":{\"text\":\"\",\"text_color\":{\"value\":\"black\"},\"text_font_size\":{\"value\":\"12pt\"}},\"id\":\"1007\",\"type\":\"Title\"},{\"attributes\":{},\"id\":\"1020\",\"type\":\"CategoricalTicker\"},{\"attributes\":{\"fill_color\":{\"value\":\"#1f77b3\"},\"height\":{\"value\":0.8},\"right\":{\"field\":\"Importance\"},\"y\":{\"field\":\"Feature\"}},\"id\":\"1038\",\"type\":\"HBar\"},{\"attributes\":{\"axis_label\":\"Feature\",\"bounds\":\"auto\",\"formatter\":{\"id\":\"1045\"},\"major_label_orientation\":\"horizontal\",\"ticker\":{\"id\":\"1020\"}},\"id\":\"1019\",\"type\":\"CategoricalAxis\"},{\"attributes\":{\"margin\":[5,5,5,5],\"name\":\"HSpacer01570\",\"sizing_mode\":\"stretch_width\"},\"id\":\"1063\",\"type\":\"Spacer\"},{\"attributes\":{\"align\":null,\"below\":[{\"id\":\"1015\"}],\"center\":[{\"id\":\"1018\"},{\"id\":\"1021\"}],\"left\":[{\"id\":\"1019\"}],\"margin\":null,\"min_border_bottom\":10,\"min_border_left\":10,\"min_border_right\":10,\"min_border_top\":10,\"plot_height\":300,\"plot_width\":700,\"renderers\":[{\"id\":\"1041\"}],\"sizing_mode\":\"fixed\",\"title\":{\"id\":\"1007\"},\"toolbar\":{\"id\":\"1028\"},\"x_range\":{\"id\":\"1003\"},\"x_scale\":{\"id\":\"1011\"},\"y_range\":{\"id\":\"1004\"},\"y_scale\":{\"id\":\"1013\"}},\"id\":\"1006\",\"subtype\":\"Figure\",\"type\":\"Plot\"},{\"attributes\":{\"end\":0.6515317093926916,\"reset_end\":0.6515317093926916,\"reset_start\":0.0,\"tags\":[[[\"Importance\",\"Importance\",null]]]},\"id\":\"1003\",\"type\":\"Range1d\"},{\"attributes\":{\"bottom_units\":\"screen\",\"fill_alpha\":0.5,\"fill_color\":\"lightgrey\",\"left_units\":\"screen\",\"level\":\"overlay\",\"line_alpha\":1.0,\"line_color\":\"black\",\"line_dash\":[4,4],\"line_width\":2,\"right_units\":\"screen\",\"top_units\":\"screen\"},\"id\":\"1027\",\"type\":\"BoxAnnotation\"},{\"attributes\":{\"margin\":[5,5,5,5],\"name\":\"HSpacer01569\",\"sizing_mode\":\"stretch_width\"},\"id\":\"1002\",\"type\":\"Spacer\"},{\"attributes\":{},\"id\":\"1026\",\"type\":\"ResetTool\"},{\"attributes\":{},\"id\":\"1043\",\"type\":\"BasicTickFormatter\"},{\"attributes\":{},\"id\":\"1045\",\"type\":\"CategoricalTickFormatter\"},{\"attributes\":{},\"id\":\"1016\",\"type\":\"BasicTicker\"},{\"attributes\":{\"active_drag\":\"auto\",\"active_inspect\":\"auto\",\"active_multi\":null,\"active_scroll\":\"auto\",\"active_tap\":\"auto\",\"tools\":[{\"id\":\"1005\"},{\"id\":\"1022\"},{\"id\":\"1023\"},{\"id\":\"1024\"},{\"id\":\"1025\"},{\"id\":\"1026\"}]},\"id\":\"1028\",\"type\":\"Toolbar\"},{\"attributes\":{\"fill_alpha\":{\"value\":0.2},\"fill_color\":{\"value\":\"#1f77b3\"},\"height\":{\"value\":0.8},\"line_alpha\":{\"value\":0.2},\"right\":{\"field\":\"Importance\"},\"y\":{\"field\":\"Feature\"}},\"id\":\"1040\",\"type\":\"HBar\"},{\"attributes\":{\"axis_label\":\"Importance\",\"bounds\":\"auto\",\"formatter\":{\"id\":\"1043\"},\"major_label_orientation\":\"horizontal\",\"ticker\":{\"id\":\"1016\"}},\"id\":\"1015\",\"type\":\"LinearAxis\"},{\"attributes\":{\"overlay\":{\"id\":\"1027\"}},\"id\":\"1025\",\"type\":\"BoxZoomTool\"},{\"attributes\":{},\"id\":\"1023\",\"type\":\"PanTool\"},{\"attributes\":{},\"id\":\"1024\",\"type\":\"WheelZoomTool\"}],\"root_ids\":[\"1001\"]},\"title\":\"Bokeh Application\",\"version\":\"2.1.1\"}};\n",
       "  var render_items = [{\"docid\":\"5bc79d48-fb92-49eb-9ac8-b782e317f239\",\"root_ids\":[\"1001\"],\"roots\":{\"1001\":\"91024e38-e141-4353-9a65-1ab28ebd9881\"}}];\n",
       "  root.Bokeh.embed.embed_items_notebook(docs_json, render_items);\n",
       "  }\n",
       "if (root.Bokeh !== undefined) {\n",
       "    embed_document(root);\n",
       "  } else {\n",
       "    var attempts = 0;\n",
       "    var timer = setInterval(function(root) {\n",
       "      if (root.Bokeh !== undefined) {\n",
       "        clearInterval(timer);\n",
       "        embed_document(root);\n",
       "      } else if (document.readyState == \"complete\") {\n",
       "        attempts++;\n",
       "        if (attempts > 100) {\n",
       "          clearInterval(timer);\n",
       "          console.log(\"Bokeh: ERROR: Unable to run BokehJS code because BokehJS library is missing\");\n",
       "        }\n",
       "      }\n",
       "    }, 10, root)\n",
       "  }\n",
       "})(window);</script>"
      ],
      "text/plain": [
       ":Bars   [Feature]   (Importance)"
      ]
     },
     "execution_count": 40,
     "metadata": {
      "application/vnd.holoviews_exec.v0+json": {
       "id": "1001"
      }
     },
     "output_type": "execute_result"
    }
   ],
   "source": [
    "# Create the data frame of importances\n",
    "importance = pd.DataFrame(\n",
    "    {\"Feature\": feature_cols, \"Importance\": forest_model.feature_importances_}\n",
    ").sort_values(\"Importance\")\n",
    "\n",
    "\n",
    "importance.hvplot.barh(x=\"Feature\", y=\"Importance\")"
   ]
  },
  {
   "cell_type": "code",
   "execution_count": 41,
   "metadata": {},
   "outputs": [
    {
     "data": {
      "text/html": [
       "<div>\n",
       "<style scoped>\n",
       "    .dataframe tbody tr th:only-of-type {\n",
       "        vertical-align: middle;\n",
       "    }\n",
       "\n",
       "    .dataframe tbody tr th {\n",
       "        vertical-align: top;\n",
       "    }\n",
       "\n",
       "    .dataframe thead th {\n",
       "        text-align: right;\n",
       "    }\n",
       "</style>\n",
       "<table border=\"1\" class=\"dataframe\">\n",
       "  <thead>\n",
       "    <tr style=\"text-align: right;\">\n",
       "      <th></th>\n",
       "      <th>Feature</th>\n",
       "      <th>Importance</th>\n",
       "    </tr>\n",
       "  </thead>\n",
       "  <tbody>\n",
       "    <tr>\n",
       "      <th>5</th>\n",
       "      <td>BelowPoverty_per</td>\n",
       "      <td>0.036371</td>\n",
       "    </tr>\n",
       "    <tr>\n",
       "      <th>2</th>\n",
       "      <td>white_per</td>\n",
       "      <td>0.039483</td>\n",
       "    </tr>\n",
       "    <tr>\n",
       "      <th>3</th>\n",
       "      <td>unemployed_per</td>\n",
       "      <td>0.042996</td>\n",
       "    </tr>\n",
       "    <tr>\n",
       "      <th>6</th>\n",
       "      <td>Above150_inc_per</td>\n",
       "      <td>0.045598</td>\n",
       "    </tr>\n",
       "    <tr>\n",
       "      <th>7</th>\n",
       "      <td>ind_const_per</td>\n",
       "      <td>0.061510</td>\n",
       "    </tr>\n",
       "  </tbody>\n",
       "</table>\n",
       "</div>"
      ],
      "text/plain": [
       "            Feature  Importance\n",
       "5  BelowPoverty_per    0.036371\n",
       "2         white_per    0.039483\n",
       "3    unemployed_per    0.042996\n",
       "6  Above150_inc_per    0.045598\n",
       "7     ind_const_per    0.061510"
      ]
     },
     "execution_count": 41,
     "metadata": {},
     "output_type": "execute_result"
    }
   ],
   "source": [
    "importance.head()"
   ]
  },
  {
   "cell_type": "code",
   "execution_count": 47,
   "metadata": {},
   "outputs": [],
   "source": [
    "# Setup the pipeline with a standard scaler\n",
    "pipe = make_pipeline(\n",
    "    StandardScaler(), RandomForestRegressor(random_state=42)\n",
    ")"
   ]
  },
  {
   "cell_type": "code",
   "execution_count": 48,
   "metadata": {},
   "outputs": [
    {
     "data": {
      "text/plain": [
       "{'randomforestregressor__n_estimators': [5, 10, 15, 20, 30],\n",
       " 'randomforestregressor__max_depth': [None, 2, 5, 7, 9, 13]}"
      ]
     },
     "execution_count": 48,
     "metadata": {},
     "output_type": "execute_result"
    }
   ],
   "source": [
    "model_name = \"randomforestregressor\"\n",
    "param_grid = {\n",
    "    f\"{model_name}__n_estimators\": [5, 10, 15, 20, 30],\n",
    "    f\"{model_name}__max_depth\": [None, 2, 5, 7, 9, 13],\n",
    "}\n",
    "\n",
    "param_grid"
   ]
  },
  {
   "cell_type": "code",
   "execution_count": 49,
   "metadata": {},
   "outputs": [],
   "source": [
    "# Create the grid and use 5-fold CV\n",
    "grid = GridSearchCV(pipe, param_grid, cv=5)\n",
    "\n",
    "# Run the search\n",
    "grid.fit(train_set, y_train);"
   ]
  },
  {
   "cell_type": "code",
   "execution_count": 50,
   "metadata": {},
   "outputs": [
    {
     "data": {
      "text/plain": [
       "{'randomforestregressor__max_depth': 5,\n",
       " 'randomforestregressor__n_estimators': 30}"
      ]
     },
     "execution_count": 50,
     "metadata": {},
     "output_type": "execute_result"
    }
   ],
   "source": [
    "grid.best_params_"
   ]
  },
  {
   "cell_type": "code",
   "execution_count": 51,
   "metadata": {},
   "outputs": [
    {
     "data": {
      "text/plain": [
       "0.5612070660541342"
      ]
     },
     "execution_count": 51,
     "metadata": {},
     "output_type": "execute_result"
    }
   ],
   "source": [
    "# Evaluate the best random forest model\n",
    "best_random = grid.best_estimator_\n",
    "grid.score(test_set, y_test)"
   ]
  },
  {
   "cell_type": "code",
   "execution_count": 52,
   "metadata": {},
   "outputs": [
    {
     "data": {
      "text/plain": [
       "0.02371460649529289"
      ]
     },
     "execution_count": 52,
     "metadata": {},
     "output_type": "execute_result"
    }
   ],
   "source": [
    "# Set up a linear pipeline\n",
    "linear = make_pipeline(StandardScaler(), LinearRegression())\n",
    "\n",
    "# Fit on train set\n",
    "linear.fit(train_set, y_train)\n",
    "\n",
    "# Evaluate on test set\n",
    "linear.score(test_set, y_test)"
   ]
  },
  {
   "cell_type": "code",
   "execution_count": 53,
   "metadata": {},
   "outputs": [
    {
     "data": {},
     "metadata": {},
     "output_type": "display_data"
    },
    {
     "data": {
      "application/vnd.holoviews_exec.v0+json": "",
      "text/html": [
       "<div id='1105'>\n",
       "\n",
       "\n",
       "\n",
       "\n",
       "\n",
       "  <div class=\"bk-root\" id=\"024a1d10-5685-430e-b211-b910c0baab3e\" data-root-id=\"1105\"></div>\n",
       "</div>\n",
       "<script type=\"application/javascript\">(function(root) {\n",
       "  function embed_document(root) {\n",
       "  var docs_json = {\"97d45eb2-b00b-403c-a8c5-04af4e53e261\":{\"roots\":{\"references\":[{\"attributes\":{\"factors\":[\"unemployed_per\",\"BelowPoverty_per\",\"white_per\",\"Above150_inc_per\",\"LISTINGS_PER_POP\",\"edu_WithDegree_per\",\"ind_const_per\",\"POPULATION\"],\"tags\":[[[\"Feature\",\"Feature\",null]]]},\"id\":\"1108\",\"type\":\"FactorRange\"},{\"attributes\":{\"source\":{\"id\":\"1139\"}},\"id\":\"1146\",\"type\":\"CDSView\"},{\"attributes\":{\"fill_color\":{\"value\":\"#1f77b3\"},\"height\":{\"value\":0.8},\"right\":{\"field\":\"Importance\"},\"y\":{\"field\":\"Feature\"}},\"id\":\"1142\",\"type\":\"HBar\"},{\"attributes\":{},\"id\":\"1158\",\"type\":\"UnionRenderers\"},{\"attributes\":{\"margin\":[5,5,5,5],\"name\":\"HSpacer01763\",\"sizing_mode\":\"stretch_width\"},\"id\":\"1106\",\"type\":\"Spacer\"},{\"attributes\":{\"end\":0.6250686459448683,\"reset_end\":0.6250686459448683,\"reset_start\":0.0,\"tags\":[[[\"Importance\",\"Importance\",null]]]},\"id\":\"1107\",\"type\":\"Range1d\"},{\"attributes\":{},\"id\":\"1120\",\"type\":\"BasicTicker\"},{\"attributes\":{\"children\":[{\"id\":\"1106\"},{\"id\":\"1110\"},{\"id\":\"1167\"}],\"margin\":[0,0,0,0],\"name\":\"Row01759\",\"tags\":[\"embedded\"]},\"id\":\"1105\",\"type\":\"Row\"},{\"attributes\":{\"align\":null,\"below\":[{\"id\":\"1119\"}],\"center\":[{\"id\":\"1122\"},{\"id\":\"1125\"}],\"left\":[{\"id\":\"1123\"}],\"margin\":null,\"min_border_bottom\":10,\"min_border_left\":10,\"min_border_right\":10,\"min_border_top\":10,\"plot_height\":300,\"plot_width\":700,\"renderers\":[{\"id\":\"1145\"}],\"sizing_mode\":\"fixed\",\"title\":{\"id\":\"1111\"},\"toolbar\":{\"id\":\"1132\"},\"x_range\":{\"id\":\"1107\"},\"x_scale\":{\"id\":\"1115\"},\"y_range\":{\"id\":\"1108\"},\"y_scale\":{\"id\":\"1117\"}},\"id\":\"1110\",\"subtype\":\"Figure\",\"type\":\"Plot\"},{\"attributes\":{\"text\":\"\",\"text_color\":{\"value\":\"black\"},\"text_font_size\":{\"value\":\"12pt\"}},\"id\":\"1111\",\"type\":\"Title\"},{\"attributes\":{\"bottom_units\":\"screen\",\"fill_alpha\":0.5,\"fill_color\":\"lightgrey\",\"left_units\":\"screen\",\"level\":\"overlay\",\"line_alpha\":1.0,\"line_color\":\"black\",\"line_dash\":[4,4],\"line_width\":2,\"right_units\":\"screen\",\"top_units\":\"screen\"},\"id\":\"1131\",\"type\":\"BoxAnnotation\"},{\"attributes\":{\"data_source\":{\"id\":\"1139\"},\"glyph\":{\"id\":\"1142\"},\"hover_glyph\":null,\"muted_glyph\":{\"id\":\"1144\"},\"nonselection_glyph\":{\"id\":\"1143\"},\"selection_glyph\":null,\"view\":{\"id\":\"1146\"}},\"id\":\"1145\",\"type\":\"GlyphRenderer\"},{\"attributes\":{},\"id\":\"1130\",\"type\":\"ResetTool\"},{\"attributes\":{\"active_drag\":\"auto\",\"active_inspect\":\"auto\",\"active_multi\":null,\"active_scroll\":\"auto\",\"active_tap\":\"auto\",\"tools\":[{\"id\":\"1109\"},{\"id\":\"1126\"},{\"id\":\"1127\"},{\"id\":\"1128\"},{\"id\":\"1129\"},{\"id\":\"1130\"}]},\"id\":\"1132\",\"type\":\"Toolbar\"},{\"attributes\":{},\"id\":\"1115\",\"type\":\"LinearScale\"},{\"attributes\":{\"fill_alpha\":{\"value\":0.1},\"fill_color\":{\"value\":\"#1f77b3\"},\"height\":{\"value\":0.8},\"line_alpha\":{\"value\":0.1},\"right\":{\"field\":\"Importance\"},\"y\":{\"field\":\"Feature\"}},\"id\":\"1143\",\"type\":\"HBar\"},{\"attributes\":{},\"id\":\"1124\",\"type\":\"CategoricalTicker\"},{\"attributes\":{\"overlay\":{\"id\":\"1131\"}},\"id\":\"1129\",\"type\":\"BoxZoomTool\"},{\"attributes\":{},\"id\":\"1127\",\"type\":\"PanTool\"},{\"attributes\":{\"margin\":[5,5,5,5],\"name\":\"HSpacer01764\",\"sizing_mode\":\"stretch_width\"},\"id\":\"1167\",\"type\":\"Spacer\"},{\"attributes\":{},\"id\":\"1128\",\"type\":\"WheelZoomTool\"},{\"attributes\":{},\"id\":\"1117\",\"type\":\"CategoricalScale\"},{\"attributes\":{},\"id\":\"1126\",\"type\":\"SaveTool\"},{\"attributes\":{\"axis_label\":\"Feature\",\"bounds\":\"auto\",\"formatter\":{\"id\":\"1149\"},\"major_label_orientation\":\"horizontal\",\"ticker\":{\"id\":\"1124\"}},\"id\":\"1123\",\"type\":\"CategoricalAxis\"},{\"attributes\":{},\"id\":\"1147\",\"type\":\"BasicTickFormatter\"},{\"attributes\":{},\"id\":\"1149\",\"type\":\"CategoricalTickFormatter\"},{\"attributes\":{},\"id\":\"1140\",\"type\":\"Selection\"},{\"attributes\":{\"axis_label\":\"Importance\",\"bounds\":\"auto\",\"formatter\":{\"id\":\"1147\"},\"major_label_orientation\":\"horizontal\",\"ticker\":{\"id\":\"1120\"}},\"id\":\"1119\",\"type\":\"LinearAxis\"},{\"attributes\":{\"fill_alpha\":{\"value\":0.2},\"fill_color\":{\"value\":\"#1f77b3\"},\"height\":{\"value\":0.8},\"line_alpha\":{\"value\":0.2},\"right\":{\"field\":\"Importance\"},\"y\":{\"field\":\"Feature\"}},\"id\":\"1144\",\"type\":\"HBar\"},{\"attributes\":{\"axis\":{\"id\":\"1123\"},\"dimension\":1,\"grid_line_color\":null,\"ticker\":null},\"id\":\"1125\",\"type\":\"Grid\"},{\"attributes\":{\"axis\":{\"id\":\"1119\"},\"grid_line_color\":null,\"ticker\":null},\"id\":\"1122\",\"type\":\"Grid\"},{\"attributes\":{\"data\":{\"Feature\":[\"POPULATION\",\"ind_const_per\",\"edu_WithDegree_per\",\"LISTINGS_PER_POP\",\"Above150_inc_per\",\"white_per\",\"BelowPoverty_per\",\"unemployed_per\"],\"Importance\":{\"__ndarray__\":\"q6FRlqc64j/QjkW0vlK7P7rBEnrNKrs/sgtMyMUYuT8FWTF4ROipP0E8qGxnrZ8/G2x40Vnhlj+p/m1Z9uSPPw==\",\"dtype\":\"float64\",\"order\":\"little\",\"shape\":[8]}},\"selected\":{\"id\":\"1140\"},\"selection_policy\":{\"id\":\"1158\"}},\"id\":\"1139\",\"type\":\"ColumnDataSource\"},{\"attributes\":{\"callback\":null,\"renderers\":[{\"id\":\"1145\"}],\"tags\":[\"hv_created\"],\"tooltips\":[[\"Feature\",\"@{Feature}\"],[\"Importance\",\"@{Importance}\"]]},\"id\":\"1109\",\"type\":\"HoverTool\"}],\"root_ids\":[\"1105\"]},\"title\":\"Bokeh Application\",\"version\":\"2.1.1\"}};\n",
       "  var render_items = [{\"docid\":\"97d45eb2-b00b-403c-a8c5-04af4e53e261\",\"root_ids\":[\"1105\"],\"roots\":{\"1105\":\"024a1d10-5685-430e-b211-b910c0baab3e\"}}];\n",
       "  root.Bokeh.embed.embed_items_notebook(docs_json, render_items);\n",
       "  }\n",
       "if (root.Bokeh !== undefined) {\n",
       "    embed_document(root);\n",
       "  } else {\n",
       "    var attempts = 0;\n",
       "    var timer = setInterval(function(root) {\n",
       "      if (root.Bokeh !== undefined) {\n",
       "        clearInterval(timer);\n",
       "        embed_document(root);\n",
       "      } else if (document.readyState == \"complete\") {\n",
       "        attempts++;\n",
       "        if (attempts > 100) {\n",
       "          clearInterval(timer);\n",
       "          console.log(\"Bokeh: ERROR: Unable to run BokehJS code because BokehJS library is missing\");\n",
       "        }\n",
       "      }\n",
       "    }, 10, root)\n",
       "  }\n",
       "})(window);</script>"
      ],
      "text/plain": [
       ":Bars   [Feature]   (Importance)"
      ]
     },
     "execution_count": 53,
     "metadata": {
      "application/vnd.holoviews_exec.v0+json": {
       "id": "1105"
      }
     },
     "output_type": "execute_result"
    }
   ],
   "source": [
    "# The best model\n",
    "regressor = grid.best_estimator_[\"randomforestregressor\"]\n",
    "\n",
    "# Create the dataframe with importances\n",
    "importance = pd.DataFrame(\n",
    "    {\"Feature\": train_set.columns, \"Importance\": regressor.feature_importances_}\n",
    ")\n",
    "\n",
    "# Sort importance in descending order and get the top\n",
    "importance = importance.sort_values(\"Importance\", ascending=False)\n",
    "\n",
    "# Plot\n",
    "importance.hvplot.barh(x=\"Feature\", y=\"Importance\", flip_yaxis=True, height=300)"
   ]
  },
  {
   "cell_type": "code",
   "execution_count": 54,
   "metadata": {},
   "outputs": [
    {
     "data": {
      "text/html": [
       "<div>\n",
       "<style scoped>\n",
       "    .dataframe tbody tr th:only-of-type {\n",
       "        vertical-align: middle;\n",
       "    }\n",
       "\n",
       "    .dataframe tbody tr th {\n",
       "        vertical-align: top;\n",
       "    }\n",
       "\n",
       "    .dataframe thead th {\n",
       "        text-align: right;\n",
       "    }\n",
       "</style>\n",
       "<table border=\"1\" class=\"dataframe\">\n",
       "  <thead>\n",
       "    <tr style=\"text-align: right;\">\n",
       "      <th></th>\n",
       "      <th>Feature</th>\n",
       "      <th>Importance</th>\n",
       "    </tr>\n",
       "  </thead>\n",
       "  <tbody>\n",
       "    <tr>\n",
       "      <th>1</th>\n",
       "      <td>POPULATION</td>\n",
       "      <td>0.569660</td>\n",
       "    </tr>\n",
       "    <tr>\n",
       "      <th>7</th>\n",
       "      <td>ind_const_per</td>\n",
       "      <td>0.106731</td>\n",
       "    </tr>\n",
       "    <tr>\n",
       "      <th>4</th>\n",
       "      <td>edu_WithDegree_per</td>\n",
       "      <td>0.106122</td>\n",
       "    </tr>\n",
       "    <tr>\n",
       "      <th>0</th>\n",
       "      <td>LISTINGS_PER_POP</td>\n",
       "      <td>0.098034</td>\n",
       "    </tr>\n",
       "    <tr>\n",
       "      <th>6</th>\n",
       "      <td>Above150_inc_per</td>\n",
       "      <td>0.050600</td>\n",
       "    </tr>\n",
       "    <tr>\n",
       "      <th>2</th>\n",
       "      <td>white_per</td>\n",
       "      <td>0.030935</td>\n",
       "    </tr>\n",
       "    <tr>\n",
       "      <th>5</th>\n",
       "      <td>BelowPoverty_per</td>\n",
       "      <td>0.022344</td>\n",
       "    </tr>\n",
       "    <tr>\n",
       "      <th>3</th>\n",
       "      <td>unemployed_per</td>\n",
       "      <td>0.015573</td>\n",
       "    </tr>\n",
       "  </tbody>\n",
       "</table>\n",
       "</div>"
      ],
      "text/plain": [
       "              Feature  Importance\n",
       "1          POPULATION    0.569660\n",
       "7       ind_const_per    0.106731\n",
       "4  edu_WithDegree_per    0.106122\n",
       "0    LISTINGS_PER_POP    0.098034\n",
       "6    Above150_inc_per    0.050600\n",
       "2           white_per    0.030935\n",
       "5    BelowPoverty_per    0.022344\n",
       "3      unemployed_per    0.015573"
      ]
     },
     "execution_count": 54,
     "metadata": {},
     "output_type": "execute_result"
    }
   ],
   "source": [
    "importance"
   ]
  },
  {
   "cell_type": "code",
   "execution_count": 55,
   "metadata": {},
   "outputs": [
    {
     "data": {
      "text/plain": [
       "Int64Index([26, 39, 38, 25, 6, 28, 30, 12, 35, 44, 47, 8, 21, 19, 2, 20], dtype='int64')"
      ]
     },
     "execution_count": 55,
     "metadata": {},
     "output_type": "execute_result"
    }
   ],
   "source": [
    "test_set.index"
   ]
  },
  {
   "cell_type": "code",
   "execution_count": 56,
   "metadata": {},
   "outputs": [],
   "source": [
    "# Extract the test data from the original dataset\n",
    "# This will include the geometry data\n",
    "X = NPS_census.loc[test_set.index]"
   ]
  },
  {
   "cell_type": "code",
   "execution_count": 57,
   "metadata": {},
   "outputs": [
    {
     "data": {
      "text/html": [
       "<div>\n",
       "<style scoped>\n",
       "    .dataframe tbody tr th:only-of-type {\n",
       "        vertical-align: middle;\n",
       "    }\n",
       "\n",
       "    .dataframe tbody tr th {\n",
       "        vertical-align: top;\n",
       "    }\n",
       "\n",
       "    .dataframe thead th {\n",
       "        text-align: right;\n",
       "    }\n",
       "</style>\n",
       "<table border=\"1\" class=\"dataframe\">\n",
       "  <thead>\n",
       "    <tr style=\"text-align: right;\">\n",
       "      <th></th>\n",
       "      <th>NAME</th>\n",
       "      <th>NPS_count</th>\n",
       "      <th>LISTINGS_PER_POP</th>\n",
       "      <th>POPULATION</th>\n",
       "      <th>white_per</th>\n",
       "      <th>unemployed_per</th>\n",
       "      <th>edu_WithDegree_per</th>\n",
       "      <th>BelowPoverty_per</th>\n",
       "      <th>Above150_inc_per</th>\n",
       "      <th>ind_const_per</th>\n",
       "    </tr>\n",
       "  </thead>\n",
       "  <tbody>\n",
       "    <tr>\n",
       "      <th>26</th>\n",
       "      <td>WISCONSIN</td>\n",
       "      <td>1788</td>\n",
       "      <td>0.000309</td>\n",
       "      <td>5778394</td>\n",
       "      <td>87.750057</td>\n",
       "      <td>2.689803</td>\n",
       "      <td>37.567537</td>\n",
       "      <td>10.398669</td>\n",
       "      <td>10.132417</td>\n",
       "      <td>5.617952</td>\n",
       "    </tr>\n",
       "    <tr>\n",
       "      <th>39</th>\n",
       "      <td>GEORGIA</td>\n",
       "      <td>1327</td>\n",
       "      <td>0.000129</td>\n",
       "      <td>10297484</td>\n",
       "      <td>61.040114</td>\n",
       "      <td>3.994620</td>\n",
       "      <td>35.560154</td>\n",
       "      <td>13.303005</td>\n",
       "      <td>14.082547</td>\n",
       "      <td>6.512929</td>\n",
       "    </tr>\n",
       "    <tr>\n",
       "      <th>38</th>\n",
       "      <td>FLORIDA</td>\n",
       "      <td>1307</td>\n",
       "      <td>0.000063</td>\n",
       "      <td>20598139</td>\n",
       "      <td>77.628125</td>\n",
       "      <td>3.679227</td>\n",
       "      <td>37.744406</td>\n",
       "      <td>12.077290</td>\n",
       "      <td>11.271445</td>\n",
       "      <td>7.279731</td>\n",
       "    </tr>\n",
       "    <tr>\n",
       "      <th>25</th>\n",
       "      <td>WASHINGTON</td>\n",
       "      <td>1244</td>\n",
       "      <td>0.000171</td>\n",
       "      <td>7294336</td>\n",
       "      <td>81.120461</td>\n",
       "      <td>3.394228</td>\n",
       "      <td>42.759299</td>\n",
       "      <td>9.962031</td>\n",
       "      <td>16.277892</td>\n",
       "      <td>6.434496</td>\n",
       "    </tr>\n",
       "    <tr>\n",
       "      <th>6</th>\n",
       "      <td>NEW HAMPSHIRE</td>\n",
       "      <td>608</td>\n",
       "      <td>0.000453</td>\n",
       "      <td>1343622</td>\n",
       "      <td>94.967781</td>\n",
       "      <td>2.726187</td>\n",
       "      <td>42.987175</td>\n",
       "      <td>7.091749</td>\n",
       "      <td>17.000473</td>\n",
       "      <td>6.880545</td>\n",
       "    </tr>\n",
       "  </tbody>\n",
       "</table>\n",
       "</div>"
      ],
      "text/plain": [
       "             NAME  NPS_count  LISTINGS_PER_POP  POPULATION  white_per  \\\n",
       "26      WISCONSIN       1788          0.000309     5778394  87.750057   \n",
       "39        GEORGIA       1327          0.000129    10297484  61.040114   \n",
       "38        FLORIDA       1307          0.000063    20598139  77.628125   \n",
       "25     WASHINGTON       1244          0.000171     7294336  81.120461   \n",
       "6   NEW HAMPSHIRE        608          0.000453     1343622  94.967781   \n",
       "\n",
       "    unemployed_per  edu_WithDegree_per  BelowPoverty_per  Above150_inc_per  \\\n",
       "26        2.689803           37.567537         10.398669         10.132417   \n",
       "39        3.994620           35.560154         13.303005         14.082547   \n",
       "38        3.679227           37.744406         12.077290         11.271445   \n",
       "25        3.394228           42.759299          9.962031         16.277892   \n",
       "6         2.726187           42.987175          7.091749         17.000473   \n",
       "\n",
       "    ind_const_per  \n",
       "26       5.617952  \n",
       "39       6.512929  \n",
       "38       7.279731  \n",
       "25       6.434496  \n",
       "6        6.880545  "
      ]
     },
     "execution_count": 57,
     "metadata": {},
     "output_type": "execute_result"
    }
   ],
   "source": [
    "# test data extracted from our original data frame\n",
    "X.head()"
   ]
  },
  {
   "cell_type": "code",
   "execution_count": 58,
   "metadata": {},
   "outputs": [
    {
     "data": {
      "text/html": [
       "<div>\n",
       "<style scoped>\n",
       "    .dataframe tbody tr th:only-of-type {\n",
       "        vertical-align: middle;\n",
       "    }\n",
       "\n",
       "    .dataframe tbody tr th {\n",
       "        vertical-align: top;\n",
       "    }\n",
       "\n",
       "    .dataframe thead th {\n",
       "        text-align: right;\n",
       "    }\n",
       "</style>\n",
       "<table border=\"1\" class=\"dataframe\">\n",
       "  <thead>\n",
       "    <tr style=\"text-align: right;\">\n",
       "      <th></th>\n",
       "      <th>LISTINGS_PER_POP</th>\n",
       "      <th>POPULATION</th>\n",
       "      <th>white_per</th>\n",
       "      <th>unemployed_per</th>\n",
       "      <th>edu_WithDegree_per</th>\n",
       "      <th>BelowPoverty_per</th>\n",
       "      <th>Above150_inc_per</th>\n",
       "      <th>ind_const_per</th>\n",
       "    </tr>\n",
       "  </thead>\n",
       "  <tbody>\n",
       "    <tr>\n",
       "      <th>26</th>\n",
       "      <td>0.000309</td>\n",
       "      <td>5778394</td>\n",
       "      <td>87.750057</td>\n",
       "      <td>2.689803</td>\n",
       "      <td>37.567537</td>\n",
       "      <td>10.398669</td>\n",
       "      <td>10.132417</td>\n",
       "      <td>5.617952</td>\n",
       "    </tr>\n",
       "    <tr>\n",
       "      <th>39</th>\n",
       "      <td>0.000129</td>\n",
       "      <td>10297484</td>\n",
       "      <td>61.040114</td>\n",
       "      <td>3.994620</td>\n",
       "      <td>35.560154</td>\n",
       "      <td>13.303005</td>\n",
       "      <td>14.082547</td>\n",
       "      <td>6.512929</td>\n",
       "    </tr>\n",
       "    <tr>\n",
       "      <th>38</th>\n",
       "      <td>0.000063</td>\n",
       "      <td>20598139</td>\n",
       "      <td>77.628125</td>\n",
       "      <td>3.679227</td>\n",
       "      <td>37.744406</td>\n",
       "      <td>12.077290</td>\n",
       "      <td>11.271445</td>\n",
       "      <td>7.279731</td>\n",
       "    </tr>\n",
       "    <tr>\n",
       "      <th>25</th>\n",
       "      <td>0.000171</td>\n",
       "      <td>7294336</td>\n",
       "      <td>81.120461</td>\n",
       "      <td>3.394228</td>\n",
       "      <td>42.759299</td>\n",
       "      <td>9.962031</td>\n",
       "      <td>16.277892</td>\n",
       "      <td>6.434496</td>\n",
       "    </tr>\n",
       "    <tr>\n",
       "      <th>6</th>\n",
       "      <td>0.000453</td>\n",
       "      <td>1343622</td>\n",
       "      <td>94.967781</td>\n",
       "      <td>2.726187</td>\n",
       "      <td>42.987175</td>\n",
       "      <td>7.091749</td>\n",
       "      <td>17.000473</td>\n",
       "      <td>6.880545</td>\n",
       "    </tr>\n",
       "  </tbody>\n",
       "</table>\n",
       "</div>"
      ],
      "text/plain": [
       "    LISTINGS_PER_POP  POPULATION  white_per  unemployed_per  \\\n",
       "26          0.000309     5778394  87.750057        2.689803   \n",
       "39          0.000129    10297484  61.040114        3.994620   \n",
       "38          0.000063    20598139  77.628125        3.679227   \n",
       "25          0.000171     7294336  81.120461        3.394228   \n",
       "6           0.000453     1343622  94.967781        2.726187   \n",
       "\n",
       "    edu_WithDegree_per  BelowPoverty_per  Above150_inc_per  ind_const_per  \n",
       "26           37.567537         10.398669         10.132417       5.617952  \n",
       "39           35.560154         13.303005         14.082547       6.512929  \n",
       "38           37.744406         12.077290         11.271445       7.279731  \n",
       "25           42.759299          9.962031         16.277892       6.434496  \n",
       "6            42.987175          7.091749         17.000473       6.880545  "
      ]
     },
     "execution_count": 58,
     "metadata": {},
     "output_type": "execute_result"
    }
   ],
   "source": [
    "test_set.head()"
   ]
  },
  {
   "cell_type": "code",
   "execution_count": 59,
   "metadata": {},
   "outputs": [],
   "source": [
    "# Predictions for log of total trip counts\n",
    "predictions = grid.best_estimator_.predict(test_set)"
   ]
  },
  {
   "cell_type": "code",
   "execution_count": null,
   "metadata": {},
   "outputs": [],
   "source": [
    "# Convert the predicted test values from log\n",
    "X['prediction'] = np.exp(log_predictions)"
   ]
  },
  {
   "cell_type": "code",
   "execution_count": 60,
   "metadata": {},
   "outputs": [
    {
     "ename": "AttributeError",
     "evalue": "'Line2D' object has no property 'column'",
     "output_type": "error",
     "traceback": [
      "\u001b[1;31m---------------------------------------------------------------------------\u001b[0m",
      "\u001b[1;31mAttributeError\u001b[0m                            Traceback (most recent call last)",
      "\u001b[1;32m<ipython-input-60-0931b18162d4>\u001b[0m in \u001b[0;36m<module>\u001b[1;34m\u001b[0m\n\u001b[0;32m      3\u001b[0m \u001b[1;33m\u001b[0m\u001b[0m\n\u001b[0;32m      4\u001b[0m \u001b[1;31m# Predicted values\u001b[0m\u001b[1;33m\u001b[0m\u001b[1;33m\u001b[0m\u001b[1;33m\u001b[0m\u001b[0m\n\u001b[1;32m----> 5\u001b[1;33m \u001b[0mX\u001b[0m\u001b[1;33m.\u001b[0m\u001b[0mplot\u001b[0m\u001b[1;33m(\u001b[0m\u001b[0max\u001b[0m\u001b[1;33m=\u001b[0m\u001b[0maxs\u001b[0m\u001b[1;33m[\u001b[0m\u001b[1;36m0\u001b[0m\u001b[1;33m]\u001b[0m\u001b[1;33m,\u001b[0m \u001b[0mcolumn\u001b[0m\u001b[1;33m=\u001b[0m\u001b[1;34m'prediction'\u001b[0m\u001b[1;33m)\u001b[0m\u001b[1;33m\u001b[0m\u001b[1;33m\u001b[0m\u001b[0m\n\u001b[0m\u001b[0;32m      6\u001b[0m \u001b[0mctx\u001b[0m\u001b[1;33m.\u001b[0m\u001b[0madd_basemap\u001b[0m\u001b[1;33m(\u001b[0m\u001b[0max\u001b[0m\u001b[1;33m=\u001b[0m\u001b[0maxs\u001b[0m\u001b[1;33m[\u001b[0m\u001b[1;36m0\u001b[0m\u001b[1;33m]\u001b[0m\u001b[1;33m,\u001b[0m \u001b[0mcrs\u001b[0m\u001b[1;33m=\u001b[0m\u001b[0mX\u001b[0m\u001b[1;33m.\u001b[0m\u001b[0mcrs\u001b[0m\u001b[1;33m,\u001b[0m \u001b[0msource\u001b[0m\u001b[1;33m=\u001b[0m\u001b[0mctx\u001b[0m\u001b[1;33m.\u001b[0m\u001b[0mproviders\u001b[0m\u001b[1;33m.\u001b[0m\u001b[0mCartoDB\u001b[0m\u001b[1;33m.\u001b[0m\u001b[0mDarkMatter\u001b[0m\u001b[1;33m)\u001b[0m\u001b[1;33m\u001b[0m\u001b[1;33m\u001b[0m\u001b[0m\n\u001b[0;32m      7\u001b[0m \u001b[0maxs\u001b[0m\u001b[1;33m[\u001b[0m\u001b[1;36m0\u001b[0m\u001b[1;33m]\u001b[0m\u001b[1;33m.\u001b[0m\u001b[0mset_title\u001b[0m\u001b[1;33m(\u001b[0m\u001b[1;34m\"Predicted NPS Site Counts\"\u001b[0m\u001b[1;33m)\u001b[0m\u001b[1;33m\u001b[0m\u001b[1;33m\u001b[0m\u001b[0m\n",
      "\u001b[1;32m~\\miniconda3\\envs\\musa-550-fall-2020\\lib\\site-packages\\pandas\\plotting\\_core.py\u001b[0m in \u001b[0;36m__call__\u001b[1;34m(self, *args, **kwargs)\u001b[0m\n\u001b[0;32m    947\u001b[0m                     \u001b[0mdata\u001b[0m\u001b[1;33m.\u001b[0m\u001b[0mcolumns\u001b[0m \u001b[1;33m=\u001b[0m \u001b[0mlabel_name\u001b[0m\u001b[1;33m\u001b[0m\u001b[1;33m\u001b[0m\u001b[0m\n\u001b[0;32m    948\u001b[0m \u001b[1;33m\u001b[0m\u001b[0m\n\u001b[1;32m--> 949\u001b[1;33m         \u001b[1;32mreturn\u001b[0m \u001b[0mplot_backend\u001b[0m\u001b[1;33m.\u001b[0m\u001b[0mplot\u001b[0m\u001b[1;33m(\u001b[0m\u001b[0mdata\u001b[0m\u001b[1;33m,\u001b[0m \u001b[0mkind\u001b[0m\u001b[1;33m=\u001b[0m\u001b[0mkind\u001b[0m\u001b[1;33m,\u001b[0m \u001b[1;33m**\u001b[0m\u001b[0mkwargs\u001b[0m\u001b[1;33m)\u001b[0m\u001b[1;33m\u001b[0m\u001b[1;33m\u001b[0m\u001b[0m\n\u001b[0m\u001b[0;32m    950\u001b[0m \u001b[1;33m\u001b[0m\u001b[0m\n\u001b[0;32m    951\u001b[0m     \u001b[0m__call__\u001b[0m\u001b[1;33m.\u001b[0m\u001b[0m__doc__\u001b[0m \u001b[1;33m=\u001b[0m \u001b[0m__doc__\u001b[0m\u001b[1;33m\u001b[0m\u001b[1;33m\u001b[0m\u001b[0m\n",
      "\u001b[1;32m~\\miniconda3\\envs\\musa-550-fall-2020\\lib\\site-packages\\pandas\\plotting\\_matplotlib\\__init__.py\u001b[0m in \u001b[0;36mplot\u001b[1;34m(data, kind, **kwargs)\u001b[0m\n\u001b[0;32m     59\u001b[0m             \u001b[0mkwargs\u001b[0m\u001b[1;33m[\u001b[0m\u001b[1;34m\"ax\"\u001b[0m\u001b[1;33m]\u001b[0m \u001b[1;33m=\u001b[0m \u001b[0mgetattr\u001b[0m\u001b[1;33m(\u001b[0m\u001b[0max\u001b[0m\u001b[1;33m,\u001b[0m \u001b[1;34m\"left_ax\"\u001b[0m\u001b[1;33m,\u001b[0m \u001b[0max\u001b[0m\u001b[1;33m)\u001b[0m\u001b[1;33m\u001b[0m\u001b[1;33m\u001b[0m\u001b[0m\n\u001b[0;32m     60\u001b[0m     \u001b[0mplot_obj\u001b[0m \u001b[1;33m=\u001b[0m \u001b[0mPLOT_CLASSES\u001b[0m\u001b[1;33m[\u001b[0m\u001b[0mkind\u001b[0m\u001b[1;33m]\u001b[0m\u001b[1;33m(\u001b[0m\u001b[0mdata\u001b[0m\u001b[1;33m,\u001b[0m \u001b[1;33m**\u001b[0m\u001b[0mkwargs\u001b[0m\u001b[1;33m)\u001b[0m\u001b[1;33m\u001b[0m\u001b[1;33m\u001b[0m\u001b[0m\n\u001b[1;32m---> 61\u001b[1;33m     \u001b[0mplot_obj\u001b[0m\u001b[1;33m.\u001b[0m\u001b[0mgenerate\u001b[0m\u001b[1;33m(\u001b[0m\u001b[1;33m)\u001b[0m\u001b[1;33m\u001b[0m\u001b[1;33m\u001b[0m\u001b[0m\n\u001b[0m\u001b[0;32m     62\u001b[0m     \u001b[0mplot_obj\u001b[0m\u001b[1;33m.\u001b[0m\u001b[0mdraw\u001b[0m\u001b[1;33m(\u001b[0m\u001b[1;33m)\u001b[0m\u001b[1;33m\u001b[0m\u001b[1;33m\u001b[0m\u001b[0m\n\u001b[0;32m     63\u001b[0m     \u001b[1;32mreturn\u001b[0m \u001b[0mplot_obj\u001b[0m\u001b[1;33m.\u001b[0m\u001b[0mresult\u001b[0m\u001b[1;33m\u001b[0m\u001b[1;33m\u001b[0m\u001b[0m\n",
      "\u001b[1;32m~\\miniconda3\\envs\\musa-550-fall-2020\\lib\\site-packages\\pandas\\plotting\\_matplotlib\\core.py\u001b[0m in \u001b[0;36mgenerate\u001b[1;34m(self)\u001b[0m\n\u001b[0;32m    269\u001b[0m         \u001b[0mself\u001b[0m\u001b[1;33m.\u001b[0m\u001b[0m_compute_plot_data\u001b[0m\u001b[1;33m(\u001b[0m\u001b[1;33m)\u001b[0m\u001b[1;33m\u001b[0m\u001b[1;33m\u001b[0m\u001b[0m\n\u001b[0;32m    270\u001b[0m         \u001b[0mself\u001b[0m\u001b[1;33m.\u001b[0m\u001b[0m_setup_subplots\u001b[0m\u001b[1;33m(\u001b[0m\u001b[1;33m)\u001b[0m\u001b[1;33m\u001b[0m\u001b[1;33m\u001b[0m\u001b[0m\n\u001b[1;32m--> 271\u001b[1;33m         \u001b[0mself\u001b[0m\u001b[1;33m.\u001b[0m\u001b[0m_make_plot\u001b[0m\u001b[1;33m(\u001b[0m\u001b[1;33m)\u001b[0m\u001b[1;33m\u001b[0m\u001b[1;33m\u001b[0m\u001b[0m\n\u001b[0m\u001b[0;32m    272\u001b[0m         \u001b[0mself\u001b[0m\u001b[1;33m.\u001b[0m\u001b[0m_add_table\u001b[0m\u001b[1;33m(\u001b[0m\u001b[1;33m)\u001b[0m\u001b[1;33m\u001b[0m\u001b[1;33m\u001b[0m\u001b[0m\n\u001b[0;32m    273\u001b[0m         \u001b[0mself\u001b[0m\u001b[1;33m.\u001b[0m\u001b[0m_make_legend\u001b[0m\u001b[1;33m(\u001b[0m\u001b[1;33m)\u001b[0m\u001b[1;33m\u001b[0m\u001b[1;33m\u001b[0m\u001b[0m\n",
      "\u001b[1;32m~\\miniconda3\\envs\\musa-550-fall-2020\\lib\\site-packages\\pandas\\plotting\\_matplotlib\\core.py\u001b[0m in \u001b[0;36m_make_plot\u001b[1;34m(self)\u001b[0m\n\u001b[0;32m   1124\u001b[0m                 \u001b[0mstacking_id\u001b[0m\u001b[1;33m=\u001b[0m\u001b[0mstacking_id\u001b[0m\u001b[1;33m,\u001b[0m\u001b[1;33m\u001b[0m\u001b[1;33m\u001b[0m\u001b[0m\n\u001b[0;32m   1125\u001b[0m                 \u001b[0mis_errorbar\u001b[0m\u001b[1;33m=\u001b[0m\u001b[0mis_errorbar\u001b[0m\u001b[1;33m,\u001b[0m\u001b[1;33m\u001b[0m\u001b[1;33m\u001b[0m\u001b[0m\n\u001b[1;32m-> 1126\u001b[1;33m                 \u001b[1;33m**\u001b[0m\u001b[0mkwds\u001b[0m\u001b[1;33m,\u001b[0m\u001b[1;33m\u001b[0m\u001b[1;33m\u001b[0m\u001b[0m\n\u001b[0m\u001b[0;32m   1127\u001b[0m             )\n\u001b[0;32m   1128\u001b[0m             \u001b[0mself\u001b[0m\u001b[1;33m.\u001b[0m\u001b[0m_add_legend_handle\u001b[0m\u001b[1;33m(\u001b[0m\u001b[0mnewlines\u001b[0m\u001b[1;33m[\u001b[0m\u001b[1;36m0\u001b[0m\u001b[1;33m]\u001b[0m\u001b[1;33m,\u001b[0m \u001b[0mlabel\u001b[0m\u001b[1;33m,\u001b[0m \u001b[0mindex\u001b[0m\u001b[1;33m=\u001b[0m\u001b[0mi\u001b[0m\u001b[1;33m)\u001b[0m\u001b[1;33m\u001b[0m\u001b[1;33m\u001b[0m\u001b[0m\n",
      "\u001b[1;32m~\\miniconda3\\envs\\musa-550-fall-2020\\lib\\site-packages\\pandas\\plotting\\_matplotlib\\core.py\u001b[0m in \u001b[0;36m_plot\u001b[1;34m(cls, ax, x, y, style, column_num, stacking_id, **kwds)\u001b[0m\n\u001b[0;32m   1143\u001b[0m             \u001b[0mcls\u001b[0m\u001b[1;33m.\u001b[0m\u001b[0m_initialize_stacker\u001b[0m\u001b[1;33m(\u001b[0m\u001b[0max\u001b[0m\u001b[1;33m,\u001b[0m \u001b[0mstacking_id\u001b[0m\u001b[1;33m,\u001b[0m \u001b[0mlen\u001b[0m\u001b[1;33m(\u001b[0m\u001b[0my\u001b[0m\u001b[1;33m)\u001b[0m\u001b[1;33m)\u001b[0m\u001b[1;33m\u001b[0m\u001b[1;33m\u001b[0m\u001b[0m\n\u001b[0;32m   1144\u001b[0m         \u001b[0my_values\u001b[0m \u001b[1;33m=\u001b[0m \u001b[0mcls\u001b[0m\u001b[1;33m.\u001b[0m\u001b[0m_get_stacked_values\u001b[0m\u001b[1;33m(\u001b[0m\u001b[0max\u001b[0m\u001b[1;33m,\u001b[0m \u001b[0mstacking_id\u001b[0m\u001b[1;33m,\u001b[0m \u001b[0my\u001b[0m\u001b[1;33m,\u001b[0m \u001b[0mkwds\u001b[0m\u001b[1;33m[\u001b[0m\u001b[1;34m\"label\"\u001b[0m\u001b[1;33m]\u001b[0m\u001b[1;33m)\u001b[0m\u001b[1;33m\u001b[0m\u001b[1;33m\u001b[0m\u001b[0m\n\u001b[1;32m-> 1145\u001b[1;33m         \u001b[0mlines\u001b[0m \u001b[1;33m=\u001b[0m \u001b[0mMPLPlot\u001b[0m\u001b[1;33m.\u001b[0m\u001b[0m_plot\u001b[0m\u001b[1;33m(\u001b[0m\u001b[0max\u001b[0m\u001b[1;33m,\u001b[0m \u001b[0mx\u001b[0m\u001b[1;33m,\u001b[0m \u001b[0my_values\u001b[0m\u001b[1;33m,\u001b[0m \u001b[0mstyle\u001b[0m\u001b[1;33m=\u001b[0m\u001b[0mstyle\u001b[0m\u001b[1;33m,\u001b[0m \u001b[1;33m**\u001b[0m\u001b[0mkwds\u001b[0m\u001b[1;33m)\u001b[0m\u001b[1;33m\u001b[0m\u001b[1;33m\u001b[0m\u001b[0m\n\u001b[0m\u001b[0;32m   1146\u001b[0m         \u001b[0mcls\u001b[0m\u001b[1;33m.\u001b[0m\u001b[0m_update_stacker\u001b[0m\u001b[1;33m(\u001b[0m\u001b[0max\u001b[0m\u001b[1;33m,\u001b[0m \u001b[0mstacking_id\u001b[0m\u001b[1;33m,\u001b[0m \u001b[0my\u001b[0m\u001b[1;33m)\u001b[0m\u001b[1;33m\u001b[0m\u001b[1;33m\u001b[0m\u001b[0m\n\u001b[0;32m   1147\u001b[0m         \u001b[1;32mreturn\u001b[0m \u001b[0mlines\u001b[0m\u001b[1;33m\u001b[0m\u001b[1;33m\u001b[0m\u001b[0m\n",
      "\u001b[1;32m~\\miniconda3\\envs\\musa-550-fall-2020\\lib\\site-packages\\pandas\\plotting\\_matplotlib\\converter.py\u001b[0m in \u001b[0;36mwrapper\u001b[1;34m(*args, **kwargs)\u001b[0m\n\u001b[0;32m     63\u001b[0m     \u001b[1;32mdef\u001b[0m \u001b[0mwrapper\u001b[0m\u001b[1;33m(\u001b[0m\u001b[1;33m*\u001b[0m\u001b[0margs\u001b[0m\u001b[1;33m,\u001b[0m \u001b[1;33m**\u001b[0m\u001b[0mkwargs\u001b[0m\u001b[1;33m)\u001b[0m\u001b[1;33m:\u001b[0m\u001b[1;33m\u001b[0m\u001b[1;33m\u001b[0m\u001b[0m\n\u001b[0;32m     64\u001b[0m         \u001b[1;32mwith\u001b[0m \u001b[0mpandas_converters\u001b[0m\u001b[1;33m(\u001b[0m\u001b[1;33m)\u001b[0m\u001b[1;33m:\u001b[0m\u001b[1;33m\u001b[0m\u001b[1;33m\u001b[0m\u001b[0m\n\u001b[1;32m---> 65\u001b[1;33m             \u001b[1;32mreturn\u001b[0m \u001b[0mfunc\u001b[0m\u001b[1;33m(\u001b[0m\u001b[1;33m*\u001b[0m\u001b[0margs\u001b[0m\u001b[1;33m,\u001b[0m \u001b[1;33m**\u001b[0m\u001b[0mkwargs\u001b[0m\u001b[1;33m)\u001b[0m\u001b[1;33m\u001b[0m\u001b[1;33m\u001b[0m\u001b[0m\n\u001b[0m\u001b[0;32m     66\u001b[0m \u001b[1;33m\u001b[0m\u001b[0m\n\u001b[0;32m     67\u001b[0m     \u001b[1;32mreturn\u001b[0m \u001b[0mwrapper\u001b[0m\u001b[1;33m\u001b[0m\u001b[1;33m\u001b[0m\u001b[0m\n",
      "\u001b[1;32m~\\miniconda3\\envs\\musa-550-fall-2020\\lib\\site-packages\\pandas\\plotting\\_matplotlib\\core.py\u001b[0m in \u001b[0;36m_plot\u001b[1;34m(cls, ax, x, y, style, is_errorbar, **kwds)\u001b[0m\n\u001b[0;32m    666\u001b[0m             \u001b[1;32melse\u001b[0m\u001b[1;33m:\u001b[0m\u001b[1;33m\u001b[0m\u001b[1;33m\u001b[0m\u001b[0m\n\u001b[0;32m    667\u001b[0m                 \u001b[0margs\u001b[0m \u001b[1;33m=\u001b[0m \u001b[1;33m(\u001b[0m\u001b[0mx\u001b[0m\u001b[1;33m,\u001b[0m \u001b[0my\u001b[0m\u001b[1;33m)\u001b[0m\u001b[1;33m\u001b[0m\u001b[1;33m\u001b[0m\u001b[0m\n\u001b[1;32m--> 668\u001b[1;33m             \u001b[1;32mreturn\u001b[0m \u001b[0max\u001b[0m\u001b[1;33m.\u001b[0m\u001b[0mplot\u001b[0m\u001b[1;33m(\u001b[0m\u001b[1;33m*\u001b[0m\u001b[0margs\u001b[0m\u001b[1;33m,\u001b[0m \u001b[1;33m**\u001b[0m\u001b[0mkwds\u001b[0m\u001b[1;33m)\u001b[0m\u001b[1;33m\u001b[0m\u001b[1;33m\u001b[0m\u001b[0m\n\u001b[0m\u001b[0;32m    669\u001b[0m \u001b[1;33m\u001b[0m\u001b[0m\n\u001b[0;32m    670\u001b[0m     \u001b[1;32mdef\u001b[0m \u001b[0m_get_index_name\u001b[0m\u001b[1;33m(\u001b[0m\u001b[0mself\u001b[0m\u001b[1;33m)\u001b[0m\u001b[1;33m:\u001b[0m\u001b[1;33m\u001b[0m\u001b[1;33m\u001b[0m\u001b[0m\n",
      "\u001b[1;32m~\\miniconda3\\envs\\musa-550-fall-2020\\lib\\site-packages\\matplotlib\\axes\\_axes.py\u001b[0m in \u001b[0;36mplot\u001b[1;34m(self, scalex, scaley, data, *args, **kwargs)\u001b[0m\n\u001b[0;32m   1741\u001b[0m         \"\"\"\n\u001b[0;32m   1742\u001b[0m         \u001b[0mkwargs\u001b[0m \u001b[1;33m=\u001b[0m \u001b[0mcbook\u001b[0m\u001b[1;33m.\u001b[0m\u001b[0mnormalize_kwargs\u001b[0m\u001b[1;33m(\u001b[0m\u001b[0mkwargs\u001b[0m\u001b[1;33m,\u001b[0m \u001b[0mmlines\u001b[0m\u001b[1;33m.\u001b[0m\u001b[0mLine2D\u001b[0m\u001b[1;33m)\u001b[0m\u001b[1;33m\u001b[0m\u001b[1;33m\u001b[0m\u001b[0m\n\u001b[1;32m-> 1743\u001b[1;33m         \u001b[0mlines\u001b[0m \u001b[1;33m=\u001b[0m \u001b[1;33m[\u001b[0m\u001b[1;33m*\u001b[0m\u001b[0mself\u001b[0m\u001b[1;33m.\u001b[0m\u001b[0m_get_lines\u001b[0m\u001b[1;33m(\u001b[0m\u001b[1;33m*\u001b[0m\u001b[0margs\u001b[0m\u001b[1;33m,\u001b[0m \u001b[0mdata\u001b[0m\u001b[1;33m=\u001b[0m\u001b[0mdata\u001b[0m\u001b[1;33m,\u001b[0m \u001b[1;33m**\u001b[0m\u001b[0mkwargs\u001b[0m\u001b[1;33m)\u001b[0m\u001b[1;33m]\u001b[0m\u001b[1;33m\u001b[0m\u001b[1;33m\u001b[0m\u001b[0m\n\u001b[0m\u001b[0;32m   1744\u001b[0m         \u001b[1;32mfor\u001b[0m \u001b[0mline\u001b[0m \u001b[1;32min\u001b[0m \u001b[0mlines\u001b[0m\u001b[1;33m:\u001b[0m\u001b[1;33m\u001b[0m\u001b[1;33m\u001b[0m\u001b[0m\n\u001b[0;32m   1745\u001b[0m             \u001b[0mself\u001b[0m\u001b[1;33m.\u001b[0m\u001b[0madd_line\u001b[0m\u001b[1;33m(\u001b[0m\u001b[0mline\u001b[0m\u001b[1;33m)\u001b[0m\u001b[1;33m\u001b[0m\u001b[1;33m\u001b[0m\u001b[0m\n",
      "\u001b[1;32m~\\miniconda3\\envs\\musa-550-fall-2020\\lib\\site-packages\\matplotlib\\axes\\_base.py\u001b[0m in \u001b[0;36m__call__\u001b[1;34m(self, data, *args, **kwargs)\u001b[0m\n\u001b[0;32m    271\u001b[0m                 \u001b[0mthis\u001b[0m \u001b[1;33m+=\u001b[0m \u001b[0margs\u001b[0m\u001b[1;33m[\u001b[0m\u001b[1;36m0\u001b[0m\u001b[1;33m]\u001b[0m\u001b[1;33m,\u001b[0m\u001b[1;33m\u001b[0m\u001b[1;33m\u001b[0m\u001b[0m\n\u001b[0;32m    272\u001b[0m                 \u001b[0margs\u001b[0m \u001b[1;33m=\u001b[0m \u001b[0margs\u001b[0m\u001b[1;33m[\u001b[0m\u001b[1;36m1\u001b[0m\u001b[1;33m:\u001b[0m\u001b[1;33m]\u001b[0m\u001b[1;33m\u001b[0m\u001b[1;33m\u001b[0m\u001b[0m\n\u001b[1;32m--> 273\u001b[1;33m             \u001b[1;32myield\u001b[0m \u001b[1;32mfrom\u001b[0m \u001b[0mself\u001b[0m\u001b[1;33m.\u001b[0m\u001b[0m_plot_args\u001b[0m\u001b[1;33m(\u001b[0m\u001b[0mthis\u001b[0m\u001b[1;33m,\u001b[0m \u001b[0mkwargs\u001b[0m\u001b[1;33m)\u001b[0m\u001b[1;33m\u001b[0m\u001b[1;33m\u001b[0m\u001b[0m\n\u001b[0m\u001b[0;32m    274\u001b[0m \u001b[1;33m\u001b[0m\u001b[0m\n\u001b[0;32m    275\u001b[0m     \u001b[1;32mdef\u001b[0m \u001b[0mget_next_color\u001b[0m\u001b[1;33m(\u001b[0m\u001b[0mself\u001b[0m\u001b[1;33m)\u001b[0m\u001b[1;33m:\u001b[0m\u001b[1;33m\u001b[0m\u001b[1;33m\u001b[0m\u001b[0m\n",
      "\u001b[1;32m~\\miniconda3\\envs\\musa-550-fall-2020\\lib\\site-packages\\matplotlib\\axes\\_base.py\u001b[0m in \u001b[0;36m_plot_args\u001b[1;34m(self, tup, kwargs)\u001b[0m\n\u001b[0;32m    417\u001b[0m             \u001b[1;32mraise\u001b[0m \u001b[0mValueError\u001b[0m\u001b[1;33m(\u001b[0m\u001b[1;34mf\"x has {ncx} columns but y has {ncy} columns\"\u001b[0m\u001b[1;33m)\u001b[0m\u001b[1;33m\u001b[0m\u001b[1;33m\u001b[0m\u001b[0m\n\u001b[0;32m    418\u001b[0m         return [func(x[:, j % ncx], y[:, j % ncy], kw, kwargs)\n\u001b[1;32m--> 419\u001b[1;33m                 for j in range(max(ncx, ncy))]\n\u001b[0m\u001b[0;32m    420\u001b[0m \u001b[1;33m\u001b[0m\u001b[0m\n\u001b[0;32m    421\u001b[0m \u001b[1;33m\u001b[0m\u001b[0m\n",
      "\u001b[1;32m~\\miniconda3\\envs\\musa-550-fall-2020\\lib\\site-packages\\matplotlib\\axes\\_base.py\u001b[0m in \u001b[0;36m<listcomp>\u001b[1;34m(.0)\u001b[0m\n\u001b[0;32m    417\u001b[0m             \u001b[1;32mraise\u001b[0m \u001b[0mValueError\u001b[0m\u001b[1;33m(\u001b[0m\u001b[1;34mf\"x has {ncx} columns but y has {ncy} columns\"\u001b[0m\u001b[1;33m)\u001b[0m\u001b[1;33m\u001b[0m\u001b[1;33m\u001b[0m\u001b[0m\n\u001b[0;32m    418\u001b[0m         return [func(x[:, j % ncx], y[:, j % ncy], kw, kwargs)\n\u001b[1;32m--> 419\u001b[1;33m                 for j in range(max(ncx, ncy))]\n\u001b[0m\u001b[0;32m    420\u001b[0m \u001b[1;33m\u001b[0m\u001b[0m\n\u001b[0;32m    421\u001b[0m \u001b[1;33m\u001b[0m\u001b[0m\n",
      "\u001b[1;32m~\\miniconda3\\envs\\musa-550-fall-2020\\lib\\site-packages\\matplotlib\\axes\\_base.py\u001b[0m in \u001b[0;36m_makeline\u001b[1;34m(self, x, y, kw, kwargs)\u001b[0m\n\u001b[0;32m    310\u001b[0m         \u001b[0mdefault_dict\u001b[0m \u001b[1;33m=\u001b[0m \u001b[0mself\u001b[0m\u001b[1;33m.\u001b[0m\u001b[0m_getdefaults\u001b[0m\u001b[1;33m(\u001b[0m\u001b[0mset\u001b[0m\u001b[1;33m(\u001b[0m\u001b[1;33m)\u001b[0m\u001b[1;33m,\u001b[0m \u001b[0mkw\u001b[0m\u001b[1;33m)\u001b[0m\u001b[1;33m\u001b[0m\u001b[1;33m\u001b[0m\u001b[0m\n\u001b[0;32m    311\u001b[0m         \u001b[0mself\u001b[0m\u001b[1;33m.\u001b[0m\u001b[0m_setdefaults\u001b[0m\u001b[1;33m(\u001b[0m\u001b[0mdefault_dict\u001b[0m\u001b[1;33m,\u001b[0m \u001b[0mkw\u001b[0m\u001b[1;33m)\u001b[0m\u001b[1;33m\u001b[0m\u001b[1;33m\u001b[0m\u001b[0m\n\u001b[1;32m--> 312\u001b[1;33m         \u001b[0mseg\u001b[0m \u001b[1;33m=\u001b[0m \u001b[0mmlines\u001b[0m\u001b[1;33m.\u001b[0m\u001b[0mLine2D\u001b[0m\u001b[1;33m(\u001b[0m\u001b[0mx\u001b[0m\u001b[1;33m,\u001b[0m \u001b[0my\u001b[0m\u001b[1;33m,\u001b[0m \u001b[1;33m**\u001b[0m\u001b[0mkw\u001b[0m\u001b[1;33m)\u001b[0m\u001b[1;33m\u001b[0m\u001b[1;33m\u001b[0m\u001b[0m\n\u001b[0m\u001b[0;32m    313\u001b[0m         \u001b[1;32mreturn\u001b[0m \u001b[0mseg\u001b[0m\u001b[1;33m\u001b[0m\u001b[1;33m\u001b[0m\u001b[0m\n\u001b[0;32m    314\u001b[0m \u001b[1;33m\u001b[0m\u001b[0m\n",
      "\u001b[1;32m~\\miniconda3\\envs\\musa-550-fall-2020\\lib\\site-packages\\matplotlib\\lines.py\u001b[0m in \u001b[0;36m__init__\u001b[1;34m(self, xdata, ydata, linewidth, linestyle, color, marker, markersize, markeredgewidth, markeredgecolor, markerfacecolor, markerfacecoloralt, fillstyle, antialiased, dash_capstyle, solid_capstyle, dash_joinstyle, solid_joinstyle, pickradius, drawstyle, markevery, **kwargs)\u001b[0m\n\u001b[0;32m    388\u001b[0m         \u001b[1;31m# update kwargs before updating data to give the caller a\u001b[0m\u001b[1;33m\u001b[0m\u001b[1;33m\u001b[0m\u001b[1;33m\u001b[0m\u001b[0m\n\u001b[0;32m    389\u001b[0m         \u001b[1;31m# chance to init axes (and hence unit support)\u001b[0m\u001b[1;33m\u001b[0m\u001b[1;33m\u001b[0m\u001b[1;33m\u001b[0m\u001b[0m\n\u001b[1;32m--> 390\u001b[1;33m         \u001b[0mself\u001b[0m\u001b[1;33m.\u001b[0m\u001b[0mupdate\u001b[0m\u001b[1;33m(\u001b[0m\u001b[0mkwargs\u001b[0m\u001b[1;33m)\u001b[0m\u001b[1;33m\u001b[0m\u001b[1;33m\u001b[0m\u001b[0m\n\u001b[0m\u001b[0;32m    391\u001b[0m         \u001b[0mself\u001b[0m\u001b[1;33m.\u001b[0m\u001b[0mpickradius\u001b[0m \u001b[1;33m=\u001b[0m \u001b[0mpickradius\u001b[0m\u001b[1;33m\u001b[0m\u001b[1;33m\u001b[0m\u001b[0m\n\u001b[0;32m    392\u001b[0m         \u001b[0mself\u001b[0m\u001b[1;33m.\u001b[0m\u001b[0mind_offset\u001b[0m \u001b[1;33m=\u001b[0m \u001b[1;36m0\u001b[0m\u001b[1;33m\u001b[0m\u001b[1;33m\u001b[0m\u001b[0m\n",
      "\u001b[1;32m~\\miniconda3\\envs\\musa-550-fall-2020\\lib\\site-packages\\matplotlib\\artist.py\u001b[0m in \u001b[0;36mupdate\u001b[1;34m(self, props)\u001b[0m\n\u001b[0;32m    994\u001b[0m                     \u001b[0mfunc\u001b[0m \u001b[1;33m=\u001b[0m \u001b[0mgetattr\u001b[0m\u001b[1;33m(\u001b[0m\u001b[0mself\u001b[0m\u001b[1;33m,\u001b[0m \u001b[1;34mf\"set_{k}\"\u001b[0m\u001b[1;33m,\u001b[0m \u001b[1;32mNone\u001b[0m\u001b[1;33m)\u001b[0m\u001b[1;33m\u001b[0m\u001b[1;33m\u001b[0m\u001b[0m\n\u001b[0;32m    995\u001b[0m                     \u001b[1;32mif\u001b[0m \u001b[1;32mnot\u001b[0m \u001b[0mcallable\u001b[0m\u001b[1;33m(\u001b[0m\u001b[0mfunc\u001b[0m\u001b[1;33m)\u001b[0m\u001b[1;33m:\u001b[0m\u001b[1;33m\u001b[0m\u001b[1;33m\u001b[0m\u001b[0m\n\u001b[1;32m--> 996\u001b[1;33m                         raise AttributeError(f\"{type(self).__name__!r} object \"\n\u001b[0m\u001b[0;32m    997\u001b[0m                                              f\"has no property {k!r}\")\n\u001b[0;32m    998\u001b[0m                     \u001b[0mret\u001b[0m\u001b[1;33m.\u001b[0m\u001b[0mappend\u001b[0m\u001b[1;33m(\u001b[0m\u001b[0mfunc\u001b[0m\u001b[1;33m(\u001b[0m\u001b[0mv\u001b[0m\u001b[1;33m)\u001b[0m\u001b[1;33m)\u001b[0m\u001b[1;33m\u001b[0m\u001b[1;33m\u001b[0m\u001b[0m\n",
      "\u001b[1;31mAttributeError\u001b[0m: 'Line2D' object has no property 'column'"
     ]
    },
    {
     "data": {
      "image/png": "[encoded data removed]",
      "text/plain": [
       "<Figure size 720x720 with 2 Axes>"
      ]
     },
     "metadata": {
      "needs_background": "light"
     },
     "output_type": "display_data"
    }
   ],
   "source": [
    "# Plot two columns\n",
    "fig, axs = plt.subplots(ncols=2, figsize=(10,10))\n",
    "\n",
    "# Predicted values\n",
    "X.plot(ax=axs[0], column='prediction')\n",
    "ctx.add_basemap(ax=axs[0], crs=X.crs, source=ctx.providers.CartoDB.DarkMatter)\n",
    "axs[0].set_title(\"Predicted NPS Site Counts\")\n",
    "\n",
    "# Actual values\n",
    "X.plot(ax=axs[1], column='NPS_count')\n",
    "ctx.add_basemap(ax=axs[1], crs=X.crs, source=ctx.providers.CartoDB.DarkMatter)\n",
    "axs[1].set_title(\"Actual NPS Site Counts\")\n",
    "\n",
    "\n",
    "axs[0].set_axis_off()\n",
    "axs[1].set_axis_off()"
   ]
  },
  {
   "cell_type": "code",
   "execution_count": null,
   "metadata": {},
   "outputs": [],
   "source": []
  }
 ],
 "metadata": {
  "kernelspec": {
   "display_name": "Python 3",
   "language": "python",
   "name": "python3"
  },
  "language_info": {
   "codemirror_mode": {
    "name": "ipython",
    "version": 3
   },
   "file_extension": ".py",
   "mimetype": "text/x-python",
   "name": "python",
   "nbconvert_exporter": "python",
   "pygments_lexer": "ipython3",
   "version": "3.7.8"
  }
 },
 "nbformat": 4,
 "nbformat_minor": 4
}
